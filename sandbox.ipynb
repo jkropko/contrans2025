{
 "cells": [
  {
   "cell_type": "code",
   "execution_count": 8,
   "id": "db0a073d",
   "metadata": {},
   "outputs": [],
   "source": [
    "from contrans import contrans\n",
    "import pandas as pd\n",
    "import requests\n",
    "import json\n",
    "import os\n",
    "import numpy as np"
   ]
  },
  {
   "cell_type": "code",
   "execution_count": 9,
   "id": "c4293875",
   "metadata": {},
   "outputs": [],
   "source": [
    "ct = contrans()"
   ]
  },
  {
   "cell_type": "code",
   "execution_count": null,
   "id": "a58d59f6",
   "metadata": {},
   "outputs": [
    {
     "name": "stdout",
     "output_type": "stream",
     "text": [
      "511 legislators still to upload\n",
      "Now uploading legislator 1 (H0FL13067) of 511\n",
      "Now uploading legislator 2 (H0GA07034) of 511\n",
      "Now uploading legislator 3 (H0GA09113) of 511\n",
      "Now uploading legislator 4 (H0KY05015) of 511\n"
     ]
    }
   ],
   "source": [
    "ct.get_all_contributions()\n"
   ]
  },
  {
   "cell_type": "code",
   "execution_count": null,
   "id": "ff07e6c5",
   "metadata": {},
   "outputs": [
    {
     "ename": "",
     "evalue": "",
     "output_type": "error",
     "traceback": [
      "\u001b[1;31mnotebook controller is DISPOSED. \n",
      "\u001b[1;31mView Jupyter <a href='command:jupyter.viewOutput'>log</a> for further details."
     ]
    }
   ],
   "source": []
  }
 ],
 "metadata": {
  "kernelspec": {
   "display_name": "ds6001",
   "language": "python",
   "name": "python3"
  },
  "language_info": {
   "codemirror_mode": {
    "name": "ipython",
    "version": 3
   },
   "file_extension": ".py",
   "mimetype": "text/x-python",
   "name": "python",
   "nbconvert_exporter": "python",
   "pygments_lexer": "ipython3",
   "version": "3.13.5"
  }
 },
 "nbformat": 4,
 "nbformat_minor": 5
}
