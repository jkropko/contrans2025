{
 "cells": [
  {
   "cell_type": "code",
   "execution_count": 3,
   "id": "8edfb0eb-9db5-4457-940d-f70d64711ffa",
   "metadata": {},
   "outputs": [],
   "source": [
    "import numpy as np\n",
    "import pandas as pd\n",
    "import os"
   ]
  },
  {
   "cell_type": "code",
   "execution_count": 5,
   "id": "7b9a44e3-9544-4f6a-9579-b841a5956e2d",
   "metadata": {},
   "outputs": [],
   "source": [
    "password = os.getenv('secretpassword')"
   ]
  },
  {
   "cell_type": "code",
   "execution_count": null,
   "id": "cab73cb8-d40e-4d18-9584-bd6656b47eab",
   "metadata": {},
   "outputs": [],
   "source": []
  }
 ],
 "metadata": {
  "kernelspec": {
   "display_name": "Python 3 (ipykernel)",
   "language": "python",
   "name": "python3"
  },
  "language_info": {
   "codemirror_mode": {
    "name": "ipython",
    "version": 3
   },
   "file_extension": ".py",
   "mimetype": "text/x-python",
   "name": "python",
   "nbconvert_exporter": "python",
   "pygments_lexer": "ipython3",
   "version": "3.13.7"
  }
 },
 "nbformat": 4,
 "nbformat_minor": 5
}
