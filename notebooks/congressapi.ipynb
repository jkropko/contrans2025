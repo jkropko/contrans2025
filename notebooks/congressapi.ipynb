{
 "cells": [
  {
   "cell_type": "code",
   "execution_count": 1,
   "id": "458d36e7",
   "metadata": {},
   "outputs": [],
   "source": [
    "import numpy as np\n",
    "import pandas as pd\n",
    "import requests\n",
    "import json\n",
    "import dotenv\n",
    "import os"
   ]
  },
  {
   "cell_type": "markdown",
   "id": "0a7171ab",
   "metadata": {},
   "source": [
    "## Getting Biographical Data from the Congress API\n",
    "\n",
    "The most important skill is reading the API documentation efficiently.\n",
    "\n",
    "Look ONLY for these five things:\n",
    "\n",
    "1. Root: the beginning part of all URLs associated with this API for getting data back (I often find this in examples first)\n",
    "\n",
    "https://api.congress.gov/v3\n",
    "\n",
    "2. Endpoint: the second part of the URL, generally it points to a specific data set to be returned\n",
    "\n",
    "/member/{bioguideId}\n",
    "\n",
    "The curly braces mean: fill this in for whichever member of congress you want\n",
    "\n",
    "3. The headers: data that WE give to the API to identify ourselves, and provide other information if requested\n",
    " * User Agent string: a string that identifies your software. If you are writing a Bot, what is your bot's name, and what methods are you using to access this API.\n",
    "\n",
    " The standard convention is:\n",
    "\n",
    " 'botname/version (email) python-requests/request-package-version'\n",
    "\n"
   ]
  },
  {
   "cell_type": "code",
   "execution_count": 2,
   "id": "64002d1e",
   "metadata": {},
   "outputs": [
    {
     "data": {
      "text/plain": [
       "{'User-Agent': 'targ/0.0 (jkropko@virginia.edu) python-requests/2.32.5'}"
      ]
     },
     "execution_count": 2,
     "metadata": {},
     "output_type": "execute_result"
    }
   ],
   "source": [
    "botname = 'targ'\n",
    "version = '0.0'\n",
    "email = 'jkropko@virginia.edu'\n",
    "useragent = f'{botname}/{version} ({email}) python-requests/{requests.__version__}'\n",
    "headers = {'User-Agent':useragent}\n",
    "headers"
   ]
  },
  {
   "cell_type": "markdown",
   "id": "3907f4f1",
   "metadata": {},
   "source": [
    "4. API Parameters: these are ways to control what data is requested. The parameters are generally listed in the documentation for each endpoint. 3 kinds of parameter:\n",
    "\n",
    "* Query parameters: should be listed in a dictionary and passed to the `params` argument of `requests.get()`\n",
    "\n",
    "* Path parameters: are part of the endpoint (such as bioguideId)\n",
    "\n",
    "* Global parameters: apply to any use of the API regardless of endpoint. Often that includes your API key. Can be in either the headers or the params\n",
    "\n",
    "5. If an API Key is needed, how to get one, and how will you let the API know the key?\n",
    "\n",
    "API keys should be saved in a .env file in the same folder as your code. Use `dotenv` package to load the key into your code without ever displaying/exposing your key."
   ]
  },
  {
   "cell_type": "code",
   "execution_count": 3,
   "id": "b7e58edd",
   "metadata": {},
   "outputs": [],
   "source": [
    "dotenv.load_dotenv()\n",
    "congresskey = os.getenv('congresskey')"
   ]
  },
  {
   "cell_type": "code",
   "execution_count": 4,
   "id": "bcf773cf",
   "metadata": {},
   "outputs": [],
   "source": [
    "params = {'format': 'json',\n",
    "          'api_key': congresskey} "
   ]
  },
  {
   "cell_type": "markdown",
   "id": "79d7e5c7",
   "metadata": {},
   "source": [
    "Put it all together."
   ]
  },
  {
   "cell_type": "code",
   "execution_count": 5,
   "id": "4d1c089f",
   "metadata": {},
   "outputs": [
    {
     "data": {
      "text/plain": [
       "<Response [200]>"
      ]
     },
     "execution_count": 5,
     "metadata": {},
     "output_type": "execute_result"
    }
   ],
   "source": [
    "bioguideId = 'M001239'\n",
    "root = 'https://api.congress.gov/v3'\n",
    "endpoint = f'/member/{bioguideId}'\n",
    "\n",
    "r = requests.get(root + endpoint, \n",
    "                headers = headers,\n",
    "                params = params)\n",
    "r"
   ]
  },
  {
   "cell_type": "code",
   "execution_count": 6,
   "id": "1576f691",
   "metadata": {},
   "outputs": [
    {
     "data": {
      "text/plain": [
       "{'member': {'addressInformation': {'city': 'Washington',\n",
       "   'district': 'DC',\n",
       "   'officeAddress': '1013 Longworth House Office Building',\n",
       "   'phoneNumber': '(202) 225-4711',\n",
       "   'zipCode': 20515},\n",
       "  'bioguideId': 'M001239',\n",
       "  'birthYear': '1968',\n",
       "  'cosponsoredLegislation': {'count': 168,\n",
       "   'url': 'https://api.congress.gov/v3/member/M001239/cosponsored-legislation'},\n",
       "  'currentMember': True,\n",
       "  'depiction': {'attribution': 'Image courtesy of the Member',\n",
       "   'imageUrl': 'https://www.congress.gov/img/member/67744ba20b34857ecc909149_200.jpg'},\n",
       "  'directOrderName': 'John J. McGuire III',\n",
       "  'district': 5,\n",
       "  'firstName': 'John',\n",
       "  'honorificName': 'Mr.',\n",
       "  'invertedOrderName': 'McGuire, John J.',\n",
       "  'lastName': 'McGuire',\n",
       "  'middleName': 'J.',\n",
       "  'officialWebsiteUrl': 'https://mcguire.house.gov/',\n",
       "  'partyHistory': [{'partyAbbreviation': 'R',\n",
       "    'partyName': 'Republican',\n",
       "    'startYear': 2025}],\n",
       "  'previousNames': [{'directOrderName': 'John McGuire',\n",
       "    'endDate': '2025-01-10T17:36:18Z',\n",
       "    'firstName': 'John',\n",
       "    'honorificName': 'Mr.',\n",
       "    'invertedOrderName': 'McGuire, John',\n",
       "    'lastName': 'McGuire',\n",
       "    'middleName': 'J.',\n",
       "    'startDate': '2025-01-03T17:00:00Z'},\n",
       "   {'directOrderName': 'John McGuire',\n",
       "    'endDate': '2025-01-17T04:59:59Z',\n",
       "    'firstName': 'John',\n",
       "    'honorificName': 'Mr.',\n",
       "    'invertedOrderName': 'McGuire, John',\n",
       "    'lastName': 'McGuire',\n",
       "    'middleName': 'J.',\n",
       "    'startDate': '2025-01-10T17:36:19Z'},\n",
       "   {'directOrderName': 'John McGuire',\n",
       "    'endDate': '2025-04-28T13:04:26Z',\n",
       "    'firstName': 'John',\n",
       "    'honorificName': 'Mr.',\n",
       "    'invertedOrderName': 'McGuire, John',\n",
       "    'lastName': 'McGuire',\n",
       "    'middleName': 'J.',\n",
       "    'startDate': '2025-01-17T05:00:00Z'},\n",
       "   {'directOrderName': 'John J. McGuire III',\n",
       "    'firstName': 'John',\n",
       "    'honorificName': 'Mr.',\n",
       "    'invertedOrderName': 'McGuire, John J.',\n",
       "    'lastName': 'McGuire',\n",
       "    'middleName': 'J.',\n",
       "    'startDate': '2025-04-28T13:04:27Z'}],\n",
       "  'sponsoredLegislation': {'count': 9,\n",
       "   'url': 'https://api.congress.gov/v3/member/M001239/sponsored-legislation'},\n",
       "  'state': 'Virginia',\n",
       "  'suffixName': 'III',\n",
       "  'terms': [{'chamber': 'House of Representatives',\n",
       "    'congress': 119,\n",
       "    'district': 5,\n",
       "    'memberType': 'Representative',\n",
       "    'startYear': 2025,\n",
       "    'stateCode': 'VA',\n",
       "    'stateName': 'Virginia'}],\n",
       "  'updateDate': '2025-09-24T07:40:20Z'},\n",
       " 'request': {'bioguideId': 'm001239',\n",
       "  'contentType': 'application/json',\n",
       "  'format': 'json'}}"
      ]
     },
     "execution_count": 6,
     "metadata": {},
     "output_type": "execute_result"
    }
   ],
   "source": [
    "r.json()"
   ]
  },
  {
   "cell_type": "markdown",
   "id": "ceda19f8",
   "metadata": {},
   "source": [
    "## Sponsored legislation"
   ]
  },
  {
   "cell_type": "code",
   "execution_count": 7,
   "id": "fac0d003",
   "metadata": {},
   "outputs": [
    {
     "data": {
      "text/plain": [
       "'/member/M001239/sponsored-legislation'"
      ]
     },
     "execution_count": 7,
     "metadata": {},
     "output_type": "execute_result"
    }
   ],
   "source": [
    "endpoint = f'/member/{bioguideId}/sponsored-legislation'\n",
    "endpoint"
   ]
  },
  {
   "cell_type": "code",
   "execution_count": 9,
   "id": "f236fd9e",
   "metadata": {},
   "outputs": [],
   "source": [
    "params = {'format': 'json',\n",
    "          'offset': 0,\n",
    "          'limit': 250,\n",
    "          'api_key': congresskey}\n"
   ]
  },
  {
   "cell_type": "code",
   "execution_count": 10,
   "id": "7587fb57",
   "metadata": {},
   "outputs": [
    {
     "data": {
      "text/plain": [
       "<Response [200]>"
      ]
     },
     "execution_count": 10,
     "metadata": {},
     "output_type": "execute_result"
    }
   ],
   "source": [
    "r = requests.get(root + endpoint,\n",
    "                 headers=headers,\n",
    "                 params=params)\n",
    "r"
   ]
  },
  {
   "cell_type": "code",
   "execution_count": 12,
   "id": "dd1f8ebf",
   "metadata": {},
   "outputs": [],
   "source": [
    "myjson = r.json()"
   ]
  },
  {
   "cell_type": "code",
   "execution_count": 18,
   "id": "af6a1c9d",
   "metadata": {},
   "outputs": [],
   "source": [
    "#myjson['sponsoredLegislation']\n",
    "\n",
    "sponsoredLegislation_df = pd.json_normalize(myjson, record_path=['sponsoredLegislation'])"
   ]
  },
  {
   "cell_type": "code",
   "execution_count": 23,
   "id": "8b5717a7",
   "metadata": {},
   "outputs": [
    {
     "name": "stdout",
     "output_type": "stream",
     "text": [
      "To amend the Internal Revenue Code of 1986 to modify the tax on remittance transfers.\n",
      "To change the name of the Department of Defense to the \"Department of War\", and for other purposes.\n",
      "Border Wall Status Act\n",
      "Make the District of Columbia Safe and Beautiful Act\n",
      "FAIR Act\n",
      "VA Data Transparency and Trust Act\n",
      "Manned Aircraft Clarification Act\n",
      "Uranium for Energy Independence Act of 2025\n",
      "Agricultural and Forestry Hauling Efficiency Act\n"
     ]
    }
   ],
   "source": [
    "for x in sponsoredLegislation_df['title']:\n",
    "    print(x)"
   ]
  },
  {
   "cell_type": "code",
   "execution_count": 25,
   "id": "ea6f19f7",
   "metadata": {},
   "outputs": [
    {
     "data": {
      "text/plain": [
       "<Response [200]>"
      ]
     },
     "execution_count": 25,
     "metadata": {},
     "output_type": "execute_result"
    }
   ],
   "source": [
    "r = requests.get(sponsoredLegislation_df['url'][3],\n",
    "                 headers=headers,\n",
    "                 params=params)\n",
    "r"
   ]
  },
  {
   "cell_type": "code",
   "execution_count": 26,
   "id": "bca3d758",
   "metadata": {},
   "outputs": [
    {
     "data": {
      "text/plain": [
       "{'bill': {'actions': {'count': 6,\n",
       "   'url': 'https://api.congress.gov/v3/bill/119/hr/5103/actions?format=json'},\n",
       "  'committees': {'count': 2,\n",
       "   'url': 'https://api.congress.gov/v3/bill/119/hr/5103/committees?format=json'},\n",
       "  'congress': 119,\n",
       "  'constitutionalAuthorityStatementText': '<pre>\\n[Congressional Record Volume 171, Number 144 (Wednesday, September 3, 2025)]\\n[House]\\nFrom the Congressional Record Online through the Government Publishing Office [<a href=\"https://www.gpo.gov\">www.gpo.gov</a>]\\nBy Mr. McGUIRE:\\nH.R. 5103.\\nCongress has the power to enact this legislation pursuant\\nto the following:\\nArticle I, Section 8\\n[Page H3829]\\n</pre>',\n",
       "  'cosponsors': {'count': 3,\n",
       "   'countIncludingWithdrawnCosponsors': 3,\n",
       "   'url': 'https://api.congress.gov/v3/bill/119/hr/5103/cosponsors?format=json'},\n",
       "  'introducedDate': '2025-09-03',\n",
       "  'latestAction': {'actionDate': '2025-09-10',\n",
       "   'text': 'Ordered to be Reported (Amended) by the Yeas and Nays: 25 - 19.'},\n",
       "  'legislationUrl': 'https://www.congress.gov/bill/119th-congress/house-bill/5103',\n",
       "  'number': '5103',\n",
       "  'originChamber': 'House',\n",
       "  'originChamberCode': 'H',\n",
       "  'policyArea': {'name': 'Public Lands and Natural Resources'},\n",
       "  'sponsors': [{'bioguideId': 'M001239',\n",
       "    'district': 5,\n",
       "    'firstName': 'John',\n",
       "    'fullName': 'Rep. McGuire, John J. [R-VA-5]',\n",
       "    'isByRequest': 'N',\n",
       "    'lastName': 'McGuire',\n",
       "    'middleName': 'J.',\n",
       "    'party': 'R',\n",
       "    'state': 'VA',\n",
       "    'url': 'https://api.congress.gov/v3/member/M001239?format=json'}],\n",
       "  'subjects': {'count': 14,\n",
       "   'url': 'https://api.congress.gov/v3/bill/119/hr/5103/subjects?format=json'},\n",
       "  'summaries': {'count': 1,\n",
       "   'url': 'https://api.congress.gov/v3/bill/119/hr/5103/summaries?format=json'},\n",
       "  'textVersions': {'count': 1,\n",
       "   'url': 'https://api.congress.gov/v3/bill/119/hr/5103/text?format=json'},\n",
       "  'title': 'Make the District of Columbia Safe and Beautiful Act',\n",
       "  'titles': {'count': 3,\n",
       "   'url': 'https://api.congress.gov/v3/bill/119/hr/5103/titles?format=json'},\n",
       "  'type': 'HR',\n",
       "  'updateDate': '2025-09-29T13:58:13Z',\n",
       "  'updateDateIncludingText': '2025-09-29T13:58:13Z'},\n",
       " 'request': {'billNumber': '5103',\n",
       "  'billType': 'hr',\n",
       "  'congress': '119',\n",
       "  'contentType': 'application/json',\n",
       "  'format': 'json'}}"
      ]
     },
     "execution_count": 26,
     "metadata": {},
     "output_type": "execute_result"
    }
   ],
   "source": [
    "r.json()"
   ]
  },
  {
   "cell_type": "markdown",
   "id": "8e6b7675",
   "metadata": {},
   "source": [
    "## FEC Data for financial campaign contributions"
   ]
  },
  {
   "cell_type": "code",
   "execution_count": null,
   "id": "605c636f",
   "metadata": {},
   "outputs": [],
   "source": [
    "dotenv.load_dotenv()\n",
    "feckey = os.getenv('feckey')"
   ]
  },
  {
   "cell_type": "code",
   "execution_count": 45,
   "id": "b991815e",
   "metadata": {},
   "outputs": [
    {
     "data": {
      "text/plain": [
       "<Response [200]>"
      ]
     },
     "execution_count": 45,
     "metadata": {},
     "output_type": "execute_result"
    }
   ],
   "source": [
    "root = 'https://api.open.fec.gov'\n",
    "endpoint = '/v1/candidates/search/'\n",
    "\n",
    "params = {'api_key': feckey,\n",
    "          'q': 'John McGuire',\n",
    "          'state': 'VA',\n",
    "          'district': '5',\n",
    "          'office': 'H'}\n",
    "r = requests.get(root + endpoint,\n",
    "                 params=params,\n",
    "                 headers=headers)\n",
    "r"
   ]
  },
  {
   "cell_type": "code",
   "execution_count": 49,
   "id": "93244a9f",
   "metadata": {},
   "outputs": [
    {
     "data": {
      "text/plain": [
       "'H0VA07133'"
      ]
     },
     "execution_count": 49,
     "metadata": {},
     "output_type": "execute_result"
    }
   ],
   "source": [
    "myjson = r.json()\n",
    "candidate_id = myjson['results'][0]['candidate_id']\n",
    "candidate_id"
   ]
  },
  {
   "cell_type": "code",
   "execution_count": 58,
   "id": "0cf51595",
   "metadata": {},
   "outputs": [
    {
     "data": {
      "text/plain": [
       "<Response [200]>"
      ]
     },
     "execution_count": 58,
     "metadata": {},
     "output_type": "execute_result"
    }
   ],
   "source": [
    "endpoint = f'/v1/candidate/{candidate_id}/committees/'\n",
    "params = {'api_key': feckey}\n",
    "\n",
    "r = requests.get(root + endpoint,\n",
    "                 params=params,\n",
    "                 headers=headers)\n",
    "r   "
   ]
  },
  {
   "cell_type": "code",
   "execution_count": 62,
   "id": "6a283aa9",
   "metadata": {},
   "outputs": [
    {
     "data": {
      "text/plain": [
       "['C00727594', 'C00856831', 'C00900118']"
      ]
     },
     "execution_count": 62,
     "metadata": {},
     "output_type": "execute_result"
    }
   ],
   "source": [
    "committee_ids = [x['committee_id'] for x in r.json()['results']]\n",
    "committee_ids"
   ]
  },
  {
   "cell_type": "code",
   "execution_count": 65,
   "id": "4acfc0be",
   "metadata": {},
   "outputs": [
    {
     "data": {
      "text/plain": [
       "<Response [200]>"
      ]
     },
     "execution_count": 65,
     "metadata": {},
     "output_type": "execute_result"
    }
   ],
   "source": [
    "endpoint = '/v1/schedules/schedule_a/'\n",
    "params = {'api_key': feckey,\n",
    "          'committee_id': committee_ids[1],\n",
    "          'two_year_transaction_period': '2026'}\n",
    "\n",
    "r = requests.get(root + endpoint,\n",
    "                 params=params,\n",
    "                 headers=headers)\n",
    "r"
   ]
  },
  {
   "cell_type": "code",
   "execution_count": 76,
   "id": "c5e5dd3d",
   "metadata": {},
   "outputs": [
    {
     "data": {
      "text/html": [
       "<div>\n",
       "<style scoped>\n",
       "    .dataframe tbody tr th:only-of-type {\n",
       "        vertical-align: middle;\n",
       "    }\n",
       "\n",
       "    .dataframe tbody tr th {\n",
       "        vertical-align: top;\n",
       "    }\n",
       "\n",
       "    .dataframe thead th {\n",
       "        text-align: right;\n",
       "    }\n",
       "</style>\n",
       "<table border=\"1\" class=\"dataframe\">\n",
       "  <thead>\n",
       "    <tr style=\"text-align: right;\">\n",
       "      <th></th>\n",
       "      <th>contributor_name</th>\n",
       "      <th>contributor_aggregate_ytd</th>\n",
       "      <th>memo_text</th>\n",
       "    </tr>\n",
       "  </thead>\n",
       "  <tbody>\n",
       "    <tr>\n",
       "      <th>0</th>\n",
       "      <td>MCGUIRE VICTORY FUND</td>\n",
       "      <td>72433.73</td>\n",
       "      <td>TRANSFER FROM JOINT FUNDRAISER</td>\n",
       "    </tr>\n",
       "    <tr>\n",
       "      <th>1</th>\n",
       "      <td>REPUBLICAN MAINSTREET PARTNERSHIP PAC</td>\n",
       "      <td>1000.00</td>\n",
       "      <td>MEMO TRANSFER FROM JOINT FUNDRAISER-MCGUIRE VI...</td>\n",
       "    </tr>\n",
       "    <tr>\n",
       "      <th>2</th>\n",
       "      <td>STOUDT, PETER A</td>\n",
       "      <td>2000.00</td>\n",
       "      <td>MEMO TRANSFER FROM JOINT FUNDRAISER-MCGUIRE VI...</td>\n",
       "    </tr>\n",
       "    <tr>\n",
       "      <th>3</th>\n",
       "      <td>STINSON, BEVERLEY</td>\n",
       "      <td>1000.00</td>\n",
       "      <td>MEMO TRANSFER FROM JOINT FUNDRAISER-MCGUIRE VI...</td>\n",
       "    </tr>\n",
       "    <tr>\n",
       "      <th>4</th>\n",
       "      <td>GRANT, PETER M II</td>\n",
       "      <td>5000.00</td>\n",
       "      <td>MEMO TRANSFER FROM JOINT FUNDRAISER-MCGUIRE VI...</td>\n",
       "    </tr>\n",
       "    <tr>\n",
       "      <th>5</th>\n",
       "      <td>COLE, JON C</td>\n",
       "      <td>1000.00</td>\n",
       "      <td>MEMO TRANSFER FROM JOINT FUNDRAISER-MCGUIRE VI...</td>\n",
       "    </tr>\n",
       "    <tr>\n",
       "      <th>6</th>\n",
       "      <td>CARY, ROBERT M</td>\n",
       "      <td>2500.00</td>\n",
       "      <td>MEMO TRANSFER FROM JOINT FUNDRAISER-MCGUIRE VI...</td>\n",
       "    </tr>\n",
       "    <tr>\n",
       "      <th>7</th>\n",
       "      <td>MCGUIRE VICTORY FUND</td>\n",
       "      <td>72433.73</td>\n",
       "      <td>TRANSFER FROM JOINT FUNDRAISER</td>\n",
       "    </tr>\n",
       "    <tr>\n",
       "      <th>8</th>\n",
       "      <td>MCGUIRE VICTORY FUND</td>\n",
       "      <td>72433.73</td>\n",
       "      <td>TOTAL OF UNITEMIZED CONTRIBUTIONS PART OF A TR...</td>\n",
       "    </tr>\n",
       "    <tr>\n",
       "      <th>9</th>\n",
       "      <td>GRANT, PETER M II</td>\n",
       "      <td>5000.00</td>\n",
       "      <td>MEMO TRANSFER FROM JOINT FUNDRAISER-MCGUIRE VI...</td>\n",
       "    </tr>\n",
       "    <tr>\n",
       "      <th>10</th>\n",
       "      <td>MCGUIRE VICTORY FUND</td>\n",
       "      <td>66488.21</td>\n",
       "      <td>TOTAL OF UNITEMIZED CONTRIBUTIONS PART OF A TR...</td>\n",
       "    </tr>\n",
       "    <tr>\n",
       "      <th>11</th>\n",
       "      <td>MCGUIRE VICTORY FUND</td>\n",
       "      <td>66488.21</td>\n",
       "      <td>TRANSFER FROM JOINT FUNDRAISER</td>\n",
       "    </tr>\n",
       "    <tr>\n",
       "      <th>12</th>\n",
       "      <td>SCIENCE APPLICATIONS INTERNATIONAL CORPORATION...</td>\n",
       "      <td>2500.00</td>\n",
       "      <td>None</td>\n",
       "    </tr>\n",
       "    <tr>\n",
       "      <th>13</th>\n",
       "      <td>NATIONAL WOODEN PALLET AND CONTAINER ASSOCIATI...</td>\n",
       "      <td>1500.00</td>\n",
       "      <td>None</td>\n",
       "    </tr>\n",
       "    <tr>\n",
       "      <th>14</th>\n",
       "      <td>NATIONAL STONE, SAND &amp; GRAVEL ASSOCIATION ROCKPAC</td>\n",
       "      <td>2500.00</td>\n",
       "      <td>None</td>\n",
       "    </tr>\n",
       "    <tr>\n",
       "      <th>15</th>\n",
       "      <td>HUNTINGTON INGALLS INDUSTRIES, INC. EMPLOYEES ...</td>\n",
       "      <td>2000.00</td>\n",
       "      <td>None</td>\n",
       "    </tr>\n",
       "    <tr>\n",
       "      <th>16</th>\n",
       "      <td>ELBIT SYSTEMS OF AMERICA LLC POLITICAL ACTION ...</td>\n",
       "      <td>500.00</td>\n",
       "      <td>None</td>\n",
       "    </tr>\n",
       "    <tr>\n",
       "      <th>17</th>\n",
       "      <td>AMERICAN BATTLEGROUND FUND</td>\n",
       "      <td>2800.55</td>\n",
       "      <td>None</td>\n",
       "    </tr>\n",
       "    <tr>\n",
       "      <th>18</th>\n",
       "      <td>MOSMAN, DON</td>\n",
       "      <td>8000.00</td>\n",
       "      <td>MEMO: SPLIT OF-TIGER LILY CAPITAL LLC</td>\n",
       "    </tr>\n",
       "    <tr>\n",
       "      <th>19</th>\n",
       "      <td>TIGER LILY CAPITAL LLC</td>\n",
       "      <td>5000.00</td>\n",
       "      <td>REDESIGNATION FROM</td>\n",
       "    </tr>\n",
       "  </tbody>\n",
       "</table>\n",
       "</div>"
      ],
      "text/plain": [
       "                                     contributor_name  \\\n",
       "0                                MCGUIRE VICTORY FUND   \n",
       "1               REPUBLICAN MAINSTREET PARTNERSHIP PAC   \n",
       "2                                     STOUDT, PETER A   \n",
       "3                                   STINSON, BEVERLEY   \n",
       "4                                   GRANT, PETER M II   \n",
       "5                                         COLE, JON C   \n",
       "6                                      CARY, ROBERT M   \n",
       "7                                MCGUIRE VICTORY FUND   \n",
       "8                                MCGUIRE VICTORY FUND   \n",
       "9                                   GRANT, PETER M II   \n",
       "10                               MCGUIRE VICTORY FUND   \n",
       "11                               MCGUIRE VICTORY FUND   \n",
       "12  SCIENCE APPLICATIONS INTERNATIONAL CORPORATION...   \n",
       "13  NATIONAL WOODEN PALLET AND CONTAINER ASSOCIATI...   \n",
       "14  NATIONAL STONE, SAND & GRAVEL ASSOCIATION ROCKPAC   \n",
       "15  HUNTINGTON INGALLS INDUSTRIES, INC. EMPLOYEES ...   \n",
       "16  ELBIT SYSTEMS OF AMERICA LLC POLITICAL ACTION ...   \n",
       "17                         AMERICAN BATTLEGROUND FUND   \n",
       "18                                        MOSMAN, DON   \n",
       "19                             TIGER LILY CAPITAL LLC   \n",
       "\n",
       "    contributor_aggregate_ytd  \\\n",
       "0                    72433.73   \n",
       "1                     1000.00   \n",
       "2                     2000.00   \n",
       "3                     1000.00   \n",
       "4                     5000.00   \n",
       "5                     1000.00   \n",
       "6                     2500.00   \n",
       "7                    72433.73   \n",
       "8                    72433.73   \n",
       "9                     5000.00   \n",
       "10                   66488.21   \n",
       "11                   66488.21   \n",
       "12                    2500.00   \n",
       "13                    1500.00   \n",
       "14                    2500.00   \n",
       "15                    2000.00   \n",
       "16                     500.00   \n",
       "17                    2800.55   \n",
       "18                    8000.00   \n",
       "19                    5000.00   \n",
       "\n",
       "                                            memo_text  \n",
       "0                      TRANSFER FROM JOINT FUNDRAISER  \n",
       "1   MEMO TRANSFER FROM JOINT FUNDRAISER-MCGUIRE VI...  \n",
       "2   MEMO TRANSFER FROM JOINT FUNDRAISER-MCGUIRE VI...  \n",
       "3   MEMO TRANSFER FROM JOINT FUNDRAISER-MCGUIRE VI...  \n",
       "4   MEMO TRANSFER FROM JOINT FUNDRAISER-MCGUIRE VI...  \n",
       "5   MEMO TRANSFER FROM JOINT FUNDRAISER-MCGUIRE VI...  \n",
       "6   MEMO TRANSFER FROM JOINT FUNDRAISER-MCGUIRE VI...  \n",
       "7                      TRANSFER FROM JOINT FUNDRAISER  \n",
       "8   TOTAL OF UNITEMIZED CONTRIBUTIONS PART OF A TR...  \n",
       "9   MEMO TRANSFER FROM JOINT FUNDRAISER-MCGUIRE VI...  \n",
       "10  TOTAL OF UNITEMIZED CONTRIBUTIONS PART OF A TR...  \n",
       "11                     TRANSFER FROM JOINT FUNDRAISER  \n",
       "12                                               None  \n",
       "13                                               None  \n",
       "14                                               None  \n",
       "15                                               None  \n",
       "16                                               None  \n",
       "17                                               None  \n",
       "18              MEMO: SPLIT OF-TIGER LILY CAPITAL LLC  \n",
       "19                                 REDESIGNATION FROM  "
      ]
     },
     "execution_count": 76,
     "metadata": {},
     "output_type": "execute_result"
    }
   ],
   "source": [
    "contrib_dict = [{'contributor_name': x['contributor_name'],\n",
    "                'contributor_aggregate_ytd': x['contributor_aggregate_ytd'],\n",
    "                'memo_text': x['memo_text']} for x in r.json()['results']]\n",
    "pd.DataFrame(contrib_dict)"
   ]
  },
  {
   "cell_type": "code",
   "execution_count": 72,
   "id": "ac0a1d8b",
   "metadata": {},
   "outputs": [
    {
     "data": {
      "text/plain": [
       "{'amendment_indicator': 'N',\n",
       " 'amendment_indicator_desc': 'NO CHANGE',\n",
       " 'back_reference_schedule_name': None,\n",
       " 'back_reference_transaction_id': 'A-3184',\n",
       " 'candidate_first_name': None,\n",
       " 'candidate_id': None,\n",
       " 'candidate_last_name': None,\n",
       " 'candidate_middle_name': None,\n",
       " 'candidate_name': None,\n",
       " 'candidate_office': None,\n",
       " 'candidate_office_district': None,\n",
       " 'candidate_office_full': None,\n",
       " 'candidate_office_state': None,\n",
       " 'candidate_office_state_full': None,\n",
       " 'candidate_prefix': None,\n",
       " 'candidate_suffix': None,\n",
       " 'committee': {'affiliated_committee_name': 'MCGUIRE VICTORY FUND',\n",
       "  'candidate_ids': ['H0VA07133'],\n",
       "  'city': 'MANAKIN SABOT',\n",
       "  'committee_id': 'C00856831',\n",
       "  'committee_type': 'H',\n",
       "  'committee_type_full': 'House',\n",
       "  'cycle': 2026,\n",
       "  'cycles': [2024, 2026],\n",
       "  'cycles_has_activity': [2024, 2026],\n",
       "  'cycles_has_financial': [2024, 2026],\n",
       "  'designation': 'P',\n",
       "  'designation_full': 'Principal campaign committee',\n",
       "  'filing_frequency': 'Q',\n",
       "  'first_f1_date': '2023-11-15',\n",
       "  'first_file_date': '2023-11-15',\n",
       "  'is_active': True,\n",
       "  'last_cycle_has_activity': 2026,\n",
       "  'last_cycle_has_financial': 2026,\n",
       "  'last_f1_date': '2025-02-25',\n",
       "  'last_file_date': '2025-09-09',\n",
       "  'name': 'MCGUIRE FOR VIRGINIA',\n",
       "  'organization_type': None,\n",
       "  'organization_type_full': None,\n",
       "  'party': 'REP',\n",
       "  'party_full': 'REPUBLICAN PARTY',\n",
       "  'state': 'VA',\n",
       "  'state_full': 'Virginia',\n",
       "  'street_1': 'PO BOX 242',\n",
       "  'street_2': None,\n",
       "  'treasurer_name': 'BOLES, JASON D',\n",
       "  'zip': '23103'},\n",
       " 'committee_id': 'C00856831',\n",
       " 'committee_name': None,\n",
       " 'conduit_committee_city': None,\n",
       " 'conduit_committee_id': None,\n",
       " 'conduit_committee_name': None,\n",
       " 'conduit_committee_state': None,\n",
       " 'conduit_committee_street1': None,\n",
       " 'conduit_committee_street2': None,\n",
       " 'conduit_committee_zip': None,\n",
       " 'contribution_receipt_amount': 1000.0,\n",
       " 'contribution_receipt_date': '2025-06-30',\n",
       " 'contributor': {'affiliated_committee_name': 'NONE',\n",
       "  'candidate_ids': [],\n",
       "  'city': 'WASHINGTON',\n",
       "  'committee_id': 'C00165159',\n",
       "  'committee_type': 'Q',\n",
       "  'committee_type_full': 'PAC - Qualified',\n",
       "  'cycle': 2026,\n",
       "  'cycles': [1984,\n",
       "   1986,\n",
       "   1988,\n",
       "   1990,\n",
       "   1992,\n",
       "   1994,\n",
       "   1996,\n",
       "   1998,\n",
       "   2000,\n",
       "   2002,\n",
       "   2004,\n",
       "   2006,\n",
       "   2008,\n",
       "   2010,\n",
       "   2012,\n",
       "   2014,\n",
       "   2016,\n",
       "   2018,\n",
       "   2020,\n",
       "   2022,\n",
       "   2024,\n",
       "   2026],\n",
       "  'cycles_has_activity': [1984,\n",
       "   1986,\n",
       "   1988,\n",
       "   1990,\n",
       "   1992,\n",
       "   1994,\n",
       "   1996,\n",
       "   1998,\n",
       "   2000,\n",
       "   2002,\n",
       "   2004,\n",
       "   2006,\n",
       "   2008,\n",
       "   2010,\n",
       "   2012,\n",
       "   2014,\n",
       "   2016,\n",
       "   2018,\n",
       "   2020,\n",
       "   2022,\n",
       "   2024,\n",
       "   2026],\n",
       "  'cycles_has_financial': [1984,\n",
       "   1986,\n",
       "   1988,\n",
       "   1990,\n",
       "   1992,\n",
       "   1994,\n",
       "   1996,\n",
       "   1998,\n",
       "   2000,\n",
       "   2002,\n",
       "   2004,\n",
       "   2006,\n",
       "   2008,\n",
       "   2010,\n",
       "   2012,\n",
       "   2014,\n",
       "   2016,\n",
       "   2018,\n",
       "   2020,\n",
       "   2022,\n",
       "   2024,\n",
       "   2026],\n",
       "  'designation': 'U',\n",
       "  'designation_full': 'Unauthorized',\n",
       "  'filing_frequency': 'M',\n",
       "  'first_f1_date': '1983-01-27',\n",
       "  'first_file_date': '1983-01-27',\n",
       "  'is_active': True,\n",
       "  'last_cycle_has_activity': 2026,\n",
       "  'last_cycle_has_financial': 2026,\n",
       "  'last_f1_date': '2024-08-01',\n",
       "  'last_file_date': '2025-09-20',\n",
       "  'name': 'REPUBLICAN MAINSTREET PARTNERSHIP PAC',\n",
       "  'organization_type': None,\n",
       "  'organization_type_full': None,\n",
       "  'party': None,\n",
       "  'party_full': None,\n",
       "  'state': 'DC',\n",
       "  'state_full': 'District Of Columbia',\n",
       "  'street_1': '411 NEW JERSEY AVENUE SE',\n",
       "  'street_2': None,\n",
       "  'treasurer_name': 'OSE, DOUGLAS A',\n",
       "  'zip': '20003'},\n",
       " 'contributor_aggregate_ytd': 1000.0,\n",
       " 'contributor_city': 'WASHINGTON',\n",
       " 'contributor_employer': None,\n",
       " 'contributor_first_name': None,\n",
       " 'contributor_id': 'C00165159',\n",
       " 'contributor_last_name': None,\n",
       " 'contributor_middle_name': None,\n",
       " 'contributor_name': 'REPUBLICAN MAINSTREET PARTNERSHIP PAC',\n",
       " 'contributor_occupation': None,\n",
       " 'contributor_prefix': None,\n",
       " 'contributor_state': 'DC',\n",
       " 'contributor_street_1': '411 NEW JERSEY AVENUE SE',\n",
       " 'contributor_street_2': 'SUITE 320',\n",
       " 'contributor_suffix': None,\n",
       " 'contributor_zip': '20003',\n",
       " 'donor_committee_name': None,\n",
       " 'election_type': 'P2026',\n",
       " 'election_type_full': None,\n",
       " 'entity_type': 'COM',\n",
       " 'entity_type_desc': 'OTHER COMMITTEE',\n",
       " 'fec_election_type_desc': 'PRIMARY',\n",
       " 'fec_election_year': '2026',\n",
       " 'file_number': 1914188,\n",
       " 'filing_form': 'F3',\n",
       " 'image_number': '202509099789856429',\n",
       " 'increased_limit': None,\n",
       " 'is_individual': False,\n",
       " 'line_number': '12',\n",
       " 'line_number_label': 'Transfers from authorized committees',\n",
       " 'link_id': 4090920251290426002,\n",
       " 'load_date': '2025-09-10T04:22:36',\n",
       " 'memo_code': 'X',\n",
       " 'memo_code_full': None,\n",
       " 'memo_text': 'MEMO TRANSFER FROM JOINT FUNDRAISER-MCGUIRE VICTORY FUND ON 06/30/25  FOR 25190.03',\n",
       " 'memoed_subtotal': True,\n",
       " 'national_committee_nonfederal_account': None,\n",
       " 'original_sub_id': None,\n",
       " 'pdf_url': 'https://docquery.fec.gov/cgi-bin/fecimg/?202509099789856429',\n",
       " 'receipt_type': '18J',\n",
       " 'receipt_type_desc': \"MEMO (FILER'S % OF CONTRIBUTION GIVEN TO JOIN\",\n",
       " 'receipt_type_full': None,\n",
       " 'recipient_committee_designation': 'P',\n",
       " 'recipient_committee_org_type': None,\n",
       " 'recipient_committee_type': 'H',\n",
       " 'report_type': 'Q2',\n",
       " 'report_year': 2025,\n",
       " 'schedule_type': 'SA',\n",
       " 'schedule_type_full': 'ITEMIZED RECEIPTS',\n",
       " 'sub_id': '4090920251290437884',\n",
       " 'transaction_id': 'A-3202',\n",
       " 'two_year_transaction_period': 2026,\n",
       " 'unused_contbr_id': 'C00165159'}"
      ]
     },
     "execution_count": 72,
     "metadata": {},
     "output_type": "execute_result"
    }
   ],
   "source": [
    "myjson"
   ]
  },
  {
   "cell_type": "code",
   "execution_count": null,
   "id": "b59853c8",
   "metadata": {},
   "outputs": [],
   "source": []
  }
 ],
 "metadata": {
  "kernelspec": {
   "display_name": "ds6001",
   "language": "python",
   "name": "python3"
  },
  "language_info": {
   "codemirror_mode": {
    "name": "ipython",
    "version": 3
   },
   "file_extension": ".py",
   "mimetype": "text/x-python",
   "name": "python",
   "nbconvert_exporter": "python",
   "pygments_lexer": "ipython3",
   "version": "3.13.5"
  }
 },
 "nbformat": 4,
 "nbformat_minor": 5
}
