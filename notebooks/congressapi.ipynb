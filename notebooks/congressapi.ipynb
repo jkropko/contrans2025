{
 "cells": [
  {
   "cell_type": "code",
   "execution_count": 1,
   "id": "458d36e7",
   "metadata": {},
   "outputs": [],
   "source": [
    "import numpy as np\n",
    "import pandas as pd\n",
    "import requests\n",
    "import json\n",
    "import dotenv\n",
    "import os"
   ]
  },
  {
   "cell_type": "markdown",
   "id": "0a7171ab",
   "metadata": {},
   "source": [
    "## Getting Biographical Data from the Congress API\n",
    "\n",
    "The most important skill is reading the API documentation efficiently.\n",
    "\n",
    "Look ONLY for these five things:\n",
    "\n",
    "1. Root: the beginning part of all URLs associated with this API for getting data back (I often find this in examples first)\n",
    "\n",
    "https://api.congress.gov/v3\n",
    "\n",
    "2. Endpoint: the second part of the URL, generally it points to a specific data set to be returned\n",
    "\n",
    "/member/{bioguideId}\n",
    "\n",
    "The curly braces mean: fill this in for whichever member of congress you want\n",
    "\n",
    "3. The headers: data that WE give to the API to identify ourselves, and provide other information if requested\n",
    " * User Agent string: a string that identifies your software. If you are writing a Bot, what is your bot's name, and what methods are you using to access this API.\n",
    "\n",
    " The standard convention is:\n",
    "\n",
    " 'botname/version (email) python-requests/request-package-version'\n",
    "\n"
   ]
  },
  {
   "cell_type": "code",
   "execution_count": 2,
   "id": "64002d1e",
   "metadata": {},
   "outputs": [
    {
     "data": {
      "text/plain": [
       "{'User-Agent': 'targ/0.0 (jkropko@virginia.edu) python-requests/2.32.5'}"
      ]
     },
     "execution_count": 2,
     "metadata": {},
     "output_type": "execute_result"
    }
   ],
   "source": [
    "botname = 'targ'\n",
    "version = '0.0'\n",
    "email = 'jkropko@virginia.edu'\n",
    "useragent = f'{botname}/{version} ({email}) python-requests/{requests.__version__}'\n",
    "headers = {'User-Agent':useragent}\n",
    "headers"
   ]
  },
  {
   "cell_type": "markdown",
   "id": "3907f4f1",
   "metadata": {},
   "source": [
    "4. API Parameters: these are ways to control what data is requested. The parameters are generally listed in the documentation for each endpoint. 3 kinds of parameter:\n",
    "\n",
    "* Query parameters: should be listed in a dictionary and passed to the `params` argument of `requests.get()`\n",
    "\n",
    "* Path parameters: are part of the endpoint (such as bioguideId)\n",
    "\n",
    "* Global parameters: apply to any use of the API regardless of endpoint. Often that includes your API key. Can be in either the headers or the params\n",
    "\n",
    "5. If an API Key is needed, how to get one, and how will you let the API know the key?\n",
    "\n",
    "API keys should be saved in a .env file in the same folder as your code. Use `dotenv` package to load the key into your code without ever displaying/exposing your key."
   ]
  },
  {
   "cell_type": "code",
   "execution_count": 3,
   "id": "b7e58edd",
   "metadata": {},
   "outputs": [],
   "source": [
    "dotenv.load_dotenv()\n",
    "congresskey = os.getenv('congresskey')"
   ]
  },
  {
   "cell_type": "code",
   "execution_count": 4,
   "id": "bcf773cf",
   "metadata": {},
   "outputs": [],
   "source": [
    "params = {'format': 'json',\n",
    "          'api_key': congresskey} "
   ]
  },
  {
   "cell_type": "markdown",
   "id": "79d7e5c7",
   "metadata": {},
   "source": [
    "Put it all together."
   ]
  },
  {
   "cell_type": "code",
   "execution_count": 5,
   "id": "4d1c089f",
   "metadata": {},
   "outputs": [
    {
     "data": {
      "text/plain": [
       "<Response [200]>"
      ]
     },
     "execution_count": 5,
     "metadata": {},
     "output_type": "execute_result"
    }
   ],
   "source": [
    "bioguideId = 'M001239'\n",
    "root = 'https://api.congress.gov/v3'\n",
    "endpoint = f'/member/{bioguideId}'\n",
    "\n",
    "r = requests.get(root + endpoint, \n",
    "                headers = headers,\n",
    "                params = params)\n",
    "r"
   ]
  },
  {
   "cell_type": "code",
   "execution_count": 6,
   "id": "1576f691",
   "metadata": {},
   "outputs": [
    {
     "data": {
      "text/plain": [
       "{'member': {'addressInformation': {'city': 'Washington',\n",
       "   'district': 'DC',\n",
       "   'officeAddress': '1013 Longworth House Office Building',\n",
       "   'phoneNumber': '(202) 225-4711',\n",
       "   'zipCode': 20515},\n",
       "  'bioguideId': 'M001239',\n",
       "  'birthYear': '1968',\n",
       "  'cosponsoredLegislation': {'count': 170,\n",
       "   'url': 'https://api.congress.gov/v3/member/M001239/cosponsored-legislation'},\n",
       "  'currentMember': True,\n",
       "  'depiction': {'attribution': 'Image courtesy of the Member',\n",
       "   'imageUrl': 'https://www.congress.gov/img/member/67744ba20b34857ecc909149_200.jpg'},\n",
       "  'directOrderName': 'John J. McGuire III',\n",
       "  'district': 5,\n",
       "  'firstName': 'John',\n",
       "  'honorificName': 'Mr.',\n",
       "  'invertedOrderName': 'McGuire, John J.',\n",
       "  'lastName': 'McGuire',\n",
       "  'middleName': 'J.',\n",
       "  'officialWebsiteUrl': 'https://mcguire.house.gov/',\n",
       "  'partyHistory': [{'partyAbbreviation': 'R',\n",
       "    'partyName': 'Republican',\n",
       "    'startYear': 2025}],\n",
       "  'previousNames': [{'directOrderName': 'John McGuire',\n",
       "    'endDate': '2025-01-10T17:36:18Z',\n",
       "    'firstName': 'John',\n",
       "    'honorificName': 'Mr.',\n",
       "    'invertedOrderName': 'McGuire, John',\n",
       "    'lastName': 'McGuire',\n",
       "    'middleName': 'J.',\n",
       "    'startDate': '2025-01-03T17:00:00Z'},\n",
       "   {'directOrderName': 'John McGuire',\n",
       "    'endDate': '2025-01-17T04:59:59Z',\n",
       "    'firstName': 'John',\n",
       "    'honorificName': 'Mr.',\n",
       "    'invertedOrderName': 'McGuire, John',\n",
       "    'lastName': 'McGuire',\n",
       "    'middleName': 'J.',\n",
       "    'startDate': '2025-01-10T17:36:19Z'},\n",
       "   {'directOrderName': 'John McGuire',\n",
       "    'endDate': '2025-04-28T13:04:26Z',\n",
       "    'firstName': 'John',\n",
       "    'honorificName': 'Mr.',\n",
       "    'invertedOrderName': 'McGuire, John',\n",
       "    'lastName': 'McGuire',\n",
       "    'middleName': 'J.',\n",
       "    'startDate': '2025-01-17T05:00:00Z'},\n",
       "   {'directOrderName': 'John J. McGuire III',\n",
       "    'firstName': 'John',\n",
       "    'honorificName': 'Mr.',\n",
       "    'invertedOrderName': 'McGuire, John J.',\n",
       "    'lastName': 'McGuire',\n",
       "    'middleName': 'J.',\n",
       "    'startDate': '2025-04-28T13:04:27Z'}],\n",
       "  'sponsoredLegislation': {'count': 9,\n",
       "   'url': 'https://api.congress.gov/v3/member/M001239/sponsored-legislation'},\n",
       "  'state': 'Virginia',\n",
       "  'suffixName': 'III',\n",
       "  'terms': [{'chamber': 'House of Representatives',\n",
       "    'congress': 119,\n",
       "    'district': 5,\n",
       "    'memberType': 'Representative',\n",
       "    'startYear': 2025,\n",
       "    'stateCode': 'VA',\n",
       "    'stateName': 'Virginia'}],\n",
       "  'updateDate': '2025-09-24T07:40:20Z'},\n",
       " 'request': {'bioguideId': 'm001239',\n",
       "  'contentType': 'application/json',\n",
       "  'format': 'json'}}"
      ]
     },
     "execution_count": 6,
     "metadata": {},
     "output_type": "execute_result"
    }
   ],
   "source": [
    "r.json()"
   ]
  },
  {
   "cell_type": "markdown",
   "id": "ceda19f8",
   "metadata": {},
   "source": [
    "## Sponsored legislation"
   ]
  },
  {
   "cell_type": "code",
   "execution_count": 7,
   "id": "fac0d003",
   "metadata": {},
   "outputs": [
    {
     "data": {
      "text/plain": [
       "'/member/M001239/sponsored-legislation'"
      ]
     },
     "execution_count": 7,
     "metadata": {},
     "output_type": "execute_result"
    }
   ],
   "source": [
    "endpoint = f'/member/{bioguideId}/sponsored-legislation'\n",
    "endpoint"
   ]
  },
  {
   "cell_type": "code",
   "execution_count": 8,
   "id": "f236fd9e",
   "metadata": {},
   "outputs": [],
   "source": [
    "params = {'format': 'json',\n",
    "          'offset': 0,\n",
    "          'limit': 250,\n",
    "          'api_key': congresskey}\n"
   ]
  },
  {
   "cell_type": "code",
   "execution_count": 9,
   "id": "7587fb57",
   "metadata": {},
   "outputs": [
    {
     "data": {
      "text/plain": [
       "<Response [200]>"
      ]
     },
     "execution_count": 9,
     "metadata": {},
     "output_type": "execute_result"
    }
   ],
   "source": [
    "r = requests.get(root + endpoint,\n",
    "                 headers=headers,\n",
    "                 params=params)\n",
    "r"
   ]
  },
  {
   "cell_type": "code",
   "execution_count": 10,
   "id": "dd1f8ebf",
   "metadata": {},
   "outputs": [],
   "source": [
    "myjson = r.json()"
   ]
  },
  {
   "cell_type": "code",
   "execution_count": 11,
   "id": "af6a1c9d",
   "metadata": {},
   "outputs": [],
   "source": [
    "#myjson['sponsoredLegislation']\n",
    "\n",
    "sponsoredLegislation_df = pd.json_normalize(myjson, record_path=['sponsoredLegislation'])"
   ]
  },
  {
   "cell_type": "code",
   "execution_count": 12,
   "id": "8b5717a7",
   "metadata": {},
   "outputs": [
    {
     "name": "stdout",
     "output_type": "stream",
     "text": [
      "Requiring Excise for Migrant Income Transfers Act” or the “REMIT Act.\n",
      "Peace Through Strength Act of 2025\n",
      "Border Wall Status Act\n",
      "Make the District of Columbia Safe and Beautiful Act\n",
      "FAIR Act\n",
      "VA Data Transparency and Trust Act\n",
      "Manned Aircraft Clarification Act\n",
      "Uranium for Energy Independence Act of 2025\n",
      "Agricultural and Forestry Hauling Efficiency Act\n"
     ]
    }
   ],
   "source": [
    "for x in sponsoredLegislation_df['title']:\n",
    "    print(x)"
   ]
  },
  {
   "cell_type": "code",
   "execution_count": 13,
   "id": "ea6f19f7",
   "metadata": {},
   "outputs": [
    {
     "data": {
      "text/plain": [
       "<Response [200]>"
      ]
     },
     "execution_count": 13,
     "metadata": {},
     "output_type": "execute_result"
    }
   ],
   "source": [
    "r = requests.get(sponsoredLegislation_df['url'][3],\n",
    "                 headers=headers,\n",
    "                 params=params)\n",
    "r"
   ]
  },
  {
   "cell_type": "code",
   "execution_count": 14,
   "id": "bca3d758",
   "metadata": {},
   "outputs": [
    {
     "data": {
      "text/plain": [
       "{'bill': {'actions': {'count': 6,\n",
       "   'url': 'https://api.congress.gov/v3/bill/119/hr/5103/actions?format=json'},\n",
       "  'cboCostEstimates': [{'description': 'As ordered reported by the House Committee on Oversight and Government Reform on \\nSeptember 10, 2025\\n',\n",
       "    'pubDate': '2025-10-03T14:03:00Z',\n",
       "    'title': 'H.R. 5103, Make the District of Columbia Safe and Beautiful Act of 2025',\n",
       "    'url': 'https://www.cbo.gov/publication/61792'}],\n",
       "  'committees': {'count': 2,\n",
       "   'url': 'https://api.congress.gov/v3/bill/119/hr/5103/committees?format=json'},\n",
       "  'congress': 119,\n",
       "  'constitutionalAuthorityStatementText': '<pre>\\n[Congressional Record Volume 171, Number 144 (Wednesday, September 3, 2025)]\\n[House]\\nFrom the Congressional Record Online through the Government Publishing Office [<a href=\"https://www.gpo.gov\">www.gpo.gov</a>]\\nBy Mr. McGUIRE:\\nH.R. 5103.\\nCongress has the power to enact this legislation pursuant\\nto the following:\\nArticle I, Section 8\\n[Page H3829]\\n</pre>',\n",
       "  'cosponsors': {'count': 3,\n",
       "   'countIncludingWithdrawnCosponsors': 3,\n",
       "   'url': 'https://api.congress.gov/v3/bill/119/hr/5103/cosponsors?format=json'},\n",
       "  'introducedDate': '2025-09-03',\n",
       "  'latestAction': {'actionDate': '2025-09-10',\n",
       "   'text': 'Ordered to be Reported (Amended) by the Yeas and Nays: 25 - 19.'},\n",
       "  'legislationUrl': 'https://www.congress.gov/bill/119th-congress/house-bill/5103',\n",
       "  'number': '5103',\n",
       "  'originChamber': 'House',\n",
       "  'originChamberCode': 'H',\n",
       "  'policyArea': {'name': 'Public Lands and Natural Resources'},\n",
       "  'sponsors': [{'bioguideId': 'M001239',\n",
       "    'district': 5,\n",
       "    'firstName': 'John',\n",
       "    'fullName': 'Rep. McGuire, John J. [R-VA-5]',\n",
       "    'isByRequest': 'N',\n",
       "    'lastName': 'McGuire',\n",
       "    'middleName': 'J.',\n",
       "    'party': 'R',\n",
       "    'state': 'VA',\n",
       "    'url': 'https://api.congress.gov/v3/member/M001239?format=json'}],\n",
       "  'subjects': {'count': 14,\n",
       "   'url': 'https://api.congress.gov/v3/bill/119/hr/5103/subjects?format=json'},\n",
       "  'summaries': {'count': 1,\n",
       "   'url': 'https://api.congress.gov/v3/bill/119/hr/5103/summaries?format=json'},\n",
       "  'textVersions': {'count': 1,\n",
       "   'url': 'https://api.congress.gov/v3/bill/119/hr/5103/text?format=json'},\n",
       "  'title': 'Make the District of Columbia Safe and Beautiful Act',\n",
       "  'titles': {'count': 3,\n",
       "   'url': 'https://api.congress.gov/v3/bill/119/hr/5103/titles?format=json'},\n",
       "  'type': 'HR',\n",
       "  'updateDate': '2025-10-03T14:05:21Z',\n",
       "  'updateDateIncludingText': '2025-10-03T14:05:21Z'},\n",
       " 'request': {'billNumber': '5103',\n",
       "  'billType': 'hr',\n",
       "  'congress': '119',\n",
       "  'contentType': 'application/json',\n",
       "  'format': 'json'}}"
      ]
     },
     "execution_count": 14,
     "metadata": {},
     "output_type": "execute_result"
    }
   ],
   "source": [
    "r.json()"
   ]
  },
  {
   "cell_type": "markdown",
   "id": "8e6b7675",
   "metadata": {},
   "source": [
    "## FEC Data for financial campaign contributions"
   ]
  },
  {
   "cell_type": "code",
   "execution_count": 15,
   "id": "605c636f",
   "metadata": {},
   "outputs": [],
   "source": [
    "dotenv.load_dotenv()\n",
    "feckey = os.getenv('feckey')"
   ]
  },
  {
   "cell_type": "code",
   "execution_count": 16,
   "id": "b991815e",
   "metadata": {},
   "outputs": [
    {
     "data": {
      "text/plain": [
       "<Response [200]>"
      ]
     },
     "execution_count": 16,
     "metadata": {},
     "output_type": "execute_result"
    }
   ],
   "source": [
    "root = 'https://api.open.fec.gov'\n",
    "endpoint = '/v1/candidates/search/'\n",
    "\n",
    "params = {'api_key': feckey,\n",
    "          'q': 'John McGuire',\n",
    "          'state': 'VA',\n",
    "          'district': '5',\n",
    "          'office': 'H',\n",
    "          'year': '2024'}\n",
    "r = requests.get(root + endpoint,\n",
    "                 params=params,\n",
    "                 headers=headers)\n",
    "r"
   ]
  },
  {
   "cell_type": "code",
   "execution_count": null,
   "id": "93244a9f",
   "metadata": {},
   "outputs": [
    {
     "data": {
      "text/plain": [
       "{'api_version': '1.0',\n",
       " 'pagination': {'count': 1,\n",
       "  'is_count_exact': True,\n",
       "  'page': 1,\n",
       "  'pages': 1,\n",
       "  'per_page': 20},\n",
       " 'results': [{'active_through': 2026,\n",
       "   'candidate_id': 'H0VA07133',\n",
       "   'candidate_inactive': False,\n",
       "   'candidate_status': 'C',\n",
       "   'cycles': [2020, 2026],\n",
       "   'district': '05',\n",
       "   'district_number': 5,\n",
       "   'election_districts': ['07', '05'],\n",
       "   'election_years': [2020, 2026],\n",
       "   'federal_funds_flag': False,\n",
       "   'first_file_date': '2019-11-18',\n",
       "   'has_raised_funds': True,\n",
       "   'inactive_election_years': None,\n",
       "   'incumbent_challenge': 'C',\n",
       "   'incumbent_challenge_full': 'Challenger',\n",
       "   'last_f2_date': '2024-11-11',\n",
       "   'last_file_date': '2024-11-11',\n",
       "   'load_date': '2025-02-02T20:58:51',\n",
       "   'name': 'MCGUIRE, JOHN',\n",
       "   'office': 'H',\n",
       "   'office_full': 'House',\n",
       "   'party': 'REP',\n",
       "   'party_full': 'REPUBLICAN PARTY',\n",
       "   'principal_committees': [{'affiliated_committee_name': 'MCGUIRE VICTORY FUND',\n",
       "     'candidate_ids': ['H0VA07133'],\n",
       "     'committee_id': 'C00856831',\n",
       "     'committee_type': 'H',\n",
       "     'committee_type_full': 'House',\n",
       "     'cycles': [2024, 2026],\n",
       "     'designation': 'P',\n",
       "     'designation_full': 'Principal campaign committee',\n",
       "     'filing_frequency': 'Q',\n",
       "     'first_f1_date': '2023-11-15',\n",
       "     'first_file_date': '2023-11-15',\n",
       "     'last_f1_date': '2025-02-25',\n",
       "     'last_file_date': '2025-09-09',\n",
       "     'name': 'MCGUIRE FOR VIRGINIA',\n",
       "     'organization_type': None,\n",
       "     'organization_type_full': None,\n",
       "     'party': 'REP',\n",
       "     'party_full': 'REPUBLICAN PARTY',\n",
       "     'state': 'VA',\n",
       "     'treasurer_name': 'BOLES, JASON D'},\n",
       "    {'affiliated_committee_name': 'NONE',\n",
       "     'candidate_ids': ['H0VA07133'],\n",
       "     'committee_id': 'C00727594',\n",
       "     'committee_type': 'H',\n",
       "     'committee_type_full': 'House',\n",
       "     'cycles': [2020],\n",
       "     'designation': 'P',\n",
       "     'designation_full': 'Principal campaign committee',\n",
       "     'filing_frequency': 'T',\n",
       "     'first_f1_date': '2019-11-18',\n",
       "     'first_file_date': '2019-11-18',\n",
       "     'last_f1_date': '2019-11-18',\n",
       "     'last_file_date': '2020-12-11',\n",
       "     'name': 'MCGUIRE FOR VIRGINIA',\n",
       "     'organization_type': None,\n",
       "     'organization_type_full': None,\n",
       "     'party': 'REP',\n",
       "     'party_full': 'REPUBLICAN PARTY',\n",
       "     'state': 'VA',\n",
       "     'treasurer_name': 'SELPH, JOHN G. MR.'}],\n",
       "   'state': 'VA'}]}"
      ]
     },
     "execution_count": 18,
     "metadata": {},
     "output_type": "execute_result"
    }
   ],
   "source": [
    "myjson = r.json()\n",
    "candidate_id = myjson['results'][0]['candidate_id']\n",
    "candidate_id"
   ]
  },
  {
   "cell_type": "code",
   "execution_count": 26,
   "id": "0cf51595",
   "metadata": {},
   "outputs": [
    {
     "data": {
      "text/plain": [
       "<Response [200]>"
      ]
     },
     "execution_count": 26,
     "metadata": {},
     "output_type": "execute_result"
    }
   ],
   "source": [
    "endpoint = f'/v1/candidate/{candidate_id}/committees/'\n",
    "params = {'api_key': feckey,\n",
    "          'cycle': '2024'}\n",
    "\n",
    "r = requests.get(root + endpoint,\n",
    "                 params=params,\n",
    "                 headers=headers)\n",
    "r   "
   ]
  },
  {
   "cell_type": "code",
   "execution_count": 27,
   "id": "62f3dfe8",
   "metadata": {},
   "outputs": [
    {
     "data": {
      "text/plain": [
       "['MCGUIRE FOR VIRGINIA', 'MCGUIRE RECOUNT COMMITTEE']"
      ]
     },
     "execution_count": 27,
     "metadata": {},
     "output_type": "execute_result"
    }
   ],
   "source": [
    "[x['name'] for x in r.json()['results']]"
   ]
  },
  {
   "cell_type": "code",
   "execution_count": 28,
   "id": "6a283aa9",
   "metadata": {},
   "outputs": [
    {
     "data": {
      "text/plain": [
       "['C00856831', 'C00900118']"
      ]
     },
     "execution_count": 28,
     "metadata": {},
     "output_type": "execute_result"
    }
   ],
   "source": [
    "committee_ids = [x['committee_id'] for x in r.json()['results']]\n",
    "committee_ids"
   ]
  },
  {
   "cell_type": "code",
   "execution_count": 65,
   "id": "4acfc0be",
   "metadata": {},
   "outputs": [
    {
     "data": {
      "text/plain": [
       "<Response [200]>"
      ]
     },
     "execution_count": 65,
     "metadata": {},
     "output_type": "execute_result"
    }
   ],
   "source": [
    "endpoint = '/v1/schedules/schedule_a/'\n",
    "params = {'api_key': feckey,\n",
    "          'committee_id': committee_ids[0],\n",
    "          'per_page': 100,\n",
    "          'sort': '-contribution_receipt_amount'}\n",
    "\n",
    "r = requests.get(root + endpoint,\n",
    "                 params=params,\n",
    "                 headers=headers)\n",
    "r"
   ]
  },
  {
   "cell_type": "code",
   "execution_count": 66,
   "id": "c5e5dd3d",
   "metadata": {},
   "outputs": [
    {
     "data": {
      "text/html": [
       "<div>\n",
       "<style scoped>\n",
       "    .dataframe tbody tr th:only-of-type {\n",
       "        vertical-align: middle;\n",
       "    }\n",
       "\n",
       "    .dataframe tbody tr th {\n",
       "        vertical-align: top;\n",
       "    }\n",
       "\n",
       "    .dataframe thead th {\n",
       "        text-align: right;\n",
       "    }\n",
       "</style>\n",
       "<table border=\"1\" class=\"dataframe\">\n",
       "  <thead>\n",
       "    <tr style=\"text-align: right;\">\n",
       "      <th></th>\n",
       "      <th>contributor_name</th>\n",
       "      <th>contributor_aggregate_ytd</th>\n",
       "      <th>memo_text</th>\n",
       "      <th>pdf_url</th>\n",
       "    </tr>\n",
       "  </thead>\n",
       "  <tbody>\n",
       "    <tr>\n",
       "      <th>0</th>\n",
       "      <td>MCGUIRE VICTORY FUND</td>\n",
       "      <td>279791.09</td>\n",
       "      <td>None</td>\n",
       "      <td>https://docquery.fec.gov/cgi-bin/fecimg/?20240...</td>\n",
       "    </tr>\n",
       "    <tr>\n",
       "      <th>1</th>\n",
       "      <td>MCGUIRE VICTORY FUND</td>\n",
       "      <td>119484.10</td>\n",
       "      <td>None</td>\n",
       "      <td>https://docquery.fec.gov/cgi-bin/fecimg/?20240...</td>\n",
       "    </tr>\n",
       "    <tr>\n",
       "      <th>2</th>\n",
       "      <td>MCGUIRE VICTORY FUND</td>\n",
       "      <td>397795.08</td>\n",
       "      <td>None</td>\n",
       "      <td>https://docquery.fec.gov/cgi-bin/fecimg/?20240...</td>\n",
       "    </tr>\n",
       "    <tr>\n",
       "      <th>3</th>\n",
       "      <td>MCGUIRE VICTORY FUND</td>\n",
       "      <td>66488.21</td>\n",
       "      <td>TRANSFER FROM JOINT FUNDRAISER</td>\n",
       "      <td>https://docquery.fec.gov/cgi-bin/fecimg/?20250...</td>\n",
       "    </tr>\n",
       "    <tr>\n",
       "      <th>4</th>\n",
       "      <td>MCGUIRE VICTORY FUND</td>\n",
       "      <td>279791.09</td>\n",
       "      <td>None</td>\n",
       "      <td>https://docquery.fec.gov/cgi-bin/fecimg/?20240...</td>\n",
       "    </tr>\n",
       "    <tr>\n",
       "      <th>...</th>\n",
       "      <td>...</td>\n",
       "      <td>...</td>\n",
       "      <td>...</td>\n",
       "      <td>...</td>\n",
       "    </tr>\n",
       "    <tr>\n",
       "      <th>95</th>\n",
       "      <td>AMERICAN SECURITY PAC</td>\n",
       "      <td>5000.00</td>\n",
       "      <td>None</td>\n",
       "      <td>https://docquery.fec.gov/cgi-bin/fecimg/?20240...</td>\n",
       "    </tr>\n",
       "    <tr>\n",
       "      <th>96</th>\n",
       "      <td>MAJORITY COMMITTEE PAC--MC PAC</td>\n",
       "      <td>10000.00</td>\n",
       "      <td>None</td>\n",
       "      <td>https://docquery.fec.gov/cgi-bin/fecimg/?20240...</td>\n",
       "    </tr>\n",
       "    <tr>\n",
       "      <th>97</th>\n",
       "      <td>MAJORITY COMMITTEE PAC--MC PAC</td>\n",
       "      <td>10000.00</td>\n",
       "      <td>None</td>\n",
       "      <td>https://docquery.fec.gov/cgi-bin/fecimg/?20240...</td>\n",
       "    </tr>\n",
       "    <tr>\n",
       "      <th>98</th>\n",
       "      <td>THE EYE OF THE TIGER PAC</td>\n",
       "      <td>10000.00</td>\n",
       "      <td>None</td>\n",
       "      <td>https://docquery.fec.gov/cgi-bin/fecimg/?20250...</td>\n",
       "    </tr>\n",
       "    <tr>\n",
       "      <th>99</th>\n",
       "      <td>THE EYE OF THE TIGER PAC</td>\n",
       "      <td>10000.00</td>\n",
       "      <td>None</td>\n",
       "      <td>https://docquery.fec.gov/cgi-bin/fecimg/?20250...</td>\n",
       "    </tr>\n",
       "  </tbody>\n",
       "</table>\n",
       "<p>100 rows × 4 columns</p>\n",
       "</div>"
      ],
      "text/plain": [
       "                  contributor_name  contributor_aggregate_ytd  \\\n",
       "0             MCGUIRE VICTORY FUND                  279791.09   \n",
       "1             MCGUIRE VICTORY FUND                  119484.10   \n",
       "2             MCGUIRE VICTORY FUND                  397795.08   \n",
       "3             MCGUIRE VICTORY FUND                   66488.21   \n",
       "4             MCGUIRE VICTORY FUND                  279791.09   \n",
       "..                             ...                        ...   \n",
       "95           AMERICAN SECURITY PAC                    5000.00   \n",
       "96  MAJORITY COMMITTEE PAC--MC PAC                   10000.00   \n",
       "97  MAJORITY COMMITTEE PAC--MC PAC                   10000.00   \n",
       "98        THE EYE OF THE TIGER PAC                   10000.00   \n",
       "99        THE EYE OF THE TIGER PAC                   10000.00   \n",
       "\n",
       "                         memo_text  \\\n",
       "0                             None   \n",
       "1                             None   \n",
       "2                             None   \n",
       "3   TRANSFER FROM JOINT FUNDRAISER   \n",
       "4                             None   \n",
       "..                             ...   \n",
       "95                            None   \n",
       "96                            None   \n",
       "97                            None   \n",
       "98                            None   \n",
       "99                            None   \n",
       "\n",
       "                                              pdf_url  \n",
       "0   https://docquery.fec.gov/cgi-bin/fecimg/?20240...  \n",
       "1   https://docquery.fec.gov/cgi-bin/fecimg/?20240...  \n",
       "2   https://docquery.fec.gov/cgi-bin/fecimg/?20240...  \n",
       "3   https://docquery.fec.gov/cgi-bin/fecimg/?20250...  \n",
       "4   https://docquery.fec.gov/cgi-bin/fecimg/?20240...  \n",
       "..                                                ...  \n",
       "95  https://docquery.fec.gov/cgi-bin/fecimg/?20240...  \n",
       "96  https://docquery.fec.gov/cgi-bin/fecimg/?20240...  \n",
       "97  https://docquery.fec.gov/cgi-bin/fecimg/?20240...  \n",
       "98  https://docquery.fec.gov/cgi-bin/fecimg/?20250...  \n",
       "99  https://docquery.fec.gov/cgi-bin/fecimg/?20250...  \n",
       "\n",
       "[100 rows x 4 columns]"
      ]
     },
     "execution_count": 66,
     "metadata": {},
     "output_type": "execute_result"
    }
   ],
   "source": [
    "contrib_dict = [{'contributor_name': x['contributor_name'],\n",
    "                'contributor_aggregate_ytd': x['contributor_aggregate_ytd'],\n",
    "                'memo_text': x['memo_text'],\n",
    "                'pdf_url': x['pdf_url']} for x in r.json()['results']]\n",
    "contrib_df =pd.DataFrame(contrib_dict)\n",
    "contrib_df\n"
   ]
  },
  {
   "cell_type": "code",
   "execution_count": 67,
   "id": "b59853c8",
   "metadata": {},
   "outputs": [],
   "source": [
    "lastindex = r.json()['pagination']['last_indexes']"
   ]
  },
  {
   "cell_type": "code",
   "execution_count": 61,
   "id": "87ef8cb0",
   "metadata": {},
   "outputs": [
    {
     "data": {
      "text/plain": [
       "{'last_contribution_receipt_amount': '5000.00',\n",
       " 'last_index': '4032120251180734842'}"
      ]
     },
     "execution_count": 61,
     "metadata": {},
     "output_type": "execute_result"
    }
   ],
   "source": [
    "lastindex"
   ]
  },
  {
   "cell_type": "code",
   "execution_count": 68,
   "id": "5573168c",
   "metadata": {},
   "outputs": [],
   "source": [
    "params['last_contribution_receipt_amount']=lastindex['last_contribution_receipt_amount']\n",
    "params['last_index']=lastindex['last_index']"
   ]
  },
  {
   "cell_type": "code",
   "execution_count": 69,
   "id": "87bc4eb3",
   "metadata": {},
   "outputs": [
    {
     "data": {
      "text/plain": [
       "<Response [200]>"
      ]
     },
     "execution_count": 69,
     "metadata": {},
     "output_type": "execute_result"
    }
   ],
   "source": [
    "r = requests.get(root + endpoint,\n",
    "                 params=params,\n",
    "                 headers=headers)\n",
    "r"
   ]
  },
  {
   "cell_type": "code",
   "execution_count": 70,
   "id": "a16f038a",
   "metadata": {},
   "outputs": [
    {
     "data": {
      "text/html": [
       "<div>\n",
       "<style scoped>\n",
       "    .dataframe tbody tr th:only-of-type {\n",
       "        vertical-align: middle;\n",
       "    }\n",
       "\n",
       "    .dataframe tbody tr th {\n",
       "        vertical-align: top;\n",
       "    }\n",
       "\n",
       "    .dataframe thead th {\n",
       "        text-align: right;\n",
       "    }\n",
       "</style>\n",
       "<table border=\"1\" class=\"dataframe\">\n",
       "  <thead>\n",
       "    <tr style=\"text-align: right;\">\n",
       "      <th></th>\n",
       "      <th>contributor_name</th>\n",
       "      <th>contributor_aggregate_ytd</th>\n",
       "      <th>memo_text</th>\n",
       "      <th>pdf_url</th>\n",
       "    </tr>\n",
       "  </thead>\n",
       "  <tbody>\n",
       "    <tr>\n",
       "      <th>0</th>\n",
       "      <td>NATIONAL ASSOCIATION OF REALTORS PAC</td>\n",
       "      <td>5000.0</td>\n",
       "      <td>None</td>\n",
       "      <td>https://docquery.fec.gov/cgi-bin/fecimg/?20250...</td>\n",
       "    </tr>\n",
       "    <tr>\n",
       "      <th>1</th>\n",
       "      <td>CHEVRON EMPLOYEES PAC - CHEVRON CORPORATION</td>\n",
       "      <td>5000.0</td>\n",
       "      <td>None</td>\n",
       "      <td>https://docquery.fec.gov/cgi-bin/fecimg/?20250...</td>\n",
       "    </tr>\n",
       "    <tr>\n",
       "      <th>2</th>\n",
       "      <td>AMERICAN ISRAEL PUBLIC AFFAIRS COMMITTEE PAC</td>\n",
       "      <td>5000.0</td>\n",
       "      <td>None</td>\n",
       "      <td>https://docquery.fec.gov/cgi-bin/fecimg/?20250...</td>\n",
       "    </tr>\n",
       "    <tr>\n",
       "      <th>3</th>\n",
       "      <td>SUSAN B ANTHONY LIST INC DBA SUSAN B ANTHONY P...</td>\n",
       "      <td>5000.0</td>\n",
       "      <td>None</td>\n",
       "      <td>https://docquery.fec.gov/cgi-bin/fecimg/?20250...</td>\n",
       "    </tr>\n",
       "    <tr>\n",
       "      <th>4</th>\n",
       "      <td>AMERICAN ISRAEL PUBLIC AFFAIRS COMMITTEE PAC</td>\n",
       "      <td>5000.0</td>\n",
       "      <td>None</td>\n",
       "      <td>https://docquery.fec.gov/cgi-bin/fecimg/?20250...</td>\n",
       "    </tr>\n",
       "    <tr>\n",
       "      <th>...</th>\n",
       "      <td>...</td>\n",
       "      <td>...</td>\n",
       "      <td>...</td>\n",
       "      <td>...</td>\n",
       "    </tr>\n",
       "    <tr>\n",
       "      <th>95</th>\n",
       "      <td>GROFF, HOWARD</td>\n",
       "      <td>6600.0</td>\n",
       "      <td>None</td>\n",
       "      <td>https://docquery.fec.gov/cgi-bin/fecimg/?20240...</td>\n",
       "    </tr>\n",
       "    <tr>\n",
       "      <th>96</th>\n",
       "      <td>GROFF, SUSAN</td>\n",
       "      <td>6600.0</td>\n",
       "      <td>None</td>\n",
       "      <td>https://docquery.fec.gov/cgi-bin/fecimg/?20240...</td>\n",
       "    </tr>\n",
       "    <tr>\n",
       "      <th>97</th>\n",
       "      <td>BOWDEN, MURRY</td>\n",
       "      <td>6600.0</td>\n",
       "      <td>None</td>\n",
       "      <td>https://docquery.fec.gov/cgi-bin/fecimg/?20240...</td>\n",
       "    </tr>\n",
       "    <tr>\n",
       "      <th>98</th>\n",
       "      <td>CROW, HARLAN</td>\n",
       "      <td>6600.0</td>\n",
       "      <td>None</td>\n",
       "      <td>https://docquery.fec.gov/cgi-bin/fecimg/?20240...</td>\n",
       "    </tr>\n",
       "    <tr>\n",
       "      <th>99</th>\n",
       "      <td>PEROT, III, HENRY</td>\n",
       "      <td>6600.0</td>\n",
       "      <td>None</td>\n",
       "      <td>https://docquery.fec.gov/cgi-bin/fecimg/?20240...</td>\n",
       "    </tr>\n",
       "  </tbody>\n",
       "</table>\n",
       "<p>100 rows × 4 columns</p>\n",
       "</div>"
      ],
      "text/plain": [
       "                                     contributor_name  \\\n",
       "0                NATIONAL ASSOCIATION OF REALTORS PAC   \n",
       "1         CHEVRON EMPLOYEES PAC - CHEVRON CORPORATION   \n",
       "2        AMERICAN ISRAEL PUBLIC AFFAIRS COMMITTEE PAC   \n",
       "3   SUSAN B ANTHONY LIST INC DBA SUSAN B ANTHONY P...   \n",
       "4        AMERICAN ISRAEL PUBLIC AFFAIRS COMMITTEE PAC   \n",
       "..                                                ...   \n",
       "95                                      GROFF, HOWARD   \n",
       "96                                       GROFF, SUSAN   \n",
       "97                                      BOWDEN, MURRY   \n",
       "98                                       CROW, HARLAN   \n",
       "99                                  PEROT, III, HENRY   \n",
       "\n",
       "    contributor_aggregate_ytd memo_text  \\\n",
       "0                      5000.0      None   \n",
       "1                      5000.0      None   \n",
       "2                      5000.0      None   \n",
       "3                      5000.0      None   \n",
       "4                      5000.0      None   \n",
       "..                        ...       ...   \n",
       "95                     6600.0      None   \n",
       "96                     6600.0      None   \n",
       "97                     6600.0      None   \n",
       "98                     6600.0      None   \n",
       "99                     6600.0      None   \n",
       "\n",
       "                                              pdf_url  \n",
       "0   https://docquery.fec.gov/cgi-bin/fecimg/?20250...  \n",
       "1   https://docquery.fec.gov/cgi-bin/fecimg/?20250...  \n",
       "2   https://docquery.fec.gov/cgi-bin/fecimg/?20250...  \n",
       "3   https://docquery.fec.gov/cgi-bin/fecimg/?20250...  \n",
       "4   https://docquery.fec.gov/cgi-bin/fecimg/?20250...  \n",
       "..                                                ...  \n",
       "95  https://docquery.fec.gov/cgi-bin/fecimg/?20240...  \n",
       "96  https://docquery.fec.gov/cgi-bin/fecimg/?20240...  \n",
       "97  https://docquery.fec.gov/cgi-bin/fecimg/?20240...  \n",
       "98  https://docquery.fec.gov/cgi-bin/fecimg/?20240...  \n",
       "99  https://docquery.fec.gov/cgi-bin/fecimg/?20240...  \n",
       "\n",
       "[100 rows x 4 columns]"
      ]
     },
     "execution_count": 70,
     "metadata": {},
     "output_type": "execute_result"
    }
   ],
   "source": [
    "contrib_dict = [{'contributor_name': x['contributor_name'],\n",
    "                'contributor_aggregate_ytd': x['contributor_aggregate_ytd'],\n",
    "                'memo_text': x['memo_text'],\n",
    "                'pdf_url': x['pdf_url']} for x in r.json()['results']]\n",
    "contrib_df =pd.DataFrame(contrib_dict)\n",
    "contrib_df"
   ]
  },
  {
   "cell_type": "markdown",
   "id": "5f8d7121",
   "metadata": {},
   "source": [
    "## Loop over all contributions to McGuire"
   ]
  },
  {
   "cell_type": "code",
   "execution_count": 72,
   "id": "89f61a3f",
   "metadata": {},
   "outputs": [
    {
     "name": "stdout",
     "output_type": "stream",
     "text": [
      "100\n",
      "200\n",
      "300\n",
      "400\n",
      "500\n",
      "600\n",
      "700\n",
      "800\n",
      "900\n",
      "1000\n",
      "1100\n",
      "1200\n",
      "1300\n",
      "1400\n",
      "1500\n",
      "1600\n",
      "1700\n",
      "1771\n"
     ]
    },
    {
     "data": {
      "text/html": [
       "<div>\n",
       "<style scoped>\n",
       "    .dataframe tbody tr th:only-of-type {\n",
       "        vertical-align: middle;\n",
       "    }\n",
       "\n",
       "    .dataframe tbody tr th {\n",
       "        vertical-align: top;\n",
       "    }\n",
       "\n",
       "    .dataframe thead th {\n",
       "        text-align: right;\n",
       "    }\n",
       "</style>\n",
       "<table border=\"1\" class=\"dataframe\">\n",
       "  <thead>\n",
       "    <tr style=\"text-align: right;\">\n",
       "      <th></th>\n",
       "      <th>contributor_name</th>\n",
       "      <th>contributor_aggregate_ytd</th>\n",
       "      <th>memo_text</th>\n",
       "      <th>pdf_url</th>\n",
       "    </tr>\n",
       "  </thead>\n",
       "  <tbody>\n",
       "    <tr>\n",
       "      <th>0</th>\n",
       "      <td>MCGUIRE VICTORY FUND</td>\n",
       "      <td>279791.09</td>\n",
       "      <td>None</td>\n",
       "      <td>https://docquery.fec.gov/cgi-bin/fecimg/?20240...</td>\n",
       "    </tr>\n",
       "    <tr>\n",
       "      <th>1</th>\n",
       "      <td>MCGUIRE VICTORY FUND</td>\n",
       "      <td>119484.10</td>\n",
       "      <td>None</td>\n",
       "      <td>https://docquery.fec.gov/cgi-bin/fecimg/?20240...</td>\n",
       "    </tr>\n",
       "    <tr>\n",
       "      <th>2</th>\n",
       "      <td>MCGUIRE VICTORY FUND</td>\n",
       "      <td>397795.08</td>\n",
       "      <td>None</td>\n",
       "      <td>https://docquery.fec.gov/cgi-bin/fecimg/?20240...</td>\n",
       "    </tr>\n",
       "    <tr>\n",
       "      <th>3</th>\n",
       "      <td>MCGUIRE VICTORY FUND</td>\n",
       "      <td>66488.21</td>\n",
       "      <td>TRANSFER FROM JOINT FUNDRAISER</td>\n",
       "      <td>https://docquery.fec.gov/cgi-bin/fecimg/?20250...</td>\n",
       "    </tr>\n",
       "    <tr>\n",
       "      <th>4</th>\n",
       "      <td>MCGUIRE VICTORY FUND</td>\n",
       "      <td>279791.09</td>\n",
       "      <td>None</td>\n",
       "      <td>https://docquery.fec.gov/cgi-bin/fecimg/?20240...</td>\n",
       "    </tr>\n",
       "    <tr>\n",
       "      <th>...</th>\n",
       "      <td>...</td>\n",
       "      <td>...</td>\n",
       "      <td>...</td>\n",
       "      <td>...</td>\n",
       "    </tr>\n",
       "    <tr>\n",
       "      <th>1766</th>\n",
       "      <td>REHNERT, GEOFFREY</td>\n",
       "      <td>7000.00</td>\n",
       "      <td>REDESIGNATION FROM</td>\n",
       "      <td>https://docquery.fec.gov/cgi-bin/fecimg/?20250...</td>\n",
       "    </tr>\n",
       "    <tr>\n",
       "      <th>1767</th>\n",
       "      <td>GOOD, JOHN P MR</td>\n",
       "      <td>7000.00</td>\n",
       "      <td>REDESIGNATION FROM</td>\n",
       "      <td>https://docquery.fec.gov/cgi-bin/fecimg/?20250...</td>\n",
       "    </tr>\n",
       "    <tr>\n",
       "      <th>1768</th>\n",
       "      <td>PEROT, ROSS</td>\n",
       "      <td>7000.00</td>\n",
       "      <td>MEMO: SPLIT OF-ROSS PEROT</td>\n",
       "      <td>https://docquery.fec.gov/cgi-bin/fecimg/?20250...</td>\n",
       "    </tr>\n",
       "    <tr>\n",
       "      <th>1769</th>\n",
       "      <td>MAFRIGE, DAVID Z.</td>\n",
       "      <td>6500.00</td>\n",
       "      <td>MEMO: SPLIT OF-DAVID Z. MAFRIGE</td>\n",
       "      <td>https://docquery.fec.gov/cgi-bin/fecimg/?20250...</td>\n",
       "    </tr>\n",
       "    <tr>\n",
       "      <th>1770</th>\n",
       "      <td>REPUBLICAN JEWISH COALITION-PAC (RJC-PAC)</td>\n",
       "      <td>10000.00</td>\n",
       "      <td>None</td>\n",
       "      <td>https://docquery.fec.gov/cgi-bin/fecimg/?20240...</td>\n",
       "    </tr>\n",
       "  </tbody>\n",
       "</table>\n",
       "<p>1771 rows × 4 columns</p>\n",
       "</div>"
      ],
      "text/plain": [
       "                               contributor_name  contributor_aggregate_ytd  \\\n",
       "0                          MCGUIRE VICTORY FUND                  279791.09   \n",
       "1                          MCGUIRE VICTORY FUND                  119484.10   \n",
       "2                          MCGUIRE VICTORY FUND                  397795.08   \n",
       "3                          MCGUIRE VICTORY FUND                   66488.21   \n",
       "4                          MCGUIRE VICTORY FUND                  279791.09   \n",
       "...                                         ...                        ...   \n",
       "1766                          REHNERT, GEOFFREY                    7000.00   \n",
       "1767                            GOOD, JOHN P MR                    7000.00   \n",
       "1768                                PEROT, ROSS                    7000.00   \n",
       "1769                          MAFRIGE, DAVID Z.                    6500.00   \n",
       "1770  REPUBLICAN JEWISH COALITION-PAC (RJC-PAC)                   10000.00   \n",
       "\n",
       "                            memo_text  \\\n",
       "0                                None   \n",
       "1                                None   \n",
       "2                                None   \n",
       "3      TRANSFER FROM JOINT FUNDRAISER   \n",
       "4                                None   \n",
       "...                               ...   \n",
       "1766               REDESIGNATION FROM   \n",
       "1767               REDESIGNATION FROM   \n",
       "1768        MEMO: SPLIT OF-ROSS PEROT   \n",
       "1769  MEMO: SPLIT OF-DAVID Z. MAFRIGE   \n",
       "1770                             None   \n",
       "\n",
       "                                                pdf_url  \n",
       "0     https://docquery.fec.gov/cgi-bin/fecimg/?20240...  \n",
       "1     https://docquery.fec.gov/cgi-bin/fecimg/?20240...  \n",
       "2     https://docquery.fec.gov/cgi-bin/fecimg/?20240...  \n",
       "3     https://docquery.fec.gov/cgi-bin/fecimg/?20250...  \n",
       "4     https://docquery.fec.gov/cgi-bin/fecimg/?20240...  \n",
       "...                                                 ...  \n",
       "1766  https://docquery.fec.gov/cgi-bin/fecimg/?20250...  \n",
       "1767  https://docquery.fec.gov/cgi-bin/fecimg/?20250...  \n",
       "1768  https://docquery.fec.gov/cgi-bin/fecimg/?20250...  \n",
       "1769  https://docquery.fec.gov/cgi-bin/fecimg/?20250...  \n",
       "1770  https://docquery.fec.gov/cgi-bin/fecimg/?20240...  \n",
       "\n",
       "[1771 rows x 4 columns]"
      ]
     },
     "execution_count": 72,
     "metadata": {},
     "output_type": "execute_result"
    }
   ],
   "source": [
    "contrib_df = pd.DataFrame()\n",
    "\n",
    "endpoint = '/v1/schedules/schedule_a/'\n",
    "params = {'api_key': feckey,\n",
    "          'committee_id': committee_ids[0],\n",
    "          'per_page': 100,\n",
    "          'sort': '-contribution_receipt_amount'}\n",
    "\n",
    "r = requests.get(root + endpoint,\n",
    "                 params=params,\n",
    "                 headers=headers)\n",
    "\n",
    "contrib_list = [{'contributor_name': x['contributor_name'],\n",
    "                'contributor_aggregate_ytd': x['contributor_aggregate_ytd'],\n",
    "                'memo_text': x['memo_text'],\n",
    "                'pdf_url': x['pdf_url']} for x in r.json()['results']]\n",
    "lastindex = r.json()['pagination']['last_indexes']\n",
    "\n",
    "newrecords = len(r.json()['results'])\n",
    "\n",
    "while newrecords > 0:\n",
    "    print(len(contrib_list))\n",
    "\n",
    "    params['last_contribution_receipt_amount']=lastindex['last_contribution_receipt_amount']\n",
    "    params['last_index']=lastindex['last_index']\n",
    "\n",
    "    r = requests.get(root + endpoint, params=params,headers=headers)\n",
    "\n",
    "    contrib_list = contrib_list + [{'contributor_name': x['contributor_name'],\n",
    "                'contributor_aggregate_ytd': x['contributor_aggregate_ytd'],\n",
    "                'memo_text': x['memo_text'],\n",
    "                'pdf_url': x['pdf_url']} for x in r.json()['results']]\n",
    "    \n",
    "    lastindex = r.json()['pagination']['last_indexes']\n",
    "\n",
    "    newrecords = len(r.json()['results'])\n",
    "\n",
    "\n",
    "contrib_df =pd.DataFrame(contrib_list)\n",
    "contrib_df"
   ]
  },
  {
   "cell_type": "code",
   "execution_count": null,
   "id": "5121362f",
   "metadata": {},
   "outputs": [],
   "source": []
  }
 ],
 "metadata": {
  "kernelspec": {
   "display_name": "ds6001",
   "language": "python",
   "name": "python3"
  },
  "language_info": {
   "codemirror_mode": {
    "name": "ipython",
    "version": 3
   },
   "file_extension": ".py",
   "mimetype": "text/x-python",
   "name": "python",
   "nbconvert_exporter": "python",
   "pygments_lexer": "ipython3",
   "version": "3.13.5"
  }
 },
 "nbformat": 4,
 "nbformat_minor": 5
}
