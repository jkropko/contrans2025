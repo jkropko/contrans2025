{
 "cells": [
  {
   "cell_type": "code",
   "execution_count": 1,
   "id": "2a1850be",
   "metadata": {},
   "outputs": [],
   "source": [
    "import numpy as np\n",
    "import pandas as pd"
   ]
  },
  {
   "cell_type": "code",
   "execution_count": 2,
   "id": "ed27f937",
   "metadata": {},
   "outputs": [],
   "source": [
    "bill_summaries = pd.read_csv('../data/bill_summaries.csv')\n",
    "bioinfo = pd.read_csv('../data/bioinfo.csv')\n",
    "fec_ids = pd.read_csv('../data/fec_ids.csv')\n",
    "ideology = pd.read_csv('../data/ideology.csv')\n",
    "sponsored_legislation = pd.read_csv('../data/sponsored_legislation.csv')\n",
    "terms = pd.read_csv('../data/terms.csv')\n",
    "vote_compare = pd.read_csv('../data/vote_compare.csv')\n",
    "contrib = pd.read_csv('../data/contrib.csv')\n",
    "\n"
   ]
  },
  {
   "cell_type": "markdown",
   "id": "36b5e17a",
   "metadata": {},
   "source": [
    "1. Do each of the CSVs have a primary key? If so, what?"
   ]
  },
  {
   "cell_type": "code",
   "execution_count": 3,
   "id": "d378b6ba",
   "metadata": {},
   "outputs": [
    {
     "data": {
      "text/plain": [
       "Index(['actionDate', 'actionDesc', 'currentChamber', 'currentChamberCode',\n",
       "       'lastSummaryUpdateDate', 'text', 'updateDate', 'versionCode',\n",
       "       'bill.congress', 'bill.number', 'bill.originChamber',\n",
       "       'bill.originChamberCode', 'bill.title', 'bill.type',\n",
       "       'bill.updateDateIncludingText', 'bill.url'],\n",
       "      dtype='object')"
      ]
     },
     "execution_count": 3,
     "metadata": {},
     "output_type": "execute_result"
    }
   ],
   "source": [
    "bill_summaries.columns\n"
   ]
  },
  {
   "cell_type": "code",
   "execution_count": 4,
   "id": "199e956f",
   "metadata": {},
   "outputs": [
    {
     "data": {
      "text/plain": [
       "False    2751\n",
       "Name: count, dtype: int64"
      ]
     },
     "execution_count": 4,
     "metadata": {},
     "output_type": "execute_result"
    }
   ],
   "source": [
    "bill_summaries[['bill.type', 'bill.number', 'versionCode']].duplicated().value_counts()"
   ]
  },
  {
   "cell_type": "markdown",
   "id": "54dcb80d",
   "metadata": {},
   "source": [
    "Primary key:"
   ]
  },
  {
   "cell_type": "code",
   "execution_count": 5,
   "id": "0f36ad31",
   "metadata": {},
   "outputs": [
    {
     "data": {
      "text/plain": [
       "Index(['bioguide_id', 'Full name', 'Chamber', 'State', 'Party', 'District',\n",
       "       'birthYear', 'image', 'Office address', 'Phone', 'Website'],\n",
       "      dtype='object')"
      ]
     },
     "execution_count": 5,
     "metadata": {},
     "output_type": "execute_result"
    }
   ],
   "source": [
    "\n",
    "bioinfo.columns\n"
   ]
  },
  {
   "cell_type": "code",
   "execution_count": 6,
   "id": "c5494211",
   "metadata": {},
   "outputs": [
    {
     "data": {
      "text/plain": [
       "False    545\n",
       "Name: count, dtype: int64"
      ]
     },
     "execution_count": 6,
     "metadata": {},
     "output_type": "execute_result"
    }
   ],
   "source": [
    "bioinfo[['bioguide_id']].duplicated().value_counts()"
   ]
  },
  {
   "cell_type": "code",
   "execution_count": 7,
   "id": "ae1f72d1",
   "metadata": {},
   "outputs": [
    {
     "data": {
      "text/plain": [
       "Index(['bioguide_id', 'fec_id'], dtype='object')"
      ]
     },
     "execution_count": 7,
     "metadata": {},
     "output_type": "execute_result"
    }
   ],
   "source": [
    "\n",
    "fec_ids.columns\n"
   ]
  },
  {
   "cell_type": "code",
   "execution_count": 8,
   "id": "1ad6bcd2",
   "metadata": {},
   "outputs": [
    {
     "data": {
      "text/plain": [
       "False    545\n",
       "Name: count, dtype: int64"
      ]
     },
     "execution_count": 8,
     "metadata": {},
     "output_type": "execute_result"
    }
   ],
   "source": [
    "fec_ids[['bioguide_id']].duplicated().value_counts()"
   ]
  },
  {
   "cell_type": "code",
   "execution_count": 9,
   "id": "6e614e85",
   "metadata": {},
   "outputs": [
    {
     "data": {
      "text/plain": [
       "Index(['bioname', 'chamber', 'left_right_ideology', 'state_abbrev',\n",
       "       'district_code', 'icpsr', 'bioguide_id', 'party'],\n",
       "      dtype='object')"
      ]
     },
     "execution_count": 9,
     "metadata": {},
     "output_type": "execute_result"
    }
   ],
   "source": [
    "\n",
    "ideology.columns\n"
   ]
  },
  {
   "cell_type": "code",
   "execution_count": 10,
   "id": "ebd08fca",
   "metadata": {},
   "outputs": [
    {
     "data": {
      "text/plain": [
       "False    545\n",
       "Name: count, dtype: int64"
      ]
     },
     "execution_count": 10,
     "metadata": {},
     "output_type": "execute_result"
    }
   ],
   "source": [
    "ideology[['bioguide_id']].duplicated().value_counts()"
   ]
  },
  {
   "cell_type": "code",
   "execution_count": 11,
   "id": "bbe50057",
   "metadata": {},
   "outputs": [
    {
     "data": {
      "text/plain": [
       "Index(['introducedDate', 'type', 'url', 'number', 'title', 'bioguide_id'], dtype='object')"
      ]
     },
     "execution_count": 11,
     "metadata": {},
     "output_type": "execute_result"
    }
   ],
   "source": [
    "\n",
    "sponsored_legislation.columns\n"
   ]
  },
  {
   "cell_type": "code",
   "execution_count": 12,
   "id": "3f9d85af",
   "metadata": {},
   "outputs": [
    {
     "data": {
      "text/plain": [
       "False    14379\n",
       "Name: count, dtype: int64"
      ]
     },
     "execution_count": 12,
     "metadata": {},
     "output_type": "execute_result"
    }
   ],
   "source": [
    "sponsored_legislation[['url']].duplicated().value_counts()"
   ]
  },
  {
   "cell_type": "code",
   "execution_count": 13,
   "id": "c85e864c",
   "metadata": {},
   "outputs": [
    {
     "data": {
      "text/plain": [
       "Index(['bioguide_id', 'chamber', 'congress', 'stateCode', 'startYear',\n",
       "       'endYear', 'district'],\n",
       "      dtype='object')"
      ]
     },
     "execution_count": 13,
     "metadata": {},
     "output_type": "execute_result"
    }
   ],
   "source": [
    "terms.columns"
   ]
  },
  {
   "cell_type": "code",
   "execution_count": 14,
   "id": "aebefd61",
   "metadata": {},
   "outputs": [
    {
     "data": {
      "text/plain": [
       "False    3257\n",
       "Name: count, dtype: int64"
      ]
     },
     "execution_count": 14,
     "metadata": {},
     "output_type": "execute_result"
    }
   ],
   "source": [
    "terms[['bioguide_id', 'chamber', 'congress']].duplicated().value_counts()"
   ]
  },
  {
   "cell_type": "code",
   "execution_count": 15,
   "id": "bc479fd2",
   "metadata": {},
   "outputs": [
    {
     "data": {
      "text/plain": [
       "Index(['bioname', 'comparison_member', 'agree'], dtype='object')"
      ]
     },
     "execution_count": 15,
     "metadata": {},
     "output_type": "execute_result"
    }
   ],
   "source": [
    "\n",
    "vote_compare.columns"
   ]
  },
  {
   "cell_type": "code",
   "execution_count": 16,
   "id": "b002ccac",
   "metadata": {},
   "outputs": [
    {
     "data": {
      "text/plain": [
       "False    206040\n",
       "Name: count, dtype: int64"
      ]
     },
     "execution_count": 16,
     "metadata": {},
     "output_type": "execute_result"
    }
   ],
   "source": [
    "vote_compare[['bioname', 'comparison_member']].duplicated().value_counts()"
   ]
  },
  {
   "cell_type": "code",
   "execution_count": 17,
   "id": "982fd71b",
   "metadata": {},
   "outputs": [
    {
     "data": {
      "text/plain": [
       "Index(['contributor_name', 'contributor_aggregate_ytd', 'memo_text', 'pdf_url',\n",
       "       'fec_committee_id', 'fec_id'],\n",
       "      dtype='object')"
      ]
     },
     "execution_count": 17,
     "metadata": {},
     "output_type": "execute_result"
    }
   ],
   "source": [
    "contrib.columns"
   ]
  },
  {
   "cell_type": "code",
   "execution_count": 18,
   "id": "cbd8f8a2",
   "metadata": {},
   "outputs": [
    {
     "data": {
      "text/plain": [
       "True     431028\n",
       "False    217665\n",
       "Name: count, dtype: int64"
      ]
     },
     "execution_count": 18,
     "metadata": {},
     "output_type": "execute_result"
    }
   ],
   "source": [
    "contrib[['pdf_url']].duplicated().value_counts()"
   ]
  },
  {
   "cell_type": "code",
   "execution_count": 19,
   "id": "8903e762",
   "metadata": {},
   "outputs": [
    {
     "data": {
      "text/plain": [
       "'http://docquery.fec.gov/cgi-bin/fecimg/?10930084691'"
      ]
     },
     "execution_count": 19,
     "metadata": {},
     "output_type": "execute_result"
    }
   ],
   "source": [
    "contrib.loc[contrib.duplicated('pdf_url', keep=False)].sort_values('pdf_url').head(10)['pdf_url'][600174]"
   ]
  },
  {
   "cell_type": "code",
   "execution_count": 20,
   "id": "eb425ff5",
   "metadata": {},
   "outputs": [],
   "source": [
    "contrib = contrib.drop_duplicates()"
   ]
  },
  {
   "cell_type": "code",
   "execution_count": 21,
   "id": "feaa1fde",
   "metadata": {},
   "outputs": [
    {
     "data": {
      "text/plain": [
       "True     378715\n",
       "False    217665\n",
       "Name: count, dtype: int64"
      ]
     },
     "execution_count": 21,
     "metadata": {},
     "output_type": "execute_result"
    }
   ],
   "source": [
    "contrib[['pdf_url']].duplicated().value_counts()"
   ]
  },
  {
   "cell_type": "markdown",
   "id": "70cc7d7c",
   "metadata": {},
   "source": [
    "2. Do any of the tables need to become multiple tables, or combined into one table?\n",
    "\n",
    "Should be combined into one table (share the same primary key): bioinfo, fec_ids, ideology "
   ]
  },
  {
   "cell_type": "code",
   "execution_count": 22,
   "id": "d2001ab3",
   "metadata": {},
   "outputs": [],
   "source": [
    "members = pd.merge(bioinfo, fec_ids,\n",
    "                   on = 'bioguide_id',\n",
    "                   how = 'outer',\n",
    "                   validate = 'one_to_one',\n",
    "                   indicator = 'matched')"
   ]
  },
  {
   "cell_type": "code",
   "execution_count": 23,
   "id": "365b80e1",
   "metadata": {},
   "outputs": [
    {
     "data": {
      "text/plain": [
       "matched\n",
       "both          545\n",
       "left_only       0\n",
       "right_only      0\n",
       "Name: count, dtype: int64"
      ]
     },
     "execution_count": 23,
     "metadata": {},
     "output_type": "execute_result"
    }
   ],
   "source": [
    "members['matched'].value_counts()"
   ]
  },
  {
   "cell_type": "code",
   "execution_count": 24,
   "id": "877a9576",
   "metadata": {},
   "outputs": [],
   "source": [
    "members = members.drop('matched', axis=1)"
   ]
  },
  {
   "cell_type": "code",
   "execution_count": 25,
   "id": "6bf544ce",
   "metadata": {},
   "outputs": [],
   "source": [
    "members = pd.merge(members, ideology,\n",
    "                   on = 'bioguide_id',\n",
    "                   how = 'outer',\n",
    "                   validate = 'one_to_one',\n",
    "                   indicator = 'matched')"
   ]
  },
  {
   "cell_type": "code",
   "execution_count": 26,
   "id": "0acc08e0",
   "metadata": {},
   "outputs": [
    {
     "data": {
      "text/plain": [
       "matched\n",
       "both          545\n",
       "left_only       0\n",
       "right_only      0\n",
       "Name: count, dtype: int64"
      ]
     },
     "execution_count": 26,
     "metadata": {},
     "output_type": "execute_result"
    }
   ],
   "source": [
    "members['matched'].value_counts()"
   ]
  },
  {
   "cell_type": "code",
   "execution_count": 27,
   "id": "e0a6fa3a",
   "metadata": {},
   "outputs": [],
   "source": [
    "members = members.drop('matched', axis=1)"
   ]
  },
  {
   "cell_type": "code",
   "execution_count": 28,
   "id": "fc8b0b63",
   "metadata": {},
   "outputs": [
    {
     "data": {
      "text/plain": [
       "Index(['bioguide_id', 'Full name', 'Chamber', 'State', 'Party', 'District',\n",
       "       'birthYear', 'image', 'Office address', 'Phone', 'Website', 'fec_id',\n",
       "       'bioname', 'chamber', 'left_right_ideology', 'state_abbrev',\n",
       "       'district_code', 'icpsr', 'party'],\n",
       "      dtype='object')"
      ]
     },
     "execution_count": 28,
     "metadata": {},
     "output_type": "execute_result"
    }
   ],
   "source": [
    "members.columns"
   ]
  },
  {
   "cell_type": "code",
   "execution_count": 29,
   "id": "90fcdaec",
   "metadata": {},
   "outputs": [
    {
     "data": {
      "text/html": [
       "<div>\n",
       "<style scoped>\n",
       "    .dataframe tbody tr th:only-of-type {\n",
       "        vertical-align: middle;\n",
       "    }\n",
       "\n",
       "    .dataframe tbody tr th {\n",
       "        vertical-align: top;\n",
       "    }\n",
       "\n",
       "    .dataframe thead th {\n",
       "        text-align: right;\n",
       "    }\n",
       "</style>\n",
       "<table border=\"1\" class=\"dataframe\">\n",
       "  <thead>\n",
       "    <tr style=\"text-align: right;\">\n",
       "      <th></th>\n",
       "      <th>0</th>\n",
       "      <th>1</th>\n",
       "      <th>2</th>\n",
       "    </tr>\n",
       "  </thead>\n",
       "  <tbody>\n",
       "    <tr>\n",
       "      <th>bioguide_id</th>\n",
       "      <td>A000055</td>\n",
       "      <td>A000148</td>\n",
       "      <td>A000369</td>\n",
       "    </tr>\n",
       "    <tr>\n",
       "      <th>Full name</th>\n",
       "      <td>Robert B. Aderholt</td>\n",
       "      <td>Jake Auchincloss</td>\n",
       "      <td>Mark E. Amodei</td>\n",
       "    </tr>\n",
       "    <tr>\n",
       "      <th>Chamber</th>\n",
       "      <td>House of Representatives</td>\n",
       "      <td>House of Representatives</td>\n",
       "      <td>House of Representatives</td>\n",
       "    </tr>\n",
       "    <tr>\n",
       "      <th>State</th>\n",
       "      <td>Alabama</td>\n",
       "      <td>Massachusetts</td>\n",
       "      <td>Nevada</td>\n",
       "    </tr>\n",
       "    <tr>\n",
       "      <th>Party</th>\n",
       "      <td>Republican</td>\n",
       "      <td>Democratic</td>\n",
       "      <td>Republican</td>\n",
       "    </tr>\n",
       "    <tr>\n",
       "      <th>District</th>\n",
       "      <td>4.0</td>\n",
       "      <td>4.0</td>\n",
       "      <td>2.0</td>\n",
       "    </tr>\n",
       "    <tr>\n",
       "      <th>birthYear</th>\n",
       "      <td>1965.0</td>\n",
       "      <td>1988.0</td>\n",
       "      <td>1958.0</td>\n",
       "    </tr>\n",
       "    <tr>\n",
       "      <th>image</th>\n",
       "      <td>https://www.congress.gov/img/member/a000055_20...</td>\n",
       "      <td>https://www.congress.gov/img/member/67817e391f...</td>\n",
       "      <td>https://www.congress.gov/img/member/a000369_20...</td>\n",
       "    </tr>\n",
       "    <tr>\n",
       "      <th>Office address</th>\n",
       "      <td>272 Cannon House Office Building, Washington, ...</td>\n",
       "      <td>1524 Longworth House Office Building, Washingt...</td>\n",
       "      <td>104 Cannon House Office Building, Washington, ...</td>\n",
       "    </tr>\n",
       "    <tr>\n",
       "      <th>Phone</th>\n",
       "      <td>(202) 225-4876</td>\n",
       "      <td>(202) 225-5931</td>\n",
       "      <td>(202) 225-6155</td>\n",
       "    </tr>\n",
       "    <tr>\n",
       "      <th>Website</th>\n",
       "      <td>https://aderholt.house.gov/</td>\n",
       "      <td>https://auchincloss.house.gov</td>\n",
       "      <td>https://amodei.house.gov</td>\n",
       "    </tr>\n",
       "    <tr>\n",
       "      <th>fec_id</th>\n",
       "      <td>H6AL04098</td>\n",
       "      <td>H0MA04192</td>\n",
       "      <td>H2NV02395</td>\n",
       "    </tr>\n",
       "    <tr>\n",
       "      <th>bioname</th>\n",
       "      <td>ADERHOLT, Robert</td>\n",
       "      <td>AUCHINCLOSS, Jake</td>\n",
       "      <td>AMODEI, Mark E.</td>\n",
       "    </tr>\n",
       "    <tr>\n",
       "      <th>chamber</th>\n",
       "      <td>House</td>\n",
       "      <td>House</td>\n",
       "      <td>House</td>\n",
       "    </tr>\n",
       "    <tr>\n",
       "      <th>left_right_ideology</th>\n",
       "      <td>0.405</td>\n",
       "      <td>-0.288</td>\n",
       "      <td>0.384</td>\n",
       "    </tr>\n",
       "    <tr>\n",
       "      <th>state_abbrev</th>\n",
       "      <td>AL</td>\n",
       "      <td>MA</td>\n",
       "      <td>NV</td>\n",
       "    </tr>\n",
       "    <tr>\n",
       "      <th>district_code</th>\n",
       "      <td>4</td>\n",
       "      <td>4</td>\n",
       "      <td>2</td>\n",
       "    </tr>\n",
       "    <tr>\n",
       "      <th>icpsr</th>\n",
       "      <td>29701</td>\n",
       "      <td>22100</td>\n",
       "      <td>21196</td>\n",
       "    </tr>\n",
       "    <tr>\n",
       "      <th>party</th>\n",
       "      <td>Republican</td>\n",
       "      <td>Democrat</td>\n",
       "      <td>Republican</td>\n",
       "    </tr>\n",
       "  </tbody>\n",
       "</table>\n",
       "</div>"
      ],
      "text/plain": [
       "                                                                     0  \\\n",
       "bioguide_id                                                    A000055   \n",
       "Full name                                           Robert B. Aderholt   \n",
       "Chamber                                       House of Representatives   \n",
       "State                                                          Alabama   \n",
       "Party                                                       Republican   \n",
       "District                                                           4.0   \n",
       "birthYear                                                       1965.0   \n",
       "image                https://www.congress.gov/img/member/a000055_20...   \n",
       "Office address       272 Cannon House Office Building, Washington, ...   \n",
       "Phone                                                   (202) 225-4876   \n",
       "Website                                    https://aderholt.house.gov/   \n",
       "fec_id                                                       H6AL04098   \n",
       "bioname                                               ADERHOLT, Robert   \n",
       "chamber                                                          House   \n",
       "left_right_ideology                                              0.405   \n",
       "state_abbrev                                                        AL   \n",
       "district_code                                                        4   \n",
       "icpsr                                                            29701   \n",
       "party                                                       Republican   \n",
       "\n",
       "                                                                     1  \\\n",
       "bioguide_id                                                    A000148   \n",
       "Full name                                             Jake Auchincloss   \n",
       "Chamber                                       House of Representatives   \n",
       "State                                                    Massachusetts   \n",
       "Party                                                       Democratic   \n",
       "District                                                           4.0   \n",
       "birthYear                                                       1988.0   \n",
       "image                https://www.congress.gov/img/member/67817e391f...   \n",
       "Office address       1524 Longworth House Office Building, Washingt...   \n",
       "Phone                                                   (202) 225-5931   \n",
       "Website                                  https://auchincloss.house.gov   \n",
       "fec_id                                                       H0MA04192   \n",
       "bioname                                              AUCHINCLOSS, Jake   \n",
       "chamber                                                          House   \n",
       "left_right_ideology                                             -0.288   \n",
       "state_abbrev                                                        MA   \n",
       "district_code                                                        4   \n",
       "icpsr                                                            22100   \n",
       "party                                                         Democrat   \n",
       "\n",
       "                                                                     2  \n",
       "bioguide_id                                                    A000369  \n",
       "Full name                                               Mark E. Amodei  \n",
       "Chamber                                       House of Representatives  \n",
       "State                                                           Nevada  \n",
       "Party                                                       Republican  \n",
       "District                                                           2.0  \n",
       "birthYear                                                       1958.0  \n",
       "image                https://www.congress.gov/img/member/a000369_20...  \n",
       "Office address       104 Cannon House Office Building, Washington, ...  \n",
       "Phone                                                   (202) 225-6155  \n",
       "Website                                       https://amodei.house.gov  \n",
       "fec_id                                                       H2NV02395  \n",
       "bioname                                                AMODEI, Mark E.  \n",
       "chamber                                                          House  \n",
       "left_right_ideology                                              0.384  \n",
       "state_abbrev                                                        NV  \n",
       "district_code                                                        2  \n",
       "icpsr                                                            21196  \n",
       "party                                                       Republican  "
      ]
     },
     "execution_count": 29,
     "metadata": {},
     "output_type": "execute_result"
    }
   ],
   "source": [
    "members.head(3).T"
   ]
  },
  {
   "cell_type": "code",
   "execution_count": 30,
   "id": "732d59a3",
   "metadata": {},
   "outputs": [],
   "source": [
    "members = members.drop(['Chamber', 'Party', 'District', 'State'], axis=1)\n"
   ]
  },
  {
   "cell_type": "code",
   "execution_count": 31,
   "id": "1fe7b6e0",
   "metadata": {},
   "outputs": [],
   "source": [
    "members.columns = [c.lower().replace(' ', '_') for c in members.columns]"
   ]
  },
  {
   "cell_type": "code",
   "execution_count": 32,
   "id": "b9a855fc",
   "metadata": {},
   "outputs": [
    {
     "data": {
      "text/html": [
       "<div>\n",
       "<style scoped>\n",
       "    .dataframe tbody tr th:only-of-type {\n",
       "        vertical-align: middle;\n",
       "    }\n",
       "\n",
       "    .dataframe tbody tr th {\n",
       "        vertical-align: top;\n",
       "    }\n",
       "\n",
       "    .dataframe thead th {\n",
       "        text-align: right;\n",
       "    }\n",
       "</style>\n",
       "<table border=\"1\" class=\"dataframe\">\n",
       "  <thead>\n",
       "    <tr style=\"text-align: right;\">\n",
       "      <th></th>\n",
       "      <th>0</th>\n",
       "      <th>1</th>\n",
       "      <th>2</th>\n",
       "    </tr>\n",
       "  </thead>\n",
       "  <tbody>\n",
       "    <tr>\n",
       "      <th>bioguide_id</th>\n",
       "      <td>A000055</td>\n",
       "      <td>A000148</td>\n",
       "      <td>A000369</td>\n",
       "    </tr>\n",
       "    <tr>\n",
       "      <th>full_name</th>\n",
       "      <td>Robert B. Aderholt</td>\n",
       "      <td>Jake Auchincloss</td>\n",
       "      <td>Mark E. Amodei</td>\n",
       "    </tr>\n",
       "    <tr>\n",
       "      <th>birthyear</th>\n",
       "      <td>1965.0</td>\n",
       "      <td>1988.0</td>\n",
       "      <td>1958.0</td>\n",
       "    </tr>\n",
       "    <tr>\n",
       "      <th>image</th>\n",
       "      <td>https://www.congress.gov/img/member/a000055_20...</td>\n",
       "      <td>https://www.congress.gov/img/member/67817e391f...</td>\n",
       "      <td>https://www.congress.gov/img/member/a000369_20...</td>\n",
       "    </tr>\n",
       "    <tr>\n",
       "      <th>office_address</th>\n",
       "      <td>272 Cannon House Office Building, Washington, ...</td>\n",
       "      <td>1524 Longworth House Office Building, Washingt...</td>\n",
       "      <td>104 Cannon House Office Building, Washington, ...</td>\n",
       "    </tr>\n",
       "    <tr>\n",
       "      <th>phone</th>\n",
       "      <td>(202) 225-4876</td>\n",
       "      <td>(202) 225-5931</td>\n",
       "      <td>(202) 225-6155</td>\n",
       "    </tr>\n",
       "    <tr>\n",
       "      <th>website</th>\n",
       "      <td>https://aderholt.house.gov/</td>\n",
       "      <td>https://auchincloss.house.gov</td>\n",
       "      <td>https://amodei.house.gov</td>\n",
       "    </tr>\n",
       "    <tr>\n",
       "      <th>fec_id</th>\n",
       "      <td>H6AL04098</td>\n",
       "      <td>H0MA04192</td>\n",
       "      <td>H2NV02395</td>\n",
       "    </tr>\n",
       "    <tr>\n",
       "      <th>bioname</th>\n",
       "      <td>ADERHOLT, Robert</td>\n",
       "      <td>AUCHINCLOSS, Jake</td>\n",
       "      <td>AMODEI, Mark E.</td>\n",
       "    </tr>\n",
       "    <tr>\n",
       "      <th>chamber</th>\n",
       "      <td>House</td>\n",
       "      <td>House</td>\n",
       "      <td>House</td>\n",
       "    </tr>\n",
       "    <tr>\n",
       "      <th>left_right_ideology</th>\n",
       "      <td>0.405</td>\n",
       "      <td>-0.288</td>\n",
       "      <td>0.384</td>\n",
       "    </tr>\n",
       "    <tr>\n",
       "      <th>state_abbrev</th>\n",
       "      <td>AL</td>\n",
       "      <td>MA</td>\n",
       "      <td>NV</td>\n",
       "    </tr>\n",
       "    <tr>\n",
       "      <th>district_code</th>\n",
       "      <td>4</td>\n",
       "      <td>4</td>\n",
       "      <td>2</td>\n",
       "    </tr>\n",
       "    <tr>\n",
       "      <th>icpsr</th>\n",
       "      <td>29701</td>\n",
       "      <td>22100</td>\n",
       "      <td>21196</td>\n",
       "    </tr>\n",
       "    <tr>\n",
       "      <th>party</th>\n",
       "      <td>Republican</td>\n",
       "      <td>Democrat</td>\n",
       "      <td>Republican</td>\n",
       "    </tr>\n",
       "  </tbody>\n",
       "</table>\n",
       "</div>"
      ],
      "text/plain": [
       "                                                                     0  \\\n",
       "bioguide_id                                                    A000055   \n",
       "full_name                                           Robert B. Aderholt   \n",
       "birthyear                                                       1965.0   \n",
       "image                https://www.congress.gov/img/member/a000055_20...   \n",
       "office_address       272 Cannon House Office Building, Washington, ...   \n",
       "phone                                                   (202) 225-4876   \n",
       "website                                    https://aderholt.house.gov/   \n",
       "fec_id                                                       H6AL04098   \n",
       "bioname                                               ADERHOLT, Robert   \n",
       "chamber                                                          House   \n",
       "left_right_ideology                                              0.405   \n",
       "state_abbrev                                                        AL   \n",
       "district_code                                                        4   \n",
       "icpsr                                                            29701   \n",
       "party                                                       Republican   \n",
       "\n",
       "                                                                     1  \\\n",
       "bioguide_id                                                    A000148   \n",
       "full_name                                             Jake Auchincloss   \n",
       "birthyear                                                       1988.0   \n",
       "image                https://www.congress.gov/img/member/67817e391f...   \n",
       "office_address       1524 Longworth House Office Building, Washingt...   \n",
       "phone                                                   (202) 225-5931   \n",
       "website                                  https://auchincloss.house.gov   \n",
       "fec_id                                                       H0MA04192   \n",
       "bioname                                              AUCHINCLOSS, Jake   \n",
       "chamber                                                          House   \n",
       "left_right_ideology                                             -0.288   \n",
       "state_abbrev                                                        MA   \n",
       "district_code                                                        4   \n",
       "icpsr                                                            22100   \n",
       "party                                                         Democrat   \n",
       "\n",
       "                                                                     2  \n",
       "bioguide_id                                                    A000369  \n",
       "full_name                                               Mark E. Amodei  \n",
       "birthyear                                                       1958.0  \n",
       "image                https://www.congress.gov/img/member/a000369_20...  \n",
       "office_address       104 Cannon House Office Building, Washington, ...  \n",
       "phone                                                   (202) 225-6155  \n",
       "website                                       https://amodei.house.gov  \n",
       "fec_id                                                       H2NV02395  \n",
       "bioname                                                AMODEI, Mark E.  \n",
       "chamber                                                          House  \n",
       "left_right_ideology                                              0.384  \n",
       "state_abbrev                                                        NV  \n",
       "district_code                                                        2  \n",
       "icpsr                                                            21196  \n",
       "party                                                       Republican  "
      ]
     },
     "execution_count": 32,
     "metadata": {},
     "output_type": "execute_result"
    }
   ],
   "source": [
    "members.head(3).T"
   ]
  },
  {
   "cell_type": "code",
   "execution_count": 33,
   "id": "3f6f655c",
   "metadata": {},
   "outputs": [],
   "source": [
    "members.to_csv('../data/thirdNF/members.csv', index=False)"
   ]
  },
  {
   "cell_type": "code",
   "execution_count": 34,
   "id": "6fb72710",
   "metadata": {},
   "outputs": [
    {
     "data": {
      "text/html": [
       "<div>\n",
       "<style scoped>\n",
       "    .dataframe tbody tr th:only-of-type {\n",
       "        vertical-align: middle;\n",
       "    }\n",
       "\n",
       "    .dataframe tbody tr th {\n",
       "        vertical-align: top;\n",
       "    }\n",
       "\n",
       "    .dataframe thead th {\n",
       "        text-align: right;\n",
       "    }\n",
       "</style>\n",
       "<table border=\"1\" class=\"dataframe\">\n",
       "  <thead>\n",
       "    <tr style=\"text-align: right;\">\n",
       "      <th></th>\n",
       "      <th>0</th>\n",
       "      <th>1</th>\n",
       "      <th>2</th>\n",
       "    </tr>\n",
       "  </thead>\n",
       "  <tbody>\n",
       "    <tr>\n",
       "      <th>actionDate</th>\n",
       "      <td>2025-10-15</td>\n",
       "      <td>2025-10-08</td>\n",
       "      <td>2025-10-08</td>\n",
       "    </tr>\n",
       "    <tr>\n",
       "      <th>actionDesc</th>\n",
       "      <td>Introduced in Senate</td>\n",
       "      <td>Introduced in House</td>\n",
       "      <td>Introduced in House</td>\n",
       "    </tr>\n",
       "    <tr>\n",
       "      <th>currentChamber</th>\n",
       "      <td>Senate</td>\n",
       "      <td>House</td>\n",
       "      <td>House</td>\n",
       "    </tr>\n",
       "    <tr>\n",
       "      <th>currentChamberCode</th>\n",
       "      <td>S</td>\n",
       "      <td>H</td>\n",
       "      <td>H</td>\n",
       "    </tr>\n",
       "    <tr>\n",
       "      <th>lastSummaryUpdateDate</th>\n",
       "      <td>2025-10-20T19:23:02Z</td>\n",
       "      <td>2025-10-20T14:56:29Z</td>\n",
       "      <td>2025-10-20T14:06:32Z</td>\n",
       "    </tr>\n",
       "    <tr>\n",
       "      <th>text</th>\n",
       "      <td>&lt;p&gt;&lt;strong&gt;Shutdown Fairness Act&lt;/strong&gt;&lt;/p&gt;&lt;...</td>\n",
       "      <td>&lt;p&gt;&lt;strong&gt;Federal Worker Childcare Protection...</td>\n",
       "      <td>&lt;p&gt;This bill requires the federal government t...</td>\n",
       "    </tr>\n",
       "    <tr>\n",
       "      <th>updateDate</th>\n",
       "      <td>2025-10-20T19:23:15Z</td>\n",
       "      <td>2025-10-20T14:56:58Z</td>\n",
       "      <td>2025-10-20T14:07:00Z</td>\n",
       "    </tr>\n",
       "    <tr>\n",
       "      <th>versionCode</th>\n",
       "      <td>0</td>\n",
       "      <td>0</td>\n",
       "      <td>0</td>\n",
       "    </tr>\n",
       "    <tr>\n",
       "      <th>bill.congress</th>\n",
       "      <td>119</td>\n",
       "      <td>119</td>\n",
       "      <td>119</td>\n",
       "    </tr>\n",
       "    <tr>\n",
       "      <th>bill.number</th>\n",
       "      <td>3012</td>\n",
       "      <td>5720</td>\n",
       "      <td>5705</td>\n",
       "    </tr>\n",
       "    <tr>\n",
       "      <th>bill.originChamber</th>\n",
       "      <td>Senate</td>\n",
       "      <td>House</td>\n",
       "      <td>House</td>\n",
       "    </tr>\n",
       "    <tr>\n",
       "      <th>bill.originChamberCode</th>\n",
       "      <td>S</td>\n",
       "      <td>H</td>\n",
       "      <td>H</td>\n",
       "    </tr>\n",
       "    <tr>\n",
       "      <th>bill.title</th>\n",
       "      <td>Shutdown Fairness Act</td>\n",
       "      <td>Federal Worker Childcare Protection Act of 2025</td>\n",
       "      <td>To authorize the reimbursement by the Federal ...</td>\n",
       "    </tr>\n",
       "    <tr>\n",
       "      <th>bill.type</th>\n",
       "      <td>S</td>\n",
       "      <td>HR</td>\n",
       "      <td>HR</td>\n",
       "    </tr>\n",
       "    <tr>\n",
       "      <th>bill.updateDateIncludingText</th>\n",
       "      <td>2025-10-21</td>\n",
       "      <td>2025-10-20</td>\n",
       "      <td>2025-10-20</td>\n",
       "    </tr>\n",
       "    <tr>\n",
       "      <th>bill.url</th>\n",
       "      <td>https://api.congress.gov/v3/bill/119/s/3012?fo...</td>\n",
       "      <td>https://api.congress.gov/v3/bill/119/hr/5720?f...</td>\n",
       "      <td>https://api.congress.gov/v3/bill/119/hr/5705?f...</td>\n",
       "    </tr>\n",
       "  </tbody>\n",
       "</table>\n",
       "</div>"
      ],
      "text/plain": [
       "                                                                              0  \\\n",
       "actionDate                                                           2025-10-15   \n",
       "actionDesc                                                 Introduced in Senate   \n",
       "currentChamber                                                           Senate   \n",
       "currentChamberCode                                                            S   \n",
       "lastSummaryUpdateDate                                      2025-10-20T19:23:02Z   \n",
       "text                          <p><strong>Shutdown Fairness Act</strong></p><...   \n",
       "updateDate                                                 2025-10-20T19:23:15Z   \n",
       "versionCode                                                                   0   \n",
       "bill.congress                                                               119   \n",
       "bill.number                                                                3012   \n",
       "bill.originChamber                                                       Senate   \n",
       "bill.originChamberCode                                                        S   \n",
       "bill.title                                                Shutdown Fairness Act   \n",
       "bill.type                                                                     S   \n",
       "bill.updateDateIncludingText                                         2025-10-21   \n",
       "bill.url                      https://api.congress.gov/v3/bill/119/s/3012?fo...   \n",
       "\n",
       "                                                                              1  \\\n",
       "actionDate                                                           2025-10-08   \n",
       "actionDesc                                                  Introduced in House   \n",
       "currentChamber                                                            House   \n",
       "currentChamberCode                                                            H   \n",
       "lastSummaryUpdateDate                                      2025-10-20T14:56:29Z   \n",
       "text                          <p><strong>Federal Worker Childcare Protection...   \n",
       "updateDate                                                 2025-10-20T14:56:58Z   \n",
       "versionCode                                                                   0   \n",
       "bill.congress                                                               119   \n",
       "bill.number                                                                5720   \n",
       "bill.originChamber                                                        House   \n",
       "bill.originChamberCode                                                        H   \n",
       "bill.title                      Federal Worker Childcare Protection Act of 2025   \n",
       "bill.type                                                                    HR   \n",
       "bill.updateDateIncludingText                                         2025-10-20   \n",
       "bill.url                      https://api.congress.gov/v3/bill/119/hr/5720?f...   \n",
       "\n",
       "                                                                              2  \n",
       "actionDate                                                           2025-10-08  \n",
       "actionDesc                                                  Introduced in House  \n",
       "currentChamber                                                            House  \n",
       "currentChamberCode                                                            H  \n",
       "lastSummaryUpdateDate                                      2025-10-20T14:06:32Z  \n",
       "text                          <p>This bill requires the federal government t...  \n",
       "updateDate                                                 2025-10-20T14:07:00Z  \n",
       "versionCode                                                                   0  \n",
       "bill.congress                                                               119  \n",
       "bill.number                                                                5705  \n",
       "bill.originChamber                                                        House  \n",
       "bill.originChamberCode                                                        H  \n",
       "bill.title                    To authorize the reimbursement by the Federal ...  \n",
       "bill.type                                                                    HR  \n",
       "bill.updateDateIncludingText                                         2025-10-20  \n",
       "bill.url                      https://api.congress.gov/v3/bill/119/hr/5705?f...  "
      ]
     },
     "execution_count": 34,
     "metadata": {},
     "output_type": "execute_result"
    }
   ],
   "source": [
    "bill_summaries.head(3).T"
   ]
  },
  {
   "cell_type": "code",
   "execution_count": 35,
   "id": "96a9cf69",
   "metadata": {},
   "outputs": [
    {
     "name": "stdout",
     "output_type": "stream",
     "text": [
      "actionDate\n",
      "False\n",
      "actionDesc\n",
      "False\n",
      "currentChamber\n",
      "False\n",
      "currentChamberCode\n",
      "False\n",
      "lastSummaryUpdateDate\n",
      "False\n",
      "text\n",
      "False\n",
      "updateDate\n",
      "False\n",
      "versionCode\n",
      "False\n",
      "bill.congress\n",
      "True\n",
      "bill.number\n",
      "True\n",
      "bill.originChamber\n",
      "True\n",
      "bill.originChamberCode\n",
      "True\n",
      "bill.title\n",
      "True\n",
      "bill.type\n",
      "True\n",
      "bill.updateDateIncludingText\n",
      "True\n",
      "bill.url\n",
      "True\n"
     ]
    }
   ],
   "source": [
    "for c in bill_summaries.columns:\n",
    "        print(c)\n",
    "        d = bill_summaries.groupby(['bill.type', 'bill.number']).agg({c: 'nunique'})\n",
    "        print(np.mean(d[c]) == 1)"
   ]
  },
  {
   "cell_type": "code",
   "execution_count": 36,
   "id": "6b72f1b4",
   "metadata": {},
   "outputs": [],
   "source": [
    "bills = bill_summaries[['bill.type', 'bill.number', 'bill.congress', 'bill.originChamber', \n",
    "                       'bill.originChamberCode', 'bill.title', 'bill.updateDateIncludingText',\n",
    "                       'bill.url']].drop_duplicates()\n",
    "bills.columns = [c.lower().replace('.', '_') for c in bills.columns]\n",
    "bills.to_csv('../data/thirdNF/bills.csv')\n"
   ]
  },
  {
   "cell_type": "code",
   "execution_count": 37,
   "id": "6431f227",
   "metadata": {},
   "outputs": [],
   "source": [
    "bill_versions = bill_summaries.drop(['bill.congress', 'bill.originChamber', \n",
    "                       'bill.originChamberCode', 'bill.title', 'bill.updateDateIncludingText',\n",
    "                       'bill.url'], axis=1)"
   ]
  },
  {
   "cell_type": "code",
   "execution_count": null,
   "id": "7bd01ba4",
   "metadata": {},
   "outputs": [],
   "source": [
    "bill_versions.columns = [c.lower().replace('.', '_') for c in bill_versions.columns]\n",
    "bill_versions.to_csv('../data/thirdNF/bill_versions.csv')"
   ]
  },
  {
   "cell_type": "code",
   "execution_count": 39,
   "id": "9a8fd8ca",
   "metadata": {},
   "outputs": [
    {
     "data": {
      "text/html": [
       "<div>\n",
       "<style scoped>\n",
       "    .dataframe tbody tr th:only-of-type {\n",
       "        vertical-align: middle;\n",
       "    }\n",
       "\n",
       "    .dataframe tbody tr th {\n",
       "        vertical-align: top;\n",
       "    }\n",
       "\n",
       "    .dataframe thead th {\n",
       "        text-align: right;\n",
       "    }\n",
       "</style>\n",
       "<table border=\"1\" class=\"dataframe\">\n",
       "  <thead>\n",
       "    <tr style=\"text-align: right;\">\n",
       "      <th></th>\n",
       "      <th>0</th>\n",
       "      <th>1</th>\n",
       "      <th>2</th>\n",
       "    </tr>\n",
       "  </thead>\n",
       "  <tbody>\n",
       "    <tr>\n",
       "      <th>bioname</th>\n",
       "      <td>GRASSLEY, Charles Ernest</td>\n",
       "      <td>GRASSLEY, Charles Ernest</td>\n",
       "      <td>GRASSLEY, Charles Ernest</td>\n",
       "    </tr>\n",
       "    <tr>\n",
       "      <th>comparison_member</th>\n",
       "      <td>MARKEY, Edward John</td>\n",
       "      <td>SCHUMER, Charles Ellis (Chuck)</td>\n",
       "      <td>WYDEN, Ronald Lee</td>\n",
       "    </tr>\n",
       "    <tr>\n",
       "      <th>agree</th>\n",
       "      <td>0.021053</td>\n",
       "      <td>0.07193</td>\n",
       "      <td>0.052632</td>\n",
       "    </tr>\n",
       "  </tbody>\n",
       "</table>\n",
       "</div>"
      ],
      "text/plain": [
       "                                          0                               1  \\\n",
       "bioname            GRASSLEY, Charles Ernest        GRASSLEY, Charles Ernest   \n",
       "comparison_member       MARKEY, Edward John  SCHUMER, Charles Ellis (Chuck)   \n",
       "agree                              0.021053                         0.07193   \n",
       "\n",
       "                                          2  \n",
       "bioname            GRASSLEY, Charles Ernest  \n",
       "comparison_member         WYDEN, Ronald Lee  \n",
       "agree                              0.052632  "
      ]
     },
     "execution_count": 39,
     "metadata": {},
     "output_type": "execute_result"
    }
   ],
   "source": [
    "vote_compare.head(3).T"
   ]
  },
  {
   "cell_type": "code",
   "execution_count": 40,
   "id": "27f5bc2b",
   "metadata": {},
   "outputs": [],
   "source": [
    "vote_compare.to_csv('../data/thirdNF/vote_compare.csv', index=False)"
   ]
  },
  {
   "cell_type": "code",
   "execution_count": 43,
   "id": "ddaa5e11",
   "metadata": {},
   "outputs": [
    {
     "data": {
      "text/html": [
       "<div>\n",
       "<style scoped>\n",
       "    .dataframe tbody tr th:only-of-type {\n",
       "        vertical-align: middle;\n",
       "    }\n",
       "\n",
       "    .dataframe tbody tr th {\n",
       "        vertical-align: top;\n",
       "    }\n",
       "\n",
       "    .dataframe thead th {\n",
       "        text-align: right;\n",
       "    }\n",
       "</style>\n",
       "<table border=\"1\" class=\"dataframe\">\n",
       "  <thead>\n",
       "    <tr style=\"text-align: right;\">\n",
       "      <th></th>\n",
       "      <th>introducedDate</th>\n",
       "      <th>type</th>\n",
       "      <th>url</th>\n",
       "      <th>number</th>\n",
       "      <th>title</th>\n",
       "      <th>bioguide_id</th>\n",
       "    </tr>\n",
       "  </thead>\n",
       "  <tbody>\n",
       "    <tr>\n",
       "      <th>0</th>\n",
       "      <td>2025-09-10</td>\n",
       "      <td>NaN</td>\n",
       "      <td>https://api.congress.gov/v3/amendment/119/hamd...</td>\n",
       "      <td>NaN</td>\n",
       "      <td>NaN</td>\n",
       "      <td>R000575</td>\n",
       "    </tr>\n",
       "    <tr>\n",
       "      <th>1</th>\n",
       "      <td>2025-09-09</td>\n",
       "      <td>NaN</td>\n",
       "      <td>https://api.congress.gov/v3/amendment/119/hamd...</td>\n",
       "      <td>NaN</td>\n",
       "      <td>NaN</td>\n",
       "      <td>R000575</td>\n",
       "    </tr>\n",
       "    <tr>\n",
       "      <th>2</th>\n",
       "      <td>2025-09-09</td>\n",
       "      <td>NaN</td>\n",
       "      <td>https://api.congress.gov/v3/amendment/119/hamd...</td>\n",
       "      <td>NaN</td>\n",
       "      <td>NaN</td>\n",
       "      <td>R000575</td>\n",
       "    </tr>\n",
       "    <tr>\n",
       "      <th>3</th>\n",
       "      <td>2025-09-09</td>\n",
       "      <td>NaN</td>\n",
       "      <td>https://api.congress.gov/v3/amendment/119/hamd...</td>\n",
       "      <td>NaN</td>\n",
       "      <td>NaN</td>\n",
       "      <td>R000575</td>\n",
       "    </tr>\n",
       "    <tr>\n",
       "      <th>4</th>\n",
       "      <td>2025-09-09</td>\n",
       "      <td>NaN</td>\n",
       "      <td>https://api.congress.gov/v3/amendment/119/hamd...</td>\n",
       "      <td>NaN</td>\n",
       "      <td>NaN</td>\n",
       "      <td>R000575</td>\n",
       "    </tr>\n",
       "    <tr>\n",
       "      <th>5</th>\n",
       "      <td>2025-09-09</td>\n",
       "      <td>NaN</td>\n",
       "      <td>https://api.congress.gov/v3/amendment/119/hamd...</td>\n",
       "      <td>NaN</td>\n",
       "      <td>NaN</td>\n",
       "      <td>R000575</td>\n",
       "    </tr>\n",
       "    <tr>\n",
       "      <th>6</th>\n",
       "      <td>2025-06-25</td>\n",
       "      <td>HR</td>\n",
       "      <td>https://api.congress.gov/v3/bill/119/hr/4147?f...</td>\n",
       "      <td>4147.0</td>\n",
       "      <td>Poarch Band of Creek Indians Parity Act</td>\n",
       "      <td>R000575</td>\n",
       "    </tr>\n",
       "    <tr>\n",
       "      <th>7</th>\n",
       "      <td>2025-06-09</td>\n",
       "      <td>HR</td>\n",
       "      <td>https://api.congress.gov/v3/bill/119/hr/3838?f...</td>\n",
       "      <td>3838.0</td>\n",
       "      <td>Streamlining Procurement for Effective Executi...</td>\n",
       "      <td>R000575</td>\n",
       "    </tr>\n",
       "    <tr>\n",
       "      <th>8</th>\n",
       "      <td>2025-04-08</td>\n",
       "      <td>HR</td>\n",
       "      <td>https://api.congress.gov/v3/bill/119/hr/2740?f...</td>\n",
       "      <td>2740.0</td>\n",
       "      <td>To modify the boundaries of the Talladega Nati...</td>\n",
       "      <td>R000575</td>\n",
       "    </tr>\n",
       "    <tr>\n",
       "      <th>9</th>\n",
       "      <td>2025-03-31</td>\n",
       "      <td>HR</td>\n",
       "      <td>https://api.congress.gov/v3/bill/119/hr/2519?f...</td>\n",
       "      <td>2519.0</td>\n",
       "      <td>To provide a per diem allowance for Members of...</td>\n",
       "      <td>R000575</td>\n",
       "    </tr>\n",
       "    <tr>\n",
       "      <th>10</th>\n",
       "      <td>2025-02-26</td>\n",
       "      <td>HR</td>\n",
       "      <td>https://api.congress.gov/v3/bill/119/hr/1630?f...</td>\n",
       "      <td>1630.0</td>\n",
       "      <td>To allow States to elect to observe year-round...</td>\n",
       "      <td>R000575</td>\n",
       "    </tr>\n",
       "    <tr>\n",
       "      <th>11</th>\n",
       "      <td>2025-02-25</td>\n",
       "      <td>HR</td>\n",
       "      <td>https://api.congress.gov/v3/bill/119/hr/1580?f...</td>\n",
       "      <td>1580.0</td>\n",
       "      <td>To amend section 3001 of title 39, United Stat...</td>\n",
       "      <td>R000575</td>\n",
       "    </tr>\n",
       "    <tr>\n",
       "      <th>12</th>\n",
       "      <td>2025-01-31</td>\n",
       "      <td>HRES</td>\n",
       "      <td>https://api.congress.gov/v3/bill/119/hres/80?f...</td>\n",
       "      <td>80.0</td>\n",
       "      <td>Providing amounts for the expenses of the Comm...</td>\n",
       "      <td>R000575</td>\n",
       "    </tr>\n",
       "    <tr>\n",
       "      <th>13</th>\n",
       "      <td>2025-09-16</td>\n",
       "      <td>HR</td>\n",
       "      <td>https://api.congress.gov/v3/bill/119/hr/5377?f...</td>\n",
       "      <td>5377.0</td>\n",
       "      <td>Rural Health Training Opportunities Act</td>\n",
       "      <td>S001185</td>\n",
       "    </tr>\n",
       "    <tr>\n",
       "      <th>14</th>\n",
       "      <td>2025-07-23</td>\n",
       "      <td>HR</td>\n",
       "      <td>https://api.congress.gov/v3/bill/119/hr/4731?f...</td>\n",
       "      <td>4731.0</td>\n",
       "      <td>Resident Physician Shortage Reduction Act of 2025</td>\n",
       "      <td>S001185</td>\n",
       "    </tr>\n",
       "  </tbody>\n",
       "</table>\n",
       "</div>"
      ],
      "text/plain": [
       "   introducedDate  type                                                url  \\\n",
       "0      2025-09-10   NaN  https://api.congress.gov/v3/amendment/119/hamd...   \n",
       "1      2025-09-09   NaN  https://api.congress.gov/v3/amendment/119/hamd...   \n",
       "2      2025-09-09   NaN  https://api.congress.gov/v3/amendment/119/hamd...   \n",
       "3      2025-09-09   NaN  https://api.congress.gov/v3/amendment/119/hamd...   \n",
       "4      2025-09-09   NaN  https://api.congress.gov/v3/amendment/119/hamd...   \n",
       "5      2025-09-09   NaN  https://api.congress.gov/v3/amendment/119/hamd...   \n",
       "6      2025-06-25    HR  https://api.congress.gov/v3/bill/119/hr/4147?f...   \n",
       "7      2025-06-09    HR  https://api.congress.gov/v3/bill/119/hr/3838?f...   \n",
       "8      2025-04-08    HR  https://api.congress.gov/v3/bill/119/hr/2740?f...   \n",
       "9      2025-03-31    HR  https://api.congress.gov/v3/bill/119/hr/2519?f...   \n",
       "10     2025-02-26    HR  https://api.congress.gov/v3/bill/119/hr/1630?f...   \n",
       "11     2025-02-25    HR  https://api.congress.gov/v3/bill/119/hr/1580?f...   \n",
       "12     2025-01-31  HRES  https://api.congress.gov/v3/bill/119/hres/80?f...   \n",
       "13     2025-09-16    HR  https://api.congress.gov/v3/bill/119/hr/5377?f...   \n",
       "14     2025-07-23    HR  https://api.congress.gov/v3/bill/119/hr/4731?f...   \n",
       "\n",
       "    number                                              title bioguide_id  \n",
       "0      NaN                                                NaN     R000575  \n",
       "1      NaN                                                NaN     R000575  \n",
       "2      NaN                                                NaN     R000575  \n",
       "3      NaN                                                NaN     R000575  \n",
       "4      NaN                                                NaN     R000575  \n",
       "5      NaN                                                NaN     R000575  \n",
       "6   4147.0            Poarch Band of Creek Indians Parity Act     R000575  \n",
       "7   3838.0  Streamlining Procurement for Effective Executi...     R000575  \n",
       "8   2740.0  To modify the boundaries of the Talladega Nati...     R000575  \n",
       "9   2519.0  To provide a per diem allowance for Members of...     R000575  \n",
       "10  1630.0  To allow States to elect to observe year-round...     R000575  \n",
       "11  1580.0  To amend section 3001 of title 39, United Stat...     R000575  \n",
       "12    80.0  Providing amounts for the expenses of the Comm...     R000575  \n",
       "13  5377.0            Rural Health Training Opportunities Act     S001185  \n",
       "14  4731.0  Resident Physician Shortage Reduction Act of 2025     S001185  "
      ]
     },
     "execution_count": 43,
     "metadata": {},
     "output_type": "execute_result"
    }
   ],
   "source": [
    "sponsored_legislation.head(15)"
   ]
  },
  {
   "cell_type": "code",
   "execution_count": 45,
   "id": "68bc98bb",
   "metadata": {},
   "outputs": [
    {
     "data": {
      "text/html": [
       "<div>\n",
       "<style scoped>\n",
       "    .dataframe tbody tr th:only-of-type {\n",
       "        vertical-align: middle;\n",
       "    }\n",
       "\n",
       "    .dataframe tbody tr th {\n",
       "        vertical-align: top;\n",
       "    }\n",
       "\n",
       "    .dataframe thead th {\n",
       "        text-align: right;\n",
       "    }\n",
       "</style>\n",
       "<table border=\"1\" class=\"dataframe\">\n",
       "  <thead>\n",
       "    <tr style=\"text-align: right;\">\n",
       "      <th></th>\n",
       "      <th>Unnamed: 0</th>\n",
       "      <th>bill_type</th>\n",
       "      <th>bill_number</th>\n",
       "      <th>bill_congress</th>\n",
       "      <th>bill_originchamber</th>\n",
       "      <th>bill_originchambercode</th>\n",
       "      <th>bill_title</th>\n",
       "      <th>bill_updatedateincludingtext</th>\n",
       "      <th>bill_url</th>\n",
       "    </tr>\n",
       "  </thead>\n",
       "  <tbody>\n",
       "    <tr>\n",
       "      <th>0</th>\n",
       "      <td>0</td>\n",
       "      <td>S</td>\n",
       "      <td>3012</td>\n",
       "      <td>119</td>\n",
       "      <td>Senate</td>\n",
       "      <td>S</td>\n",
       "      <td>Shutdown Fairness Act</td>\n",
       "      <td>2025-10-21</td>\n",
       "      <td>https://api.congress.gov/v3/bill/119/s/3012?fo...</td>\n",
       "    </tr>\n",
       "    <tr>\n",
       "      <th>1</th>\n",
       "      <td>1</td>\n",
       "      <td>HR</td>\n",
       "      <td>5720</td>\n",
       "      <td>119</td>\n",
       "      <td>House</td>\n",
       "      <td>H</td>\n",
       "      <td>Federal Worker Childcare Protection Act of 2025</td>\n",
       "      <td>2025-10-20</td>\n",
       "      <td>https://api.congress.gov/v3/bill/119/hr/5720?f...</td>\n",
       "    </tr>\n",
       "    <tr>\n",
       "      <th>2</th>\n",
       "      <td>2</td>\n",
       "      <td>HR</td>\n",
       "      <td>5705</td>\n",
       "      <td>119</td>\n",
       "      <td>House</td>\n",
       "      <td>H</td>\n",
       "      <td>To authorize the reimbursement by the Federal ...</td>\n",
       "      <td>2025-10-20</td>\n",
       "      <td>https://api.congress.gov/v3/bill/119/hr/5705?f...</td>\n",
       "    </tr>\n",
       "  </tbody>\n",
       "</table>\n",
       "</div>"
      ],
      "text/plain": [
       "   Unnamed: 0 bill_type  bill_number  bill_congress bill_originchamber  \\\n",
       "0           0         S         3012            119             Senate   \n",
       "1           1        HR         5720            119              House   \n",
       "2           2        HR         5705            119              House   \n",
       "\n",
       "  bill_originchambercode                                         bill_title  \\\n",
       "0                      S                              Shutdown Fairness Act   \n",
       "1                      H    Federal Worker Childcare Protection Act of 2025   \n",
       "2                      H  To authorize the reimbursement by the Federal ...   \n",
       "\n",
       "  bill_updatedateincludingtext  \\\n",
       "0                   2025-10-21   \n",
       "1                   2025-10-20   \n",
       "2                   2025-10-20   \n",
       "\n",
       "                                            bill_url  \n",
       "0  https://api.congress.gov/v3/bill/119/s/3012?fo...  \n",
       "1  https://api.congress.gov/v3/bill/119/hr/5720?f...  \n",
       "2  https://api.congress.gov/v3/bill/119/hr/5705?f...  "
      ]
     },
     "execution_count": 45,
     "metadata": {},
     "output_type": "execute_result"
    }
   ],
   "source": [
    "bills = pd.read_csv('../data/thirdNF/bills.csv')\n",
    "bills.head(3)"
   ]
  },
  {
   "cell_type": "code",
   "execution_count": 47,
   "id": "083908fe",
   "metadata": {},
   "outputs": [],
   "source": [
    "bills2 = pd.merge(bills, sponsored_legislation,\n",
    "                  left_on = 'bill_url',\n",
    "                  right_on = 'url',\n",
    "                  how = 'outer',\n",
    "                  validate = 'one_to_one',\n",
    "                  indicator = 'matched') "
   ]
  },
  {
   "cell_type": "code",
   "execution_count": 48,
   "id": "60c14e30",
   "metadata": {},
   "outputs": [
    {
     "data": {
      "text/plain": [
       "matched\n",
       "right_only    11644\n",
       "both           2735\n",
       "left_only         0\n",
       "Name: count, dtype: int64"
      ]
     },
     "execution_count": 48,
     "metadata": {},
     "output_type": "execute_result"
    }
   ],
   "source": [
    "bills2['matched'].value_counts()"
   ]
  },
  {
   "cell_type": "code",
   "execution_count": 55,
   "id": "cffb248f",
   "metadata": {},
   "outputs": [
    {
     "data": {
      "text/html": [
       "<div>\n",
       "<style scoped>\n",
       "    .dataframe tbody tr th:only-of-type {\n",
       "        vertical-align: middle;\n",
       "    }\n",
       "\n",
       "    .dataframe tbody tr th {\n",
       "        vertical-align: top;\n",
       "    }\n",
       "\n",
       "    .dataframe thead th {\n",
       "        text-align: right;\n",
       "    }\n",
       "</style>\n",
       "<table border=\"1\" class=\"dataframe\">\n",
       "  <thead>\n",
       "    <tr style=\"text-align: right;\">\n",
       "      <th></th>\n",
       "      <th>Unnamed: 0</th>\n",
       "      <th>bill_type</th>\n",
       "      <th>bill_number</th>\n",
       "      <th>bill_congress</th>\n",
       "      <th>bill_originchamber</th>\n",
       "      <th>bill_originchambercode</th>\n",
       "      <th>bill_title</th>\n",
       "      <th>bill_updatedateincludingtext</th>\n",
       "      <th>bill_url</th>\n",
       "      <th>introducedDate</th>\n",
       "      <th>type</th>\n",
       "      <th>url</th>\n",
       "      <th>number</th>\n",
       "      <th>title</th>\n",
       "      <th>bioguide_id</th>\n",
       "      <th>matched</th>\n",
       "    </tr>\n",
       "  </thead>\n",
       "  <tbody>\n",
       "    <tr>\n",
       "      <th>0</th>\n",
       "      <td>NaN</td>\n",
       "      <td>NaN</td>\n",
       "      <td>NaN</td>\n",
       "      <td>NaN</td>\n",
       "      <td>NaN</td>\n",
       "      <td>NaN</td>\n",
       "      <td>NaN</td>\n",
       "      <td>NaN</td>\n",
       "      <td>NaN</td>\n",
       "      <td>2025-09-10</td>\n",
       "      <td>NaN</td>\n",
       "      <td>https://api.congress.gov/v3/amendment/119/hamd...</td>\n",
       "      <td>NaN</td>\n",
       "      <td>NaN</td>\n",
       "      <td>R000612</td>\n",
       "      <td>right_only</td>\n",
       "    </tr>\n",
       "    <tr>\n",
       "      <th>1</th>\n",
       "      <td>NaN</td>\n",
       "      <td>NaN</td>\n",
       "      <td>NaN</td>\n",
       "      <td>NaN</td>\n",
       "      <td>NaN</td>\n",
       "      <td>NaN</td>\n",
       "      <td>NaN</td>\n",
       "      <td>NaN</td>\n",
       "      <td>NaN</td>\n",
       "      <td>2025-09-10</td>\n",
       "      <td>NaN</td>\n",
       "      <td>https://api.congress.gov/v3/amendment/119/hamd...</td>\n",
       "      <td>NaN</td>\n",
       "      <td>NaN</td>\n",
       "      <td>R000575</td>\n",
       "      <td>right_only</td>\n",
       "    </tr>\n",
       "    <tr>\n",
       "      <th>2</th>\n",
       "      <td>NaN</td>\n",
       "      <td>NaN</td>\n",
       "      <td>NaN</td>\n",
       "      <td>NaN</td>\n",
       "      <td>NaN</td>\n",
       "      <td>NaN</td>\n",
       "      <td>NaN</td>\n",
       "      <td>NaN</td>\n",
       "      <td>NaN</td>\n",
       "      <td>2025-03-25</td>\n",
       "      <td>NaN</td>\n",
       "      <td>https://api.congress.gov/v3/amendment/119/hamd...</td>\n",
       "      <td>NaN</td>\n",
       "      <td>NaN</td>\n",
       "      <td>O000175</td>\n",
       "      <td>right_only</td>\n",
       "    </tr>\n",
       "    <tr>\n",
       "      <th>3</th>\n",
       "      <td>NaN</td>\n",
       "      <td>NaN</td>\n",
       "      <td>NaN</td>\n",
       "      <td>NaN</td>\n",
       "      <td>NaN</td>\n",
       "      <td>NaN</td>\n",
       "      <td>NaN</td>\n",
       "      <td>NaN</td>\n",
       "      <td>NaN</td>\n",
       "      <td>2025-03-25</td>\n",
       "      <td>NaN</td>\n",
       "      <td>https://api.congress.gov/v3/amendment/119/hamd...</td>\n",
       "      <td>NaN</td>\n",
       "      <td>NaN</td>\n",
       "      <td>O000175</td>\n",
       "      <td>right_only</td>\n",
       "    </tr>\n",
       "    <tr>\n",
       "      <th>4</th>\n",
       "      <td>NaN</td>\n",
       "      <td>NaN</td>\n",
       "      <td>NaN</td>\n",
       "      <td>NaN</td>\n",
       "      <td>NaN</td>\n",
       "      <td>NaN</td>\n",
       "      <td>NaN</td>\n",
       "      <td>NaN</td>\n",
       "      <td>NaN</td>\n",
       "      <td>2025-03-25</td>\n",
       "      <td>NaN</td>\n",
       "      <td>https://api.congress.gov/v3/amendment/119/hamd...</td>\n",
       "      <td>NaN</td>\n",
       "      <td>NaN</td>\n",
       "      <td>S000185</td>\n",
       "      <td>right_only</td>\n",
       "    </tr>\n",
       "    <tr>\n",
       "      <th>...</th>\n",
       "      <td>...</td>\n",
       "      <td>...</td>\n",
       "      <td>...</td>\n",
       "      <td>...</td>\n",
       "      <td>...</td>\n",
       "      <td>...</td>\n",
       "      <td>...</td>\n",
       "      <td>...</td>\n",
       "      <td>...</td>\n",
       "      <td>...</td>\n",
       "      <td>...</td>\n",
       "      <td>...</td>\n",
       "      <td>...</td>\n",
       "      <td>...</td>\n",
       "      <td>...</td>\n",
       "      <td>...</td>\n",
       "    </tr>\n",
       "    <tr>\n",
       "      <th>14369</th>\n",
       "      <td>NaN</td>\n",
       "      <td>NaN</td>\n",
       "      <td>NaN</td>\n",
       "      <td>NaN</td>\n",
       "      <td>NaN</td>\n",
       "      <td>NaN</td>\n",
       "      <td>NaN</td>\n",
       "      <td>NaN</td>\n",
       "      <td>NaN</td>\n",
       "      <td>2025-02-24</td>\n",
       "      <td>SRES</td>\n",
       "      <td>https://api.congress.gov/v3/bill/119/sres/91?f...</td>\n",
       "      <td>91.0</td>\n",
       "      <td>A resolution acknowledging the third anniversa...</td>\n",
       "      <td>S001181</td>\n",
       "      <td>right_only</td>\n",
       "    </tr>\n",
       "    <tr>\n",
       "      <th>14371</th>\n",
       "      <td>NaN</td>\n",
       "      <td>NaN</td>\n",
       "      <td>NaN</td>\n",
       "      <td>NaN</td>\n",
       "      <td>NaN</td>\n",
       "      <td>NaN</td>\n",
       "      <td>NaN</td>\n",
       "      <td>NaN</td>\n",
       "      <td>NaN</td>\n",
       "      <td>2025-02-25</td>\n",
       "      <td>SRES</td>\n",
       "      <td>https://api.congress.gov/v3/bill/119/sres/93?f...</td>\n",
       "      <td>93.0</td>\n",
       "      <td>A resolution expressing the sense of the Senat...</td>\n",
       "      <td>D000563</td>\n",
       "      <td>right_only</td>\n",
       "    </tr>\n",
       "    <tr>\n",
       "      <th>14372</th>\n",
       "      <td>NaN</td>\n",
       "      <td>NaN</td>\n",
       "      <td>NaN</td>\n",
       "      <td>NaN</td>\n",
       "      <td>NaN</td>\n",
       "      <td>NaN</td>\n",
       "      <td>NaN</td>\n",
       "      <td>NaN</td>\n",
       "      <td>NaN</td>\n",
       "      <td>2025-02-25</td>\n",
       "      <td>SRES</td>\n",
       "      <td>https://api.congress.gov/v3/bill/119/sres/94?f...</td>\n",
       "      <td>94.0</td>\n",
       "      <td>An original resolution authorizing expenditure...</td>\n",
       "      <td>M000355</td>\n",
       "      <td>right_only</td>\n",
       "    </tr>\n",
       "    <tr>\n",
       "      <th>14373</th>\n",
       "      <td>NaN</td>\n",
       "      <td>NaN</td>\n",
       "      <td>NaN</td>\n",
       "      <td>NaN</td>\n",
       "      <td>NaN</td>\n",
       "      <td>NaN</td>\n",
       "      <td>NaN</td>\n",
       "      <td>NaN</td>\n",
       "      <td>NaN</td>\n",
       "      <td>2025-02-25</td>\n",
       "      <td>SRES</td>\n",
       "      <td>https://api.congress.gov/v3/bill/119/sres/95?f...</td>\n",
       "      <td>95.0</td>\n",
       "      <td>A resolution expressing support for the design...</td>\n",
       "      <td>S001217</td>\n",
       "      <td>right_only</td>\n",
       "    </tr>\n",
       "    <tr>\n",
       "      <th>14375</th>\n",
       "      <td>NaN</td>\n",
       "      <td>NaN</td>\n",
       "      <td>NaN</td>\n",
       "      <td>NaN</td>\n",
       "      <td>NaN</td>\n",
       "      <td>NaN</td>\n",
       "      <td>NaN</td>\n",
       "      <td>NaN</td>\n",
       "      <td>NaN</td>\n",
       "      <td>2025-02-25</td>\n",
       "      <td>SRES</td>\n",
       "      <td>https://api.congress.gov/v3/bill/119/sres/97?f...</td>\n",
       "      <td>97.0</td>\n",
       "      <td>A resolution honoring the life of Nebraska com...</td>\n",
       "      <td>R000618</td>\n",
       "      <td>right_only</td>\n",
       "    </tr>\n",
       "  </tbody>\n",
       "</table>\n",
       "<p>11644 rows × 16 columns</p>\n",
       "</div>"
      ],
      "text/plain": [
       "       Unnamed: 0 bill_type  bill_number  bill_congress bill_originchamber  \\\n",
       "0             NaN       NaN          NaN            NaN                NaN   \n",
       "1             NaN       NaN          NaN            NaN                NaN   \n",
       "2             NaN       NaN          NaN            NaN                NaN   \n",
       "3             NaN       NaN          NaN            NaN                NaN   \n",
       "4             NaN       NaN          NaN            NaN                NaN   \n",
       "...           ...       ...          ...            ...                ...   \n",
       "14369         NaN       NaN          NaN            NaN                NaN   \n",
       "14371         NaN       NaN          NaN            NaN                NaN   \n",
       "14372         NaN       NaN          NaN            NaN                NaN   \n",
       "14373         NaN       NaN          NaN            NaN                NaN   \n",
       "14375         NaN       NaN          NaN            NaN                NaN   \n",
       "\n",
       "      bill_originchambercode bill_title bill_updatedateincludingtext bill_url  \\\n",
       "0                        NaN        NaN                          NaN      NaN   \n",
       "1                        NaN        NaN                          NaN      NaN   \n",
       "2                        NaN        NaN                          NaN      NaN   \n",
       "3                        NaN        NaN                          NaN      NaN   \n",
       "4                        NaN        NaN                          NaN      NaN   \n",
       "...                      ...        ...                          ...      ...   \n",
       "14369                    NaN        NaN                          NaN      NaN   \n",
       "14371                    NaN        NaN                          NaN      NaN   \n",
       "14372                    NaN        NaN                          NaN      NaN   \n",
       "14373                    NaN        NaN                          NaN      NaN   \n",
       "14375                    NaN        NaN                          NaN      NaN   \n",
       "\n",
       "      introducedDate  type                                                url  \\\n",
       "0         2025-09-10   NaN  https://api.congress.gov/v3/amendment/119/hamd...   \n",
       "1         2025-09-10   NaN  https://api.congress.gov/v3/amendment/119/hamd...   \n",
       "2         2025-03-25   NaN  https://api.congress.gov/v3/amendment/119/hamd...   \n",
       "3         2025-03-25   NaN  https://api.congress.gov/v3/amendment/119/hamd...   \n",
       "4         2025-03-25   NaN  https://api.congress.gov/v3/amendment/119/hamd...   \n",
       "...              ...   ...                                                ...   \n",
       "14369     2025-02-24  SRES  https://api.congress.gov/v3/bill/119/sres/91?f...   \n",
       "14371     2025-02-25  SRES  https://api.congress.gov/v3/bill/119/sres/93?f...   \n",
       "14372     2025-02-25  SRES  https://api.congress.gov/v3/bill/119/sres/94?f...   \n",
       "14373     2025-02-25  SRES  https://api.congress.gov/v3/bill/119/sres/95?f...   \n",
       "14375     2025-02-25  SRES  https://api.congress.gov/v3/bill/119/sres/97?f...   \n",
       "\n",
       "       number                                              title bioguide_id  \\\n",
       "0         NaN                                                NaN     R000612   \n",
       "1         NaN                                                NaN     R000575   \n",
       "2         NaN                                                NaN     O000175   \n",
       "3         NaN                                                NaN     O000175   \n",
       "4         NaN                                                NaN     S000185   \n",
       "...       ...                                                ...         ...   \n",
       "14369    91.0  A resolution acknowledging the third anniversa...     S001181   \n",
       "14371    93.0  A resolution expressing the sense of the Senat...     D000563   \n",
       "14372    94.0  An original resolution authorizing expenditure...     M000355   \n",
       "14373    95.0  A resolution expressing support for the design...     S001217   \n",
       "14375    97.0  A resolution honoring the life of Nebraska com...     R000618   \n",
       "\n",
       "          matched  \n",
       "0      right_only  \n",
       "1      right_only  \n",
       "2      right_only  \n",
       "3      right_only  \n",
       "4      right_only  \n",
       "...           ...  \n",
       "14369  right_only  \n",
       "14371  right_only  \n",
       "14372  right_only  \n",
       "14373  right_only  \n",
       "14375  right_only  \n",
       "\n",
       "[11644 rows x 16 columns]"
      ]
     },
     "execution_count": 55,
     "metadata": {},
     "output_type": "execute_result"
    }
   ],
   "source": [
    "bills2.query(\"matched == 'right_only'\")"
   ]
  },
  {
   "cell_type": "code",
   "execution_count": 61,
   "id": "a39d1638",
   "metadata": {},
   "outputs": [
    {
     "data": {
      "text/plain": [
       "False    10369\n",
       "True      4010\n",
       "Name: count, dtype: int64"
      ]
     },
     "execution_count": 61,
     "metadata": {},
     "output_type": "execute_result"
    }
   ],
   "source": [
    "pd.Series(['amendment' in x for x in bills2['url']]).value_counts()"
   ]
  },
  {
   "cell_type": "code",
   "execution_count": 63,
   "id": "38f177b6",
   "metadata": {},
   "outputs": [],
   "source": [
    "bills2 = bills2[['bill_type', 'bill_number', 'bill_congress',\n",
    "       'bill_originchamber', 'bill_originchambercode', 'bill_title',\n",
    "       'bill_updatedateincludingtext', 'introducedDate',\n",
    "       'url', 'bioguide_id']]"
   ]
  },
  {
   "cell_type": "code",
   "execution_count": 67,
   "id": "136d7b84",
   "metadata": {},
   "outputs": [],
   "source": [
    "bills2.to_csv('../data/thirdNF/bills.csv', index=False)"
   ]
  },
  {
   "cell_type": "code",
   "execution_count": 76,
   "id": "c5612211",
   "metadata": {},
   "outputs": [],
   "source": [
    "terms.to_csv('../data/thirdNF/terms.csv', index=False)"
   ]
  },
  {
   "cell_type": "code",
   "execution_count": 72,
   "id": "5c42e308",
   "metadata": {},
   "outputs": [
    {
     "data": {
      "text/html": [
       "<div>\n",
       "<style scoped>\n",
       "    .dataframe tbody tr th:only-of-type {\n",
       "        vertical-align: middle;\n",
       "    }\n",
       "\n",
       "    .dataframe tbody tr th {\n",
       "        vertical-align: top;\n",
       "    }\n",
       "\n",
       "    .dataframe thead th {\n",
       "        text-align: right;\n",
       "    }\n",
       "</style>\n",
       "<table border=\"1\" class=\"dataframe\">\n",
       "  <thead>\n",
       "    <tr style=\"text-align: right;\">\n",
       "      <th></th>\n",
       "      <th>startYear</th>\n",
       "      <th>endYear</th>\n",
       "    </tr>\n",
       "    <tr>\n",
       "      <th>congress</th>\n",
       "      <th></th>\n",
       "      <th></th>\n",
       "    </tr>\n",
       "  </thead>\n",
       "  <tbody>\n",
       "    <tr>\n",
       "      <th>94</th>\n",
       "      <td>NaN</td>\n",
       "      <td>NaN</td>\n",
       "    </tr>\n",
       "    <tr>\n",
       "      <th>95</th>\n",
       "      <td>0.000000</td>\n",
       "      <td>0.000000</td>\n",
       "    </tr>\n",
       "    <tr>\n",
       "      <th>96</th>\n",
       "      <td>0.000000</td>\n",
       "      <td>0.000000</td>\n",
       "    </tr>\n",
       "    <tr>\n",
       "      <th>97</th>\n",
       "      <td>0.000000</td>\n",
       "      <td>0.000000</td>\n",
       "    </tr>\n",
       "    <tr>\n",
       "      <th>98</th>\n",
       "      <td>0.000000</td>\n",
       "      <td>0.000000</td>\n",
       "    </tr>\n",
       "    <tr>\n",
       "      <th>99</th>\n",
       "      <td>0.000000</td>\n",
       "      <td>0.000000</td>\n",
       "    </tr>\n",
       "    <tr>\n",
       "      <th>100</th>\n",
       "      <td>0.000000</td>\n",
       "      <td>0.000000</td>\n",
       "    </tr>\n",
       "    <tr>\n",
       "      <th>101</th>\n",
       "      <td>0.000000</td>\n",
       "      <td>0.000000</td>\n",
       "    </tr>\n",
       "    <tr>\n",
       "      <th>102</th>\n",
       "      <td>0.000000</td>\n",
       "      <td>0.000000</td>\n",
       "    </tr>\n",
       "    <tr>\n",
       "      <th>103</th>\n",
       "      <td>0.000000</td>\n",
       "      <td>0.000000</td>\n",
       "    </tr>\n",
       "    <tr>\n",
       "      <th>104</th>\n",
       "      <td>0.169031</td>\n",
       "      <td>0.169031</td>\n",
       "    </tr>\n",
       "    <tr>\n",
       "      <th>105</th>\n",
       "      <td>0.000000</td>\n",
       "      <td>0.000000</td>\n",
       "    </tr>\n",
       "    <tr>\n",
       "      <th>106</th>\n",
       "      <td>0.000000</td>\n",
       "      <td>0.000000</td>\n",
       "    </tr>\n",
       "    <tr>\n",
       "      <th>107</th>\n",
       "      <td>0.218039</td>\n",
       "      <td>0.000000</td>\n",
       "    </tr>\n",
       "    <tr>\n",
       "      <th>108</th>\n",
       "      <td>0.000000</td>\n",
       "      <td>0.000000</td>\n",
       "    </tr>\n",
       "    <tr>\n",
       "      <th>109</th>\n",
       "      <td>0.000000</td>\n",
       "      <td>0.000000</td>\n",
       "    </tr>\n",
       "    <tr>\n",
       "      <th>110</th>\n",
       "      <td>0.169792</td>\n",
       "      <td>0.198030</td>\n",
       "    </tr>\n",
       "    <tr>\n",
       "      <th>111</th>\n",
       "      <td>0.126483</td>\n",
       "      <td>0.179605</td>\n",
       "    </tr>\n",
       "    <tr>\n",
       "      <th>112</th>\n",
       "      <td>0.161122</td>\n",
       "      <td>0.000000</td>\n",
       "    </tr>\n",
       "    <tr>\n",
       "      <th>113</th>\n",
       "      <td>0.100756</td>\n",
       "      <td>0.142857</td>\n",
       "    </tr>\n",
       "    <tr>\n",
       "      <th>114</th>\n",
       "      <td>0.113954</td>\n",
       "      <td>0.000000</td>\n",
       "    </tr>\n",
       "    <tr>\n",
       "      <th>115</th>\n",
       "      <td>0.158352</td>\n",
       "      <td>0.121046</td>\n",
       "    </tr>\n",
       "    <tr>\n",
       "      <th>116</th>\n",
       "      <td>0.095344</td>\n",
       "      <td>0.000000</td>\n",
       "    </tr>\n",
       "    <tr>\n",
       "      <th>117</th>\n",
       "      <td>0.112501</td>\n",
       "      <td>0.000000</td>\n",
       "    </tr>\n",
       "    <tr>\n",
       "      <th>118</th>\n",
       "      <td>0.129218</td>\n",
       "      <td>0.065025</td>\n",
       "    </tr>\n",
       "    <tr>\n",
       "      <th>119</th>\n",
       "      <td>0.000000</td>\n",
       "      <td>0.225410</td>\n",
       "    </tr>\n",
       "  </tbody>\n",
       "</table>\n",
       "</div>"
      ],
      "text/plain": [
       "          startYear   endYear\n",
       "congress                     \n",
       "94              NaN       NaN\n",
       "95         0.000000  0.000000\n",
       "96         0.000000  0.000000\n",
       "97         0.000000  0.000000\n",
       "98         0.000000  0.000000\n",
       "99         0.000000  0.000000\n",
       "100        0.000000  0.000000\n",
       "101        0.000000  0.000000\n",
       "102        0.000000  0.000000\n",
       "103        0.000000  0.000000\n",
       "104        0.169031  0.169031\n",
       "105        0.000000  0.000000\n",
       "106        0.000000  0.000000\n",
       "107        0.218039  0.000000\n",
       "108        0.000000  0.000000\n",
       "109        0.000000  0.000000\n",
       "110        0.169792  0.198030\n",
       "111        0.126483  0.179605\n",
       "112        0.161122  0.000000\n",
       "113        0.100756  0.142857\n",
       "114        0.113954  0.000000\n",
       "115        0.158352  0.121046\n",
       "116        0.095344  0.000000\n",
       "117        0.112501  0.000000\n",
       "118        0.129218  0.065025\n",
       "119        0.000000  0.225410"
      ]
     },
     "execution_count": 72,
     "metadata": {},
     "output_type": "execute_result"
    }
   ],
   "source": [
    "terms.groupby('congress').agg({'startYear': 'std', 'endYear': 'std'})"
   ]
  },
  {
   "cell_type": "code",
   "execution_count": 77,
   "id": "c8878727",
   "metadata": {},
   "outputs": [
    {
     "data": {
      "text/html": [
       "<div>\n",
       "<style scoped>\n",
       "    .dataframe tbody tr th:only-of-type {\n",
       "        vertical-align: middle;\n",
       "    }\n",
       "\n",
       "    .dataframe tbody tr th {\n",
       "        vertical-align: top;\n",
       "    }\n",
       "\n",
       "    .dataframe thead th {\n",
       "        text-align: right;\n",
       "    }\n",
       "</style>\n",
       "<table border=\"1\" class=\"dataframe\">\n",
       "  <thead>\n",
       "    <tr style=\"text-align: right;\">\n",
       "      <th></th>\n",
       "      <th>contributor_name</th>\n",
       "      <th>contributor_aggregate_ytd</th>\n",
       "      <th>memo_text</th>\n",
       "      <th>pdf_url</th>\n",
       "      <th>fec_committee_id</th>\n",
       "      <th>fec_id</th>\n",
       "    </tr>\n",
       "  </thead>\n",
       "  <tbody>\n",
       "    <tr>\n",
       "      <th>0</th>\n",
       "      <td>FARMER'S &amp; MERCHANTS BANK</td>\n",
       "      <td>920.34</td>\n",
       "      <td>NaN</td>\n",
       "      <td>http://docquery.fec.gov/cgi-bin/fecimg/?139606...</td>\n",
       "      <td>NaN</td>\n",
       "      <td>H2AL03032</td>\n",
       "    </tr>\n",
       "    <tr>\n",
       "      <th>1</th>\n",
       "      <td>MCLAUGHLIN AND ASSOCIATES</td>\n",
       "      <td>40869.75</td>\n",
       "      <td>NaN</td>\n",
       "      <td>http://docquery.fec.gov/cgi-bin/fecimg/?259710...</td>\n",
       "      <td>NaN</td>\n",
       "      <td>H2AL03032</td>\n",
       "    </tr>\n",
       "    <tr>\n",
       "      <th>2</th>\n",
       "      <td>DRUCKER LAWHON, LLP</td>\n",
       "      <td>38500.00</td>\n",
       "      <td>NaN</td>\n",
       "      <td>https://docquery.fec.gov/cgi-bin/fecimg/?20221...</td>\n",
       "      <td>NaN</td>\n",
       "      <td>H2AL03032</td>\n",
       "    </tr>\n",
       "  </tbody>\n",
       "</table>\n",
       "</div>"
      ],
      "text/plain": [
       "            contributor_name  contributor_aggregate_ytd memo_text  \\\n",
       "0  FARMER'S & MERCHANTS BANK                     920.34       NaN   \n",
       "1  MCLAUGHLIN AND ASSOCIATES                   40869.75       NaN   \n",
       "2        DRUCKER LAWHON, LLP                   38500.00       NaN   \n",
       "\n",
       "                                             pdf_url fec_committee_id  \\\n",
       "0  http://docquery.fec.gov/cgi-bin/fecimg/?139606...              NaN   \n",
       "1  http://docquery.fec.gov/cgi-bin/fecimg/?259710...              NaN   \n",
       "2  https://docquery.fec.gov/cgi-bin/fecimg/?20221...              NaN   \n",
       "\n",
       "      fec_id  \n",
       "0  H2AL03032  \n",
       "1  H2AL03032  \n",
       "2  H2AL03032  "
      ]
     },
     "execution_count": 77,
     "metadata": {},
     "output_type": "execute_result"
    }
   ],
   "source": [
    "contrib.head(3)"
   ]
  },
  {
   "cell_type": "code",
   "execution_count": 87,
   "id": "775b5856",
   "metadata": {},
   "outputs": [],
   "source": [
    "contrib.to_csv('../data/thirdNF/contrib.csv', index=False)"
   ]
  },
  {
   "cell_type": "code",
   "execution_count": 88,
   "id": "88eea5e0",
   "metadata": {},
   "outputs": [],
   "source": [
    "def pandas_df_to_dbml(df: pd.DataFrame, table_name: str) -> str:\n",
    "    \"\"\"\n",
    "    Converts a pandas DataFrame to a DBML string.\n",
    "\n",
    "    Args:\n",
    "        df: The pandas DataFrame to convert.\n",
    "        table_name: The name of the table in the DBML schema.\n",
    "\n",
    "    Returns:\n",
    "        A DBML string representing the DataFrame schema.\n",
    "    \"\"\"\n",
    "\n",
    "    dbml_string = f\"Table {table_name} {{\\n\"\n",
    "\n",
    "    for column_name, column_type in df.dtypes.items():\n",
    "        dbml_type = map_pandas_dtype_to_dbml_type(column_type)\n",
    "        dbml_string += f\"  {column_name} {dbml_type}\\n\"\n",
    "\n",
    "    dbml_string += \"}\\n\"\n",
    "    return dbml_string"
   ]
  },
  {
   "cell_type": "code",
   "execution_count": 89,
   "id": "dd23da19",
   "metadata": {},
   "outputs": [],
   "source": [
    "def map_pandas_dtype_to_dbml_type(dtype) -> str:\n",
    "    \"\"\"Maps a pandas dtype to a DBML type.\"\"\"\n",
    "    dtype_name = str(dtype)\n",
    "    if \"int\" in dtype_name:\n",
    "      return \"int\"\n",
    "    if \"float\" in dtype_name:\n",
    "      return \"float\"\n",
    "    if \"datetime\" in dtype_name:\n",
    "        return \"datetime\"\n",
    "    return \"varchar\""
   ]
  },
  {
   "cell_type": "code",
   "execution_count": 90,
   "id": "18fda848",
   "metadata": {},
   "outputs": [],
   "source": [
    "bill_versions = pd.read_csv('../data/thirdNF/bill_versions.csv')"
   ]
  },
  {
   "cell_type": "code",
   "execution_count": 92,
   "id": "dda83176",
   "metadata": {},
   "outputs": [
    {
     "name": "stdout",
     "output_type": "stream",
     "text": [
      "Table bill_versions {\n",
      "  Unnamed: 0 int\n",
      "  actiondate varchar\n",
      "  actiondesc varchar\n",
      "  currentchamber varchar\n",
      "  currentchambercode varchar\n",
      "  lastsummaryupdatedate varchar\n",
      "  text varchar\n",
      "  updatedate varchar\n",
      "  versioncode int\n",
      "  bill_number int\n",
      "  bill_type varchar\n",
      "}\n",
      "\n"
     ]
    }
   ],
   "source": [
    "print(pandas_df_to_dbml(bill_versions, 'bill_versions'))"
   ]
  },
  {
   "cell_type": "code",
   "execution_count": 93,
   "id": "8d13de8f",
   "metadata": {},
   "outputs": [],
   "source": [
    "bills = pd.read_csv('../data/thirdNF/bills.csv')"
   ]
  },
  {
   "cell_type": "code",
   "execution_count": 94,
   "id": "4a684bf7",
   "metadata": {},
   "outputs": [
    {
     "name": "stdout",
     "output_type": "stream",
     "text": [
      "Table bills {\n",
      "  bill_type varchar\n",
      "  bill_number float\n",
      "  bill_congress float\n",
      "  bill_originchamber varchar\n",
      "  bill_originchambercode varchar\n",
      "  bill_title varchar\n",
      "  bill_updatedateincludingtext varchar\n",
      "  introducedDate varchar\n",
      "  url varchar\n",
      "  bioguide_id varchar\n",
      "}\n",
      "\n"
     ]
    }
   ],
   "source": [
    "print(pandas_df_to_dbml(bills, 'bills'))"
   ]
  },
  {
   "cell_type": "code",
   "execution_count": 95,
   "id": "1297f5ea",
   "metadata": {},
   "outputs": [
    {
     "name": "stdout",
     "output_type": "stream",
     "text": [
      "Table members {\n",
      "  bioguide_id varchar\n",
      "  full_name varchar\n",
      "  birthyear float\n",
      "  image varchar\n",
      "  office_address varchar\n",
      "  phone varchar\n",
      "  website varchar\n",
      "  fec_id varchar\n",
      "  bioname varchar\n",
      "  chamber varchar\n",
      "  left_right_ideology float\n",
      "  state_abbrev varchar\n",
      "  district_code int\n",
      "  icpsr int\n",
      "  party varchar\n",
      "}\n",
      "\n"
     ]
    }
   ],
   "source": [
    "members = pd.read_csv('../data/thirdNF/members.csv')\n",
    "\n",
    "print(pandas_df_to_dbml(members, 'members'))"
   ]
  },
  {
   "cell_type": "code",
   "execution_count": 96,
   "id": "0f8d0bf8",
   "metadata": {},
   "outputs": [
    {
     "name": "stdout",
     "output_type": "stream",
     "text": [
      "Table terms {\n",
      "  bioguide_id varchar\n",
      "  chamber varchar\n",
      "  congress int\n",
      "  stateCode varchar\n",
      "  startYear int\n",
      "  endYear int\n",
      "  district float\n",
      "}\n",
      "\n"
     ]
    }
   ],
   "source": [
    "terms = pd.read_csv('../data/thirdNF/terms.csv')\n",
    "\n",
    "print(pandas_df_to_dbml(terms, 'terms'))"
   ]
  },
  {
   "cell_type": "code",
   "execution_count": 97,
   "id": "dbdd5b2d",
   "metadata": {},
   "outputs": [
    {
     "name": "stdout",
     "output_type": "stream",
     "text": [
      "Table vote_compare {\n",
      "  bioname varchar\n",
      "  comparison_member varchar\n",
      "  agree float\n",
      "}\n",
      "\n"
     ]
    }
   ],
   "source": [
    "vote_compare = pd.read_csv('../data/thirdNF/vote_compare.csv')\n",
    "\n",
    "print(pandas_df_to_dbml(vote_compare, 'vote_compare'))"
   ]
  },
  {
   "cell_type": "code",
   "execution_count": null,
   "id": "f1231170",
   "metadata": {},
   "outputs": [],
   "source": []
  }
 ],
 "metadata": {
  "kernelspec": {
   "display_name": "ds6001",
   "language": "python",
   "name": "python3"
  },
  "language_info": {
   "codemirror_mode": {
    "name": "ipython",
    "version": 3
   },
   "file_extension": ".py",
   "mimetype": "text/x-python",
   "name": "python",
   "nbconvert_exporter": "python",
   "pygments_lexer": "ipython3",
   "version": "3.13.5"
  }
 },
 "nbformat": 4,
 "nbformat_minor": 5
}
