{
 "cells": [
  {
   "cell_type": "code",
   "execution_count": 55,
   "id": "2a1850be",
   "metadata": {},
   "outputs": [],
   "source": [
    "import numpy as np\n",
    "import pandas as pd"
   ]
  },
  {
   "cell_type": "code",
   "execution_count": 56,
   "id": "ed27f937",
   "metadata": {},
   "outputs": [],
   "source": [
    "bill_summaries = pd.read_csv('../data/bill_summaries.csv')\n",
    "bioinfo = pd.read_csv('../data/bioinfo.csv')\n",
    "fec_ids = pd.read_csv('../data/fec_ids.csv')\n",
    "ideology = pd.read_csv('../data/ideology.csv')\n",
    "sponsored_legislation = pd.read_csv('../data/sponsored_legislation.csv')\n",
    "terms = pd.read_csv('../data/terms.csv')\n",
    "vote_compare = pd.read_csv('../data/vote_compare.csv')\n",
    "contrib = pd.read_csv('../data/contrib.csv')\n",
    "\n"
   ]
  },
  {
   "cell_type": "markdown",
   "id": "36b5e17a",
   "metadata": {},
   "source": [
    "1. Do each of the CSVs have a primary key? If so, what?"
   ]
  },
  {
   "cell_type": "code",
   "execution_count": 57,
   "id": "d378b6ba",
   "metadata": {},
   "outputs": [
    {
     "data": {
      "text/plain": [
       "Index(['actionDate', 'actionDesc', 'currentChamber', 'currentChamberCode',\n",
       "       'lastSummaryUpdateDate', 'text', 'updateDate', 'versionCode',\n",
       "       'bill.congress', 'bill.number', 'bill.originChamber',\n",
       "       'bill.originChamberCode', 'bill.title', 'bill.type',\n",
       "       'bill.updateDateIncludingText', 'bill.url'],\n",
       "      dtype='object')"
      ]
     },
     "execution_count": 57,
     "metadata": {},
     "output_type": "execute_result"
    }
   ],
   "source": [
    "bill_summaries.columns\n"
   ]
  },
  {
   "cell_type": "code",
   "execution_count": 58,
   "id": "199e956f",
   "metadata": {},
   "outputs": [
    {
     "data": {
      "text/plain": [
       "False    2751\n",
       "Name: count, dtype: int64"
      ]
     },
     "execution_count": 58,
     "metadata": {},
     "output_type": "execute_result"
    }
   ],
   "source": [
    "bill_summaries[['bill.type', 'bill.number', 'versionCode']].duplicated().value_counts()"
   ]
  },
  {
   "cell_type": "markdown",
   "id": "54dcb80d",
   "metadata": {},
   "source": [
    "Primary key:"
   ]
  },
  {
   "cell_type": "code",
   "execution_count": 59,
   "id": "0f36ad31",
   "metadata": {},
   "outputs": [
    {
     "data": {
      "text/plain": [
       "Index(['bioguide_id', 'Full name', 'Chamber', 'State', 'Party', 'District',\n",
       "       'birthYear', 'image', 'Office address', 'Phone', 'Website'],\n",
       "      dtype='object')"
      ]
     },
     "execution_count": 59,
     "metadata": {},
     "output_type": "execute_result"
    }
   ],
   "source": [
    "\n",
    "bioinfo.columns\n"
   ]
  },
  {
   "cell_type": "code",
   "execution_count": 60,
   "id": "c5494211",
   "metadata": {},
   "outputs": [
    {
     "data": {
      "text/plain": [
       "False    545\n",
       "Name: count, dtype: int64"
      ]
     },
     "execution_count": 60,
     "metadata": {},
     "output_type": "execute_result"
    }
   ],
   "source": [
    "bioinfo[['bioguide_id']].duplicated().value_counts()"
   ]
  },
  {
   "cell_type": "code",
   "execution_count": 61,
   "id": "ae1f72d1",
   "metadata": {},
   "outputs": [
    {
     "data": {
      "text/plain": [
       "Index(['bioguide_id', 'fec_id'], dtype='object')"
      ]
     },
     "execution_count": 61,
     "metadata": {},
     "output_type": "execute_result"
    }
   ],
   "source": [
    "\n",
    "fec_ids.columns\n"
   ]
  },
  {
   "cell_type": "code",
   "execution_count": 62,
   "id": "1ad6bcd2",
   "metadata": {},
   "outputs": [
    {
     "data": {
      "text/plain": [
       "False    545\n",
       "Name: count, dtype: int64"
      ]
     },
     "execution_count": 62,
     "metadata": {},
     "output_type": "execute_result"
    }
   ],
   "source": [
    "fec_ids[['bioguide_id']].duplicated().value_counts()"
   ]
  },
  {
   "cell_type": "code",
   "execution_count": 63,
   "id": "6e614e85",
   "metadata": {},
   "outputs": [
    {
     "data": {
      "text/plain": [
       "Index(['bioname', 'chamber', 'left_right_ideology', 'state_abbrev',\n",
       "       'district_code', 'icpsr', 'bioguide_id', 'party'],\n",
       "      dtype='object')"
      ]
     },
     "execution_count": 63,
     "metadata": {},
     "output_type": "execute_result"
    }
   ],
   "source": [
    "\n",
    "ideology.columns\n"
   ]
  },
  {
   "cell_type": "code",
   "execution_count": 64,
   "id": "ebd08fca",
   "metadata": {},
   "outputs": [
    {
     "data": {
      "text/plain": [
       "False    545\n",
       "Name: count, dtype: int64"
      ]
     },
     "execution_count": 64,
     "metadata": {},
     "output_type": "execute_result"
    }
   ],
   "source": [
    "ideology[['bioguide_id']].duplicated().value_counts()"
   ]
  },
  {
   "cell_type": "code",
   "execution_count": 65,
   "id": "bbe50057",
   "metadata": {},
   "outputs": [
    {
     "data": {
      "text/plain": [
       "Index(['introducedDate', 'type', 'url', 'number', 'title', 'bioguide_id'], dtype='object')"
      ]
     },
     "execution_count": 65,
     "metadata": {},
     "output_type": "execute_result"
    }
   ],
   "source": [
    "\n",
    "sponsored_legislation.columns\n"
   ]
  },
  {
   "cell_type": "code",
   "execution_count": 66,
   "id": "3f9d85af",
   "metadata": {},
   "outputs": [
    {
     "data": {
      "text/plain": [
       "False    14379\n",
       "Name: count, dtype: int64"
      ]
     },
     "execution_count": 66,
     "metadata": {},
     "output_type": "execute_result"
    }
   ],
   "source": [
    "sponsored_legislation[['url']].duplicated().value_counts()"
   ]
  },
  {
   "cell_type": "code",
   "execution_count": 67,
   "id": "c85e864c",
   "metadata": {},
   "outputs": [
    {
     "data": {
      "text/plain": [
       "Index(['bioguide_id', 'chamber', 'congress', 'stateCode', 'startYear',\n",
       "       'endYear', 'district'],\n",
       "      dtype='object')"
      ]
     },
     "execution_count": 67,
     "metadata": {},
     "output_type": "execute_result"
    }
   ],
   "source": [
    "terms.columns"
   ]
  },
  {
   "cell_type": "code",
   "execution_count": 68,
   "id": "aebefd61",
   "metadata": {},
   "outputs": [
    {
     "data": {
      "text/plain": [
       "False    3257\n",
       "Name: count, dtype: int64"
      ]
     },
     "execution_count": 68,
     "metadata": {},
     "output_type": "execute_result"
    }
   ],
   "source": [
    "terms[['bioguide_id', 'chamber', 'congress']].duplicated().value_counts()"
   ]
  },
  {
   "cell_type": "code",
   "execution_count": 69,
   "id": "bc479fd2",
   "metadata": {},
   "outputs": [
    {
     "data": {
      "text/plain": [
       "Index(['bioname', 'comparison_member', 'agree'], dtype='object')"
      ]
     },
     "execution_count": 69,
     "metadata": {},
     "output_type": "execute_result"
    }
   ],
   "source": [
    "\n",
    "vote_compare.columns"
   ]
  },
  {
   "cell_type": "code",
   "execution_count": 70,
   "id": "b002ccac",
   "metadata": {},
   "outputs": [
    {
     "data": {
      "text/plain": [
       "False    206040\n",
       "Name: count, dtype: int64"
      ]
     },
     "execution_count": 70,
     "metadata": {},
     "output_type": "execute_result"
    }
   ],
   "source": [
    "vote_compare[['bioname', 'comparison_member']].duplicated().value_counts()"
   ]
  },
  {
   "cell_type": "code",
   "execution_count": 71,
   "id": "982fd71b",
   "metadata": {},
   "outputs": [
    {
     "data": {
      "text/plain": [
       "Index(['contributor_name', 'contributor_aggregate_ytd', 'memo_text', 'pdf_url',\n",
       "       'fec_committee_id', 'fec_id'],\n",
       "      dtype='object')"
      ]
     },
     "execution_count": 71,
     "metadata": {},
     "output_type": "execute_result"
    }
   ],
   "source": [
    "contrib.columns"
   ]
  },
  {
   "cell_type": "code",
   "execution_count": 72,
   "id": "cbd8f8a2",
   "metadata": {},
   "outputs": [
    {
     "data": {
      "text/plain": [
       "True     431028\n",
       "False    217665\n",
       "Name: count, dtype: int64"
      ]
     },
     "execution_count": 72,
     "metadata": {},
     "output_type": "execute_result"
    }
   ],
   "source": [
    "contrib[['pdf_url']].duplicated().value_counts()"
   ]
  },
  {
   "cell_type": "code",
   "execution_count": 73,
   "id": "8903e762",
   "metadata": {},
   "outputs": [
    {
     "data": {
      "text/plain": [
       "'http://docquery.fec.gov/cgi-bin/fecimg/?10930084691'"
      ]
     },
     "execution_count": 73,
     "metadata": {},
     "output_type": "execute_result"
    }
   ],
   "source": [
    "contrib.loc[contrib.duplicated('pdf_url', keep=False)].sort_values('pdf_url').head(10)['pdf_url'][600174]"
   ]
  },
  {
   "cell_type": "code",
   "execution_count": 74,
   "id": "eb425ff5",
   "metadata": {},
   "outputs": [],
   "source": [
    "contrib = contrib.drop_duplicates()"
   ]
  },
  {
   "cell_type": "code",
   "execution_count": 75,
   "id": "feaa1fde",
   "metadata": {},
   "outputs": [
    {
     "data": {
      "text/plain": [
       "True     378715\n",
       "False    217665\n",
       "Name: count, dtype: int64"
      ]
     },
     "execution_count": 75,
     "metadata": {},
     "output_type": "execute_result"
    }
   ],
   "source": [
    "contrib[['pdf_url']].duplicated().value_counts()"
   ]
  },
  {
   "cell_type": "markdown",
   "id": "70cc7d7c",
   "metadata": {},
   "source": [
    "2. Do any of the tables need to become multiple tables, or combined into one table?\n",
    "\n",
    "Should be combined into one table (share the same primary key): bioinfo, fec_ids, ideology "
   ]
  },
  {
   "cell_type": "code",
   "execution_count": 76,
   "id": "d2001ab3",
   "metadata": {},
   "outputs": [],
   "source": [
    "members = pd.merge(bioinfo, fec_ids,\n",
    "                   on = 'bioguide_id',\n",
    "                   how = 'outer',\n",
    "                   validate = 'one_to_one',\n",
    "                   indicator = 'matched')"
   ]
  },
  {
   "cell_type": "code",
   "execution_count": 77,
   "id": "365b80e1",
   "metadata": {},
   "outputs": [
    {
     "data": {
      "text/plain": [
       "matched\n",
       "both          545\n",
       "left_only       0\n",
       "right_only      0\n",
       "Name: count, dtype: int64"
      ]
     },
     "execution_count": 77,
     "metadata": {},
     "output_type": "execute_result"
    }
   ],
   "source": [
    "members['matched'].value_counts()"
   ]
  },
  {
   "cell_type": "code",
   "execution_count": 78,
   "id": "877a9576",
   "metadata": {},
   "outputs": [],
   "source": [
    "members = members.drop('matched', axis=1)"
   ]
  },
  {
   "cell_type": "code",
   "execution_count": 79,
   "id": "6bf544ce",
   "metadata": {},
   "outputs": [],
   "source": [
    "members = pd.merge(members, ideology,\n",
    "                   on = 'bioguide_id',\n",
    "                   how = 'outer',\n",
    "                   validate = 'one_to_one',\n",
    "                   indicator = 'matched')"
   ]
  },
  {
   "cell_type": "code",
   "execution_count": 80,
   "id": "0acc08e0",
   "metadata": {},
   "outputs": [
    {
     "data": {
      "text/plain": [
       "matched\n",
       "both          545\n",
       "left_only       0\n",
       "right_only      0\n",
       "Name: count, dtype: int64"
      ]
     },
     "execution_count": 80,
     "metadata": {},
     "output_type": "execute_result"
    }
   ],
   "source": [
    "members['matched'].value_counts()"
   ]
  },
  {
   "cell_type": "code",
   "execution_count": 81,
   "id": "e0a6fa3a",
   "metadata": {},
   "outputs": [],
   "source": [
    "members = members.drop('matched', axis=1)"
   ]
  },
  {
   "cell_type": "code",
   "execution_count": 82,
   "id": "fc8b0b63",
   "metadata": {},
   "outputs": [
    {
     "data": {
      "text/plain": [
       "Index(['bioguide_id', 'Full name', 'Chamber', 'State', 'Party', 'District',\n",
       "       'birthYear', 'image', 'Office address', 'Phone', 'Website', 'fec_id',\n",
       "       'bioname', 'chamber', 'left_right_ideology', 'state_abbrev',\n",
       "       'district_code', 'icpsr', 'party'],\n",
       "      dtype='object')"
      ]
     },
     "execution_count": 82,
     "metadata": {},
     "output_type": "execute_result"
    }
   ],
   "source": [
    "members.columns"
   ]
  },
  {
   "cell_type": "code",
   "execution_count": 83,
   "id": "90fcdaec",
   "metadata": {},
   "outputs": [
    {
     "data": {
      "text/html": [
       "<div>\n",
       "<style scoped>\n",
       "    .dataframe tbody tr th:only-of-type {\n",
       "        vertical-align: middle;\n",
       "    }\n",
       "\n",
       "    .dataframe tbody tr th {\n",
       "        vertical-align: top;\n",
       "    }\n",
       "\n",
       "    .dataframe thead th {\n",
       "        text-align: right;\n",
       "    }\n",
       "</style>\n",
       "<table border=\"1\" class=\"dataframe\">\n",
       "  <thead>\n",
       "    <tr style=\"text-align: right;\">\n",
       "      <th></th>\n",
       "      <th>0</th>\n",
       "      <th>1</th>\n",
       "      <th>2</th>\n",
       "    </tr>\n",
       "  </thead>\n",
       "  <tbody>\n",
       "    <tr>\n",
       "      <th>bioguide_id</th>\n",
       "      <td>A000055</td>\n",
       "      <td>A000148</td>\n",
       "      <td>A000369</td>\n",
       "    </tr>\n",
       "    <tr>\n",
       "      <th>Full name</th>\n",
       "      <td>Robert B. Aderholt</td>\n",
       "      <td>Jake Auchincloss</td>\n",
       "      <td>Mark E. Amodei</td>\n",
       "    </tr>\n",
       "    <tr>\n",
       "      <th>Chamber</th>\n",
       "      <td>House of Representatives</td>\n",
       "      <td>House of Representatives</td>\n",
       "      <td>House of Representatives</td>\n",
       "    </tr>\n",
       "    <tr>\n",
       "      <th>State</th>\n",
       "      <td>Alabama</td>\n",
       "      <td>Massachusetts</td>\n",
       "      <td>Nevada</td>\n",
       "    </tr>\n",
       "    <tr>\n",
       "      <th>Party</th>\n",
       "      <td>Republican</td>\n",
       "      <td>Democratic</td>\n",
       "      <td>Republican</td>\n",
       "    </tr>\n",
       "    <tr>\n",
       "      <th>District</th>\n",
       "      <td>4.0</td>\n",
       "      <td>4.0</td>\n",
       "      <td>2.0</td>\n",
       "    </tr>\n",
       "    <tr>\n",
       "      <th>birthYear</th>\n",
       "      <td>1965.0</td>\n",
       "      <td>1988.0</td>\n",
       "      <td>1958.0</td>\n",
       "    </tr>\n",
       "    <tr>\n",
       "      <th>image</th>\n",
       "      <td>https://www.congress.gov/img/member/a000055_20...</td>\n",
       "      <td>https://www.congress.gov/img/member/67817e391f...</td>\n",
       "      <td>https://www.congress.gov/img/member/a000369_20...</td>\n",
       "    </tr>\n",
       "    <tr>\n",
       "      <th>Office address</th>\n",
       "      <td>272 Cannon House Office Building, Washington, ...</td>\n",
       "      <td>1524 Longworth House Office Building, Washingt...</td>\n",
       "      <td>104 Cannon House Office Building, Washington, ...</td>\n",
       "    </tr>\n",
       "    <tr>\n",
       "      <th>Phone</th>\n",
       "      <td>(202) 225-4876</td>\n",
       "      <td>(202) 225-5931</td>\n",
       "      <td>(202) 225-6155</td>\n",
       "    </tr>\n",
       "    <tr>\n",
       "      <th>Website</th>\n",
       "      <td>https://aderholt.house.gov/</td>\n",
       "      <td>https://auchincloss.house.gov</td>\n",
       "      <td>https://amodei.house.gov</td>\n",
       "    </tr>\n",
       "    <tr>\n",
       "      <th>fec_id</th>\n",
       "      <td>H6AL04098</td>\n",
       "      <td>H0MA04192</td>\n",
       "      <td>H2NV02395</td>\n",
       "    </tr>\n",
       "    <tr>\n",
       "      <th>bioname</th>\n",
       "      <td>ADERHOLT, Robert</td>\n",
       "      <td>AUCHINCLOSS, Jake</td>\n",
       "      <td>AMODEI, Mark E.</td>\n",
       "    </tr>\n",
       "    <tr>\n",
       "      <th>chamber</th>\n",
       "      <td>House</td>\n",
       "      <td>House</td>\n",
       "      <td>House</td>\n",
       "    </tr>\n",
       "    <tr>\n",
       "      <th>left_right_ideology</th>\n",
       "      <td>0.405</td>\n",
       "      <td>-0.288</td>\n",
       "      <td>0.384</td>\n",
       "    </tr>\n",
       "    <tr>\n",
       "      <th>state_abbrev</th>\n",
       "      <td>AL</td>\n",
       "      <td>MA</td>\n",
       "      <td>NV</td>\n",
       "    </tr>\n",
       "    <tr>\n",
       "      <th>district_code</th>\n",
       "      <td>4</td>\n",
       "      <td>4</td>\n",
       "      <td>2</td>\n",
       "    </tr>\n",
       "    <tr>\n",
       "      <th>icpsr</th>\n",
       "      <td>29701</td>\n",
       "      <td>22100</td>\n",
       "      <td>21196</td>\n",
       "    </tr>\n",
       "    <tr>\n",
       "      <th>party</th>\n",
       "      <td>Republican</td>\n",
       "      <td>Democrat</td>\n",
       "      <td>Republican</td>\n",
       "    </tr>\n",
       "  </tbody>\n",
       "</table>\n",
       "</div>"
      ],
      "text/plain": [
       "                                                                     0  \\\n",
       "bioguide_id                                                    A000055   \n",
       "Full name                                           Robert B. Aderholt   \n",
       "Chamber                                       House of Representatives   \n",
       "State                                                          Alabama   \n",
       "Party                                                       Republican   \n",
       "District                                                           4.0   \n",
       "birthYear                                                       1965.0   \n",
       "image                https://www.congress.gov/img/member/a000055_20...   \n",
       "Office address       272 Cannon House Office Building, Washington, ...   \n",
       "Phone                                                   (202) 225-4876   \n",
       "Website                                    https://aderholt.house.gov/   \n",
       "fec_id                                                       H6AL04098   \n",
       "bioname                                               ADERHOLT, Robert   \n",
       "chamber                                                          House   \n",
       "left_right_ideology                                              0.405   \n",
       "state_abbrev                                                        AL   \n",
       "district_code                                                        4   \n",
       "icpsr                                                            29701   \n",
       "party                                                       Republican   \n",
       "\n",
       "                                                                     1  \\\n",
       "bioguide_id                                                    A000148   \n",
       "Full name                                             Jake Auchincloss   \n",
       "Chamber                                       House of Representatives   \n",
       "State                                                    Massachusetts   \n",
       "Party                                                       Democratic   \n",
       "District                                                           4.0   \n",
       "birthYear                                                       1988.0   \n",
       "image                https://www.congress.gov/img/member/67817e391f...   \n",
       "Office address       1524 Longworth House Office Building, Washingt...   \n",
       "Phone                                                   (202) 225-5931   \n",
       "Website                                  https://auchincloss.house.gov   \n",
       "fec_id                                                       H0MA04192   \n",
       "bioname                                              AUCHINCLOSS, Jake   \n",
       "chamber                                                          House   \n",
       "left_right_ideology                                             -0.288   \n",
       "state_abbrev                                                        MA   \n",
       "district_code                                                        4   \n",
       "icpsr                                                            22100   \n",
       "party                                                         Democrat   \n",
       "\n",
       "                                                                     2  \n",
       "bioguide_id                                                    A000369  \n",
       "Full name                                               Mark E. Amodei  \n",
       "Chamber                                       House of Representatives  \n",
       "State                                                           Nevada  \n",
       "Party                                                       Republican  \n",
       "District                                                           2.0  \n",
       "birthYear                                                       1958.0  \n",
       "image                https://www.congress.gov/img/member/a000369_20...  \n",
       "Office address       104 Cannon House Office Building, Washington, ...  \n",
       "Phone                                                   (202) 225-6155  \n",
       "Website                                       https://amodei.house.gov  \n",
       "fec_id                                                       H2NV02395  \n",
       "bioname                                                AMODEI, Mark E.  \n",
       "chamber                                                          House  \n",
       "left_right_ideology                                              0.384  \n",
       "state_abbrev                                                        NV  \n",
       "district_code                                                        2  \n",
       "icpsr                                                            21196  \n",
       "party                                                       Republican  "
      ]
     },
     "execution_count": 83,
     "metadata": {},
     "output_type": "execute_result"
    }
   ],
   "source": [
    "members.head(3).T"
   ]
  },
  {
   "cell_type": "code",
   "execution_count": 84,
   "id": "732d59a3",
   "metadata": {},
   "outputs": [],
   "source": [
    "members = members.drop(['Chamber', 'Party', 'District', 'State'], axis=1)\n"
   ]
  },
  {
   "cell_type": "code",
   "execution_count": 85,
   "id": "1fe7b6e0",
   "metadata": {},
   "outputs": [],
   "source": [
    "members.columns = [c.lower().replace(' ', '_') for c in members.columns]"
   ]
  },
  {
   "cell_type": "code",
   "execution_count": 86,
   "id": "b9a855fc",
   "metadata": {},
   "outputs": [
    {
     "data": {
      "text/html": [
       "<div>\n",
       "<style scoped>\n",
       "    .dataframe tbody tr th:only-of-type {\n",
       "        vertical-align: middle;\n",
       "    }\n",
       "\n",
       "    .dataframe tbody tr th {\n",
       "        vertical-align: top;\n",
       "    }\n",
       "\n",
       "    .dataframe thead th {\n",
       "        text-align: right;\n",
       "    }\n",
       "</style>\n",
       "<table border=\"1\" class=\"dataframe\">\n",
       "  <thead>\n",
       "    <tr style=\"text-align: right;\">\n",
       "      <th></th>\n",
       "      <th>0</th>\n",
       "      <th>1</th>\n",
       "      <th>2</th>\n",
       "    </tr>\n",
       "  </thead>\n",
       "  <tbody>\n",
       "    <tr>\n",
       "      <th>bioguide_id</th>\n",
       "      <td>A000055</td>\n",
       "      <td>A000148</td>\n",
       "      <td>A000369</td>\n",
       "    </tr>\n",
       "    <tr>\n",
       "      <th>full_name</th>\n",
       "      <td>Robert B. Aderholt</td>\n",
       "      <td>Jake Auchincloss</td>\n",
       "      <td>Mark E. Amodei</td>\n",
       "    </tr>\n",
       "    <tr>\n",
       "      <th>birthyear</th>\n",
       "      <td>1965.0</td>\n",
       "      <td>1988.0</td>\n",
       "      <td>1958.0</td>\n",
       "    </tr>\n",
       "    <tr>\n",
       "      <th>image</th>\n",
       "      <td>https://www.congress.gov/img/member/a000055_20...</td>\n",
       "      <td>https://www.congress.gov/img/member/67817e391f...</td>\n",
       "      <td>https://www.congress.gov/img/member/a000369_20...</td>\n",
       "    </tr>\n",
       "    <tr>\n",
       "      <th>office_address</th>\n",
       "      <td>272 Cannon House Office Building, Washington, ...</td>\n",
       "      <td>1524 Longworth House Office Building, Washingt...</td>\n",
       "      <td>104 Cannon House Office Building, Washington, ...</td>\n",
       "    </tr>\n",
       "    <tr>\n",
       "      <th>phone</th>\n",
       "      <td>(202) 225-4876</td>\n",
       "      <td>(202) 225-5931</td>\n",
       "      <td>(202) 225-6155</td>\n",
       "    </tr>\n",
       "    <tr>\n",
       "      <th>website</th>\n",
       "      <td>https://aderholt.house.gov/</td>\n",
       "      <td>https://auchincloss.house.gov</td>\n",
       "      <td>https://amodei.house.gov</td>\n",
       "    </tr>\n",
       "    <tr>\n",
       "      <th>fec_id</th>\n",
       "      <td>H6AL04098</td>\n",
       "      <td>H0MA04192</td>\n",
       "      <td>H2NV02395</td>\n",
       "    </tr>\n",
       "    <tr>\n",
       "      <th>bioname</th>\n",
       "      <td>ADERHOLT, Robert</td>\n",
       "      <td>AUCHINCLOSS, Jake</td>\n",
       "      <td>AMODEI, Mark E.</td>\n",
       "    </tr>\n",
       "    <tr>\n",
       "      <th>chamber</th>\n",
       "      <td>House</td>\n",
       "      <td>House</td>\n",
       "      <td>House</td>\n",
       "    </tr>\n",
       "    <tr>\n",
       "      <th>left_right_ideology</th>\n",
       "      <td>0.405</td>\n",
       "      <td>-0.288</td>\n",
       "      <td>0.384</td>\n",
       "    </tr>\n",
       "    <tr>\n",
       "      <th>state_abbrev</th>\n",
       "      <td>AL</td>\n",
       "      <td>MA</td>\n",
       "      <td>NV</td>\n",
       "    </tr>\n",
       "    <tr>\n",
       "      <th>district_code</th>\n",
       "      <td>4</td>\n",
       "      <td>4</td>\n",
       "      <td>2</td>\n",
       "    </tr>\n",
       "    <tr>\n",
       "      <th>icpsr</th>\n",
       "      <td>29701</td>\n",
       "      <td>22100</td>\n",
       "      <td>21196</td>\n",
       "    </tr>\n",
       "    <tr>\n",
       "      <th>party</th>\n",
       "      <td>Republican</td>\n",
       "      <td>Democrat</td>\n",
       "      <td>Republican</td>\n",
       "    </tr>\n",
       "  </tbody>\n",
       "</table>\n",
       "</div>"
      ],
      "text/plain": [
       "                                                                     0  \\\n",
       "bioguide_id                                                    A000055   \n",
       "full_name                                           Robert B. Aderholt   \n",
       "birthyear                                                       1965.0   \n",
       "image                https://www.congress.gov/img/member/a000055_20...   \n",
       "office_address       272 Cannon House Office Building, Washington, ...   \n",
       "phone                                                   (202) 225-4876   \n",
       "website                                    https://aderholt.house.gov/   \n",
       "fec_id                                                       H6AL04098   \n",
       "bioname                                               ADERHOLT, Robert   \n",
       "chamber                                                          House   \n",
       "left_right_ideology                                              0.405   \n",
       "state_abbrev                                                        AL   \n",
       "district_code                                                        4   \n",
       "icpsr                                                            29701   \n",
       "party                                                       Republican   \n",
       "\n",
       "                                                                     1  \\\n",
       "bioguide_id                                                    A000148   \n",
       "full_name                                             Jake Auchincloss   \n",
       "birthyear                                                       1988.0   \n",
       "image                https://www.congress.gov/img/member/67817e391f...   \n",
       "office_address       1524 Longworth House Office Building, Washingt...   \n",
       "phone                                                   (202) 225-5931   \n",
       "website                                  https://auchincloss.house.gov   \n",
       "fec_id                                                       H0MA04192   \n",
       "bioname                                              AUCHINCLOSS, Jake   \n",
       "chamber                                                          House   \n",
       "left_right_ideology                                             -0.288   \n",
       "state_abbrev                                                        MA   \n",
       "district_code                                                        4   \n",
       "icpsr                                                            22100   \n",
       "party                                                         Democrat   \n",
       "\n",
       "                                                                     2  \n",
       "bioguide_id                                                    A000369  \n",
       "full_name                                               Mark E. Amodei  \n",
       "birthyear                                                       1958.0  \n",
       "image                https://www.congress.gov/img/member/a000369_20...  \n",
       "office_address       104 Cannon House Office Building, Washington, ...  \n",
       "phone                                                   (202) 225-6155  \n",
       "website                                       https://amodei.house.gov  \n",
       "fec_id                                                       H2NV02395  \n",
       "bioname                                                AMODEI, Mark E.  \n",
       "chamber                                                          House  \n",
       "left_right_ideology                                              0.384  \n",
       "state_abbrev                                                        NV  \n",
       "district_code                                                        2  \n",
       "icpsr                                                            21196  \n",
       "party                                                       Republican  "
      ]
     },
     "execution_count": 86,
     "metadata": {},
     "output_type": "execute_result"
    }
   ],
   "source": [
    "members.head(3).T"
   ]
  },
  {
   "cell_type": "code",
   "execution_count": 87,
   "id": "3f6f655c",
   "metadata": {},
   "outputs": [],
   "source": [
    "members.to_csv('../data/thirdNF/members.csv', index=False)"
   ]
  },
  {
   "cell_type": "code",
   "execution_count": 88,
   "id": "6fb72710",
   "metadata": {},
   "outputs": [
    {
     "data": {
      "text/html": [
       "<div>\n",
       "<style scoped>\n",
       "    .dataframe tbody tr th:only-of-type {\n",
       "        vertical-align: middle;\n",
       "    }\n",
       "\n",
       "    .dataframe tbody tr th {\n",
       "        vertical-align: top;\n",
       "    }\n",
       "\n",
       "    .dataframe thead th {\n",
       "        text-align: right;\n",
       "    }\n",
       "</style>\n",
       "<table border=\"1\" class=\"dataframe\">\n",
       "  <thead>\n",
       "    <tr style=\"text-align: right;\">\n",
       "      <th></th>\n",
       "      <th>0</th>\n",
       "      <th>1</th>\n",
       "      <th>2</th>\n",
       "    </tr>\n",
       "  </thead>\n",
       "  <tbody>\n",
       "    <tr>\n",
       "      <th>actionDate</th>\n",
       "      <td>2025-10-15</td>\n",
       "      <td>2025-10-08</td>\n",
       "      <td>2025-10-08</td>\n",
       "    </tr>\n",
       "    <tr>\n",
       "      <th>actionDesc</th>\n",
       "      <td>Introduced in Senate</td>\n",
       "      <td>Introduced in House</td>\n",
       "      <td>Introduced in House</td>\n",
       "    </tr>\n",
       "    <tr>\n",
       "      <th>currentChamber</th>\n",
       "      <td>Senate</td>\n",
       "      <td>House</td>\n",
       "      <td>House</td>\n",
       "    </tr>\n",
       "    <tr>\n",
       "      <th>currentChamberCode</th>\n",
       "      <td>S</td>\n",
       "      <td>H</td>\n",
       "      <td>H</td>\n",
       "    </tr>\n",
       "    <tr>\n",
       "      <th>lastSummaryUpdateDate</th>\n",
       "      <td>2025-10-20T19:23:02Z</td>\n",
       "      <td>2025-10-20T14:56:29Z</td>\n",
       "      <td>2025-10-20T14:06:32Z</td>\n",
       "    </tr>\n",
       "    <tr>\n",
       "      <th>text</th>\n",
       "      <td>&lt;p&gt;&lt;strong&gt;Shutdown Fairness Act&lt;/strong&gt;&lt;/p&gt;&lt;...</td>\n",
       "      <td>&lt;p&gt;&lt;strong&gt;Federal Worker Childcare Protection...</td>\n",
       "      <td>&lt;p&gt;This bill requires the federal government t...</td>\n",
       "    </tr>\n",
       "    <tr>\n",
       "      <th>updateDate</th>\n",
       "      <td>2025-10-20T19:23:15Z</td>\n",
       "      <td>2025-10-20T14:56:58Z</td>\n",
       "      <td>2025-10-20T14:07:00Z</td>\n",
       "    </tr>\n",
       "    <tr>\n",
       "      <th>versionCode</th>\n",
       "      <td>0</td>\n",
       "      <td>0</td>\n",
       "      <td>0</td>\n",
       "    </tr>\n",
       "    <tr>\n",
       "      <th>bill.congress</th>\n",
       "      <td>119</td>\n",
       "      <td>119</td>\n",
       "      <td>119</td>\n",
       "    </tr>\n",
       "    <tr>\n",
       "      <th>bill.number</th>\n",
       "      <td>3012</td>\n",
       "      <td>5720</td>\n",
       "      <td>5705</td>\n",
       "    </tr>\n",
       "    <tr>\n",
       "      <th>bill.originChamber</th>\n",
       "      <td>Senate</td>\n",
       "      <td>House</td>\n",
       "      <td>House</td>\n",
       "    </tr>\n",
       "    <tr>\n",
       "      <th>bill.originChamberCode</th>\n",
       "      <td>S</td>\n",
       "      <td>H</td>\n",
       "      <td>H</td>\n",
       "    </tr>\n",
       "    <tr>\n",
       "      <th>bill.title</th>\n",
       "      <td>Shutdown Fairness Act</td>\n",
       "      <td>Federal Worker Childcare Protection Act of 2025</td>\n",
       "      <td>To authorize the reimbursement by the Federal ...</td>\n",
       "    </tr>\n",
       "    <tr>\n",
       "      <th>bill.type</th>\n",
       "      <td>S</td>\n",
       "      <td>HR</td>\n",
       "      <td>HR</td>\n",
       "    </tr>\n",
       "    <tr>\n",
       "      <th>bill.updateDateIncludingText</th>\n",
       "      <td>2025-10-21</td>\n",
       "      <td>2025-10-20</td>\n",
       "      <td>2025-10-20</td>\n",
       "    </tr>\n",
       "    <tr>\n",
       "      <th>bill.url</th>\n",
       "      <td>https://api.congress.gov/v3/bill/119/s/3012?fo...</td>\n",
       "      <td>https://api.congress.gov/v3/bill/119/hr/5720?f...</td>\n",
       "      <td>https://api.congress.gov/v3/bill/119/hr/5705?f...</td>\n",
       "    </tr>\n",
       "  </tbody>\n",
       "</table>\n",
       "</div>"
      ],
      "text/plain": [
       "                                                                              0  \\\n",
       "actionDate                                                           2025-10-15   \n",
       "actionDesc                                                 Introduced in Senate   \n",
       "currentChamber                                                           Senate   \n",
       "currentChamberCode                                                            S   \n",
       "lastSummaryUpdateDate                                      2025-10-20T19:23:02Z   \n",
       "text                          <p><strong>Shutdown Fairness Act</strong></p><...   \n",
       "updateDate                                                 2025-10-20T19:23:15Z   \n",
       "versionCode                                                                   0   \n",
       "bill.congress                                                               119   \n",
       "bill.number                                                                3012   \n",
       "bill.originChamber                                                       Senate   \n",
       "bill.originChamberCode                                                        S   \n",
       "bill.title                                                Shutdown Fairness Act   \n",
       "bill.type                                                                     S   \n",
       "bill.updateDateIncludingText                                         2025-10-21   \n",
       "bill.url                      https://api.congress.gov/v3/bill/119/s/3012?fo...   \n",
       "\n",
       "                                                                              1  \\\n",
       "actionDate                                                           2025-10-08   \n",
       "actionDesc                                                  Introduced in House   \n",
       "currentChamber                                                            House   \n",
       "currentChamberCode                                                            H   \n",
       "lastSummaryUpdateDate                                      2025-10-20T14:56:29Z   \n",
       "text                          <p><strong>Federal Worker Childcare Protection...   \n",
       "updateDate                                                 2025-10-20T14:56:58Z   \n",
       "versionCode                                                                   0   \n",
       "bill.congress                                                               119   \n",
       "bill.number                                                                5720   \n",
       "bill.originChamber                                                        House   \n",
       "bill.originChamberCode                                                        H   \n",
       "bill.title                      Federal Worker Childcare Protection Act of 2025   \n",
       "bill.type                                                                    HR   \n",
       "bill.updateDateIncludingText                                         2025-10-20   \n",
       "bill.url                      https://api.congress.gov/v3/bill/119/hr/5720?f...   \n",
       "\n",
       "                                                                              2  \n",
       "actionDate                                                           2025-10-08  \n",
       "actionDesc                                                  Introduced in House  \n",
       "currentChamber                                                            House  \n",
       "currentChamberCode                                                            H  \n",
       "lastSummaryUpdateDate                                      2025-10-20T14:06:32Z  \n",
       "text                          <p>This bill requires the federal government t...  \n",
       "updateDate                                                 2025-10-20T14:07:00Z  \n",
       "versionCode                                                                   0  \n",
       "bill.congress                                                               119  \n",
       "bill.number                                                                5705  \n",
       "bill.originChamber                                                        House  \n",
       "bill.originChamberCode                                                        H  \n",
       "bill.title                    To authorize the reimbursement by the Federal ...  \n",
       "bill.type                                                                    HR  \n",
       "bill.updateDateIncludingText                                         2025-10-20  \n",
       "bill.url                      https://api.congress.gov/v3/bill/119/hr/5705?f...  "
      ]
     },
     "execution_count": 88,
     "metadata": {},
     "output_type": "execute_result"
    }
   ],
   "source": [
    "bill_summaries.head(3).T"
   ]
  },
  {
   "cell_type": "code",
   "execution_count": 89,
   "id": "96a9cf69",
   "metadata": {},
   "outputs": [
    {
     "name": "stdout",
     "output_type": "stream",
     "text": [
      "actionDate\n",
      "False\n",
      "actionDesc\n",
      "False\n",
      "currentChamber\n",
      "False\n",
      "currentChamberCode\n",
      "False\n",
      "lastSummaryUpdateDate\n",
      "False\n",
      "text\n",
      "False\n",
      "updateDate\n",
      "False\n",
      "versionCode\n",
      "False\n",
      "bill.congress\n",
      "True\n",
      "bill.number\n",
      "True\n",
      "bill.originChamber\n",
      "True\n",
      "bill.originChamberCode\n",
      "True\n",
      "bill.title\n",
      "True\n",
      "bill.type\n",
      "True\n",
      "bill.updateDateIncludingText\n",
      "True\n",
      "bill.url\n",
      "True\n"
     ]
    }
   ],
   "source": [
    "for c in bill_summaries.columns:\n",
    "        print(c)\n",
    "        d = bill_summaries.groupby(['bill.type', 'bill.number']).agg({c: 'nunique'})\n",
    "        print(np.mean(d[c]) == 1)"
   ]
  },
  {
   "cell_type": "code",
   "execution_count": 90,
   "id": "6b72f1b4",
   "metadata": {},
   "outputs": [],
   "source": [
    "bills = bill_summaries[['bill.type', 'bill.number', 'bill.congress', 'bill.originChamber', \n",
    "                       'bill.originChamberCode', 'bill.title', 'bill.updateDateIncludingText',\n",
    "                       'bill.url']].drop_duplicates()\n",
    "bills.columns = [c.lower().replace('.', '_') for c in bills.columns]\n",
    "bills.to_csv('../data/thirdNF/bills.csv')\n"
   ]
  },
  {
   "cell_type": "code",
   "execution_count": 91,
   "id": "6431f227",
   "metadata": {},
   "outputs": [],
   "source": [
    "bill_versions = bill_summaries.drop(['bill.congress', 'bill.originChamber', \n",
    "                       'bill.originChamberCode', 'bill.title', 'bill.updateDateIncludingText',\n",
    "                       'bill.url'], axis=1)"
   ]
  },
  {
   "cell_type": "code",
   "execution_count": 92,
   "id": "7bd01ba4",
   "metadata": {},
   "outputs": [],
   "source": [
    "bill_versions .columns = [c.lower().replace('.', '_') for c in bill_versions.columns]\n",
    "bill_versions.to_csv('../data/thirdNF/bill_versions.csv')"
   ]
  },
  {
   "cell_type": "code",
   "execution_count": 93,
   "id": "9a8fd8ca",
   "metadata": {},
   "outputs": [
    {
     "data": {
      "text/html": [
       "<div>\n",
       "<style scoped>\n",
       "    .dataframe tbody tr th:only-of-type {\n",
       "        vertical-align: middle;\n",
       "    }\n",
       "\n",
       "    .dataframe tbody tr th {\n",
       "        vertical-align: top;\n",
       "    }\n",
       "\n",
       "    .dataframe thead th {\n",
       "        text-align: right;\n",
       "    }\n",
       "</style>\n",
       "<table border=\"1\" class=\"dataframe\">\n",
       "  <thead>\n",
       "    <tr style=\"text-align: right;\">\n",
       "      <th></th>\n",
       "      <th>0</th>\n",
       "      <th>1</th>\n",
       "      <th>2</th>\n",
       "    </tr>\n",
       "  </thead>\n",
       "  <tbody>\n",
       "    <tr>\n",
       "      <th>bioname</th>\n",
       "      <td>GRASSLEY, Charles Ernest</td>\n",
       "      <td>GRASSLEY, Charles Ernest</td>\n",
       "      <td>GRASSLEY, Charles Ernest</td>\n",
       "    </tr>\n",
       "    <tr>\n",
       "      <th>comparison_member</th>\n",
       "      <td>MARKEY, Edward John</td>\n",
       "      <td>SCHUMER, Charles Ellis (Chuck)</td>\n",
       "      <td>WYDEN, Ronald Lee</td>\n",
       "    </tr>\n",
       "    <tr>\n",
       "      <th>agree</th>\n",
       "      <td>0.021053</td>\n",
       "      <td>0.07193</td>\n",
       "      <td>0.052632</td>\n",
       "    </tr>\n",
       "  </tbody>\n",
       "</table>\n",
       "</div>"
      ],
      "text/plain": [
       "                                          0                               1  \\\n",
       "bioname            GRASSLEY, Charles Ernest        GRASSLEY, Charles Ernest   \n",
       "comparison_member       MARKEY, Edward John  SCHUMER, Charles Ellis (Chuck)   \n",
       "agree                              0.021053                         0.07193   \n",
       "\n",
       "                                          2  \n",
       "bioname            GRASSLEY, Charles Ernest  \n",
       "comparison_member         WYDEN, Ronald Lee  \n",
       "agree                              0.052632  "
      ]
     },
     "execution_count": 93,
     "metadata": {},
     "output_type": "execute_result"
    }
   ],
   "source": [
    "vote_compare.head(3).T"
   ]
  },
  {
   "cell_type": "code",
   "execution_count": 94,
   "id": "27f5bc2b",
   "metadata": {},
   "outputs": [],
   "source": [
    "vote_compare.to_csv('../data/thirdNF/vote_compare.csv', index=False)"
   ]
  },
  {
   "cell_type": "code",
   "execution_count": null,
   "id": "ddaa5e11",
   "metadata": {},
   "outputs": [],
   "source": []
  }
 ],
 "metadata": {
  "kernelspec": {
   "display_name": "ds6001",
   "language": "python",
   "name": "python3"
  },
  "language_info": {
   "codemirror_mode": {
    "name": "ipython",
    "version": 3
   },
   "file_extension": ".py",
   "mimetype": "text/x-python",
   "name": "python",
   "nbconvert_exporter": "python",
   "pygments_lexer": "ipython3",
   "version": "3.13.5"
  }
 },
 "nbformat": 4,
 "nbformat_minor": 5
}
